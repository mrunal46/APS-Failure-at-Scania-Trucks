{
 "cells": [
  {
   "cell_type": "markdown",
   "metadata": {},
   "source": [
    "# Let us try doing some kind of Feature Engineering to reduce the total cost.\n",
    "\n",
    "# 3. Feature Engineering\n",
    "\n",
    "- From the above ML models on three different Imputation techniques, Random Forest with median imputation provides the least cost. Therefore we will perform feature engineering on train and test data with median imputation. We will also use Random Forest model, since it gave the best performance.\n",
    "\n",
    "- For FE, we will use median imputation to fill the missing data and we will create new features called missing indicator, which creates new features where missing values are indicated as True and non missing values as False."
   ]
  },
  {
   "cell_type": "code",
   "execution_count": 2,
   "metadata": {},
   "outputs": [],
   "source": [
    "# loading the train and test dataset with missing indicator features.\n",
    "train = pd.read_csv(\"Train_imputed_median\")\n",
    "test = pd.read_csv(\"test_imputed_median\")\n",
    "train_miss = pd.read_csv(\"train_miss_indi.csv\")\n",
    "test_miss = pd.read_csv(\"test_miss_indi.csv\")\n",
    "y_train = pd.read_csv(\"y_train\")\n",
    "y_test = pd.read_csv(\"y_test\")"
   ]
  },
  {
   "cell_type": "code",
   "execution_count": 3,
   "metadata": {},
   "outputs": [],
   "source": [
    "train.drop(['Unnamed: 0'],axis = 1,inplace = True)\n",
    "test.drop(['Unnamed: 0'],axis = 1,inplace = True)\n",
    "train_miss.drop(['Unnamed: 0'],axis = 1,inplace = True)\n",
    "test_miss.drop(['Unnamed: 0'],axis = 1,inplace = True)\n",
    "y_train.drop(['Unnamed: 0'],axis = 1,inplace = True)\n",
    "y_test.drop(['Unnamed: 0'],axis = 1,inplace = True)"
   ]
  },
  {
   "cell_type": "code",
   "execution_count": 4,
   "metadata": {},
   "outputs": [],
   "source": [
    "train['class'] = y_train"
   ]
  },
  {
   "cell_type": "code",
   "execution_count": 5,
   "metadata": {},
   "outputs": [],
   "source": [
    "train[train_miss.columns] = train_miss\n",
    "test[test_miss.columns] = test_miss\n"
   ]
  },
  {
   "cell_type": "code",
   "execution_count": 6,
   "metadata": {},
   "outputs": [],
   "source": [
    "# Downsampling the negative class\n",
    "train_neg_sampled = train[train['class'] == 0].sample(n = 10000,random_state = 42)\n",
    "train_Sampled = train[train['class'] == 1].append(train_neg_sampled)"
   ]
  },
  {
   "cell_type": "code",
   "execution_count": 7,
   "metadata": {},
   "outputs": [
    {
     "name": "stdout",
     "output_type": "stream",
     "text": [
      "Shape of the train data after under sampling the negative class 11000\n"
     ]
    }
   ],
   "source": [
    "print(\"Shape of the train data after under sampling the negative class\", train_Sampled.shape[0])"
   ]
  },
  {
   "cell_type": "code",
   "execution_count": 8,
   "metadata": {},
   "outputs": [
    {
     "data": {
      "text/html": [
       "<div>\n",
       "<style scoped>\n",
       "    .dataframe tbody tr th:only-of-type {\n",
       "        vertical-align: middle;\n",
       "    }\n",
       "\n",
       "    .dataframe tbody tr th {\n",
       "        vertical-align: top;\n",
       "    }\n",
       "\n",
       "    .dataframe thead th {\n",
       "        text-align: right;\n",
       "    }\n",
       "</style>\n",
       "<table border=\"1\" class=\"dataframe\">\n",
       "  <thead>\n",
       "    <tr style=\"text-align: right;\">\n",
       "      <th></th>\n",
       "      <th>aa_000</th>\n",
       "      <th>ac_000</th>\n",
       "      <th>ad_000</th>\n",
       "      <th>ae_000</th>\n",
       "      <th>af_000</th>\n",
       "      <th>ag_000</th>\n",
       "      <th>ag_001</th>\n",
       "      <th>ag_002</th>\n",
       "      <th>ag_003</th>\n",
       "      <th>ag_004</th>\n",
       "      <th>...</th>\n",
       "      <th>149</th>\n",
       "      <th>150</th>\n",
       "      <th>151</th>\n",
       "      <th>152</th>\n",
       "      <th>153</th>\n",
       "      <th>154</th>\n",
       "      <th>155</th>\n",
       "      <th>156</th>\n",
       "      <th>157</th>\n",
       "      <th>158</th>\n",
       "    </tr>\n",
       "  </thead>\n",
       "  <tbody>\n",
       "    <tr>\n",
       "      <th>9</th>\n",
       "      <td>153204.0</td>\n",
       "      <td>182.0</td>\n",
       "      <td>126.0</td>\n",
       "      <td>0.0</td>\n",
       "      <td>0.0</td>\n",
       "      <td>0.0</td>\n",
       "      <td>0.0</td>\n",
       "      <td>0.0</td>\n",
       "      <td>11804.0</td>\n",
       "      <td>684444.0</td>\n",
       "      <td>...</td>\n",
       "      <td>False</td>\n",
       "      <td>False</td>\n",
       "      <td>False</td>\n",
       "      <td>False</td>\n",
       "      <td>False</td>\n",
       "      <td>False</td>\n",
       "      <td>False</td>\n",
       "      <td>False</td>\n",
       "      <td>False</td>\n",
       "      <td>False</td>\n",
       "    </tr>\n",
       "    <tr>\n",
       "      <th>23</th>\n",
       "      <td>453236.0</td>\n",
       "      <td>2926.0</td>\n",
       "      <td>126.0</td>\n",
       "      <td>0.0</td>\n",
       "      <td>0.0</td>\n",
       "      <td>0.0</td>\n",
       "      <td>0.0</td>\n",
       "      <td>222.0</td>\n",
       "      <td>323436.0</td>\n",
       "      <td>2999280.0</td>\n",
       "      <td>...</td>\n",
       "      <td>False</td>\n",
       "      <td>False</td>\n",
       "      <td>False</td>\n",
       "      <td>False</td>\n",
       "      <td>False</td>\n",
       "      <td>False</td>\n",
       "      <td>False</td>\n",
       "      <td>False</td>\n",
       "      <td>False</td>\n",
       "      <td>False</td>\n",
       "    </tr>\n",
       "    <tr>\n",
       "      <th>60</th>\n",
       "      <td>72504.0</td>\n",
       "      <td>1594.0</td>\n",
       "      <td>1052.0</td>\n",
       "      <td>0.0</td>\n",
       "      <td>0.0</td>\n",
       "      <td>0.0</td>\n",
       "      <td>244.0</td>\n",
       "      <td>178226.0</td>\n",
       "      <td>1249396.0</td>\n",
       "      <td>3813464.0</td>\n",
       "      <td>...</td>\n",
       "      <td>False</td>\n",
       "      <td>False</td>\n",
       "      <td>False</td>\n",
       "      <td>False</td>\n",
       "      <td>False</td>\n",
       "      <td>False</td>\n",
       "      <td>False</td>\n",
       "      <td>False</td>\n",
       "      <td>False</td>\n",
       "      <td>False</td>\n",
       "    </tr>\n",
       "  </tbody>\n",
       "</table>\n",
       "<p>3 rows × 320 columns</p>\n",
       "</div>"
      ],
      "text/plain": [
       "      aa_000  ac_000  ad_000  ae_000  af_000  ag_000  ag_001    ag_002  \\\n",
       "9   153204.0   182.0   126.0     0.0     0.0     0.0     0.0       0.0   \n",
       "23  453236.0  2926.0   126.0     0.0     0.0     0.0     0.0     222.0   \n",
       "60   72504.0  1594.0  1052.0     0.0     0.0     0.0   244.0  178226.0   \n",
       "\n",
       "       ag_003     ag_004  ...      149    150    151    152    153    154  \\\n",
       "9     11804.0   684444.0  ...    False  False  False  False  False  False   \n",
       "23   323436.0  2999280.0  ...    False  False  False  False  False  False   \n",
       "60  1249396.0  3813464.0  ...    False  False  False  False  False  False   \n",
       "\n",
       "      155    156    157    158  \n",
       "9   False  False  False  False  \n",
       "23  False  False  False  False  \n",
       "60  False  False  False  False  \n",
       "\n",
       "[3 rows x 320 columns]"
      ]
     },
     "execution_count": 8,
     "metadata": {},
     "output_type": "execute_result"
    }
   ],
   "source": [
    "train_Sampled.head(3)"
   ]
  },
  {
   "cell_type": "markdown",
   "metadata": {},
   "source": [
    "- columns from 0 to 158 are the missing indicator features. Where False is basically indicating the non missing values and true indicates the missing values. missing values can also be treated as features."
   ]
  },
  {
   "cell_type": "code",
   "execution_count": 9,
   "metadata": {},
   "outputs": [],
   "source": [
    "y_train = train_Sampled['class']\n",
    "train_Sampled.drop(['class'],axis = 1, inplace= True)"
   ]
  },
  {
   "cell_type": "code",
   "execution_count": 10,
   "metadata": {},
   "outputs": [],
   "source": [
    "#Upsampling the positive class\n",
    "sm = over_sampling.SMOTE(ratio= 1.0)\n",
    "train_Sampled_Smote, y_train = sm.fit_sample(train_Sampled,y_train)"
   ]
  },
  {
   "cell_type": "code",
   "execution_count": 11,
   "metadata": {},
   "outputs": [
    {
     "name": "stdout",
     "output_type": "stream",
     "text": [
      "Shape of train data after upsampling the positive class by smote (20000, 319)\n"
     ]
    }
   ],
   "source": [
    "print(\"Shape of train data after upsampling the positive class by smote\", train_Sampled_Smote.shape)"
   ]
  },
  {
   "cell_type": "code",
   "execution_count": 12,
   "metadata": {},
   "outputs": [],
   "source": [
    "# Standardizing the train and test data\n",
    "std = StandardScaler()\n",
    "train_std = std.fit_transform(train_Sampled_Smote)\n",
    "test_std = std.transform(test)\n"
   ]
  },
  {
   "cell_type": "markdown",
   "metadata": {},
   "source": [
    "# 3.1 Random Forest"
   ]
  },
  {
   "cell_type": "code",
   "execution_count": 18,
   "metadata": {},
   "outputs": [
    {
     "name": "stdout",
     "output_type": "stream",
     "text": [
      "Fitting 5 folds for each of 15 candidates, totalling 75 fits\n"
     ]
    },
    {
     "name": "stderr",
     "output_type": "stream",
     "text": [
      "[Parallel(n_jobs=-1)]: Using backend LokyBackend with 12 concurrent workers.\n",
      "[Parallel(n_jobs=-1)]: Done   1 tasks      | elapsed:   10.2s\n",
      "[Parallel(n_jobs=-1)]: Done   8 tasks      | elapsed:   15.4s\n",
      "[Parallel(n_jobs=-1)]: Done  17 tasks      | elapsed:  1.2min\n",
      "[Parallel(n_jobs=-1)]: Done  26 tasks      | elapsed:  1.8min\n",
      "[Parallel(n_jobs=-1)]: Done  37 tasks      | elapsed:  2.5min\n",
      "[Parallel(n_jobs=-1)]: Done  48 tasks      | elapsed:  3.9min\n",
      "[Parallel(n_jobs=-1)]: Done  60 out of  75 | elapsed:  5.3min remaining:  1.3min\n",
      "[Parallel(n_jobs=-1)]: Done  68 out of  75 | elapsed:  7.6min remaining:   46.7s\n",
      "[Parallel(n_jobs=-1)]: Done  75 out of  75 | elapsed:  8.3min finished\n"
     ]
    },
    {
     "name": "stdout",
     "output_type": "stream",
     "text": [
      "Best estimator is {'max_depth': 10, 'n_estimators': 100}\n"
     ]
    }
   ],
   "source": [
    "# model fitting and hyperparameter tuning using gridsearch\n",
    "x_cfl=RandomForestClassifier()\n",
    "#weights = np.linspace(0.05, 0.95, 20)\n",
    "prams={\n",
    "     'n_estimators':[100,200,500,1000,2000],\n",
    "     'max_depth':[3,5,10]#,'class_weight': [{0: x, 1: 1.0-x} for x in weights]\n",
    "    \n",
    "    \n",
    "}\n",
    "model=GridSearchCV(x_cfl,param_grid=prams,verbose=10,n_jobs=-1,scoring='f1',cv=5)\n",
    "model.fit(train_std,y_train)\n",
    "print(\"Best estimator is\", model.best_params_)"
   ]
  },
  {
   "cell_type": "code",
   "execution_count": 19,
   "metadata": {},
   "outputs": [
    {
     "name": "stdout",
     "output_type": "stream",
     "text": [
      "---------------------------------------------------------------------------------------------------------------------\n",
      "Confusion Matrix:  \n",
      " [[15199   426]\n",
      " [   16   359]]\n",
      "---------------------------------------------------------------------------------------------------------------------\n",
      "Type 1 error (False Positive) =  426\n",
      "Type 2 error (False Negative) =  16\n",
      "---------------------------------------------------------------------------------------------------------------------\n",
      "Total cost =  12260\n",
      "---------------------------------------------------------------------------------------------------------------------\n"
     ]
    }
   ],
   "source": [
    "# model fitting with best parameters\n",
    "clf = RandomForestClassifier(n_estimators= 100 , max_depth=10)\n",
    "clf.fit(train_std,y_train)\n",
    "y_pred = clf.predict(test_std)\n",
    "con_mat =confusion_matrix (y_test, y_pred)\n",
    "print(\"-\"*117)\n",
    "print('Confusion Matrix: ', '\\n',con_mat)\n",
    "print(\"-\"*117)\n",
    "print(\"Type 1 error (False Positive) = \", con_mat[0][1])\n",
    "print(\"Type 2 error (False Negative) = \", con_mat[1][0])\n",
    "print(\"-\"*117)\n",
    "print(\"Total cost = \", con_mat[0][1] * 10 + con_mat[1][0] * 500)\n",
    "print(\"-\"*117)"
   ]
  },
  {
   "cell_type": "code",
   "execution_count": 20,
   "metadata": {
    "scrolled": false
   },
   "outputs": [
    {
     "data": {
      "image/png": "[encoded data removed]",
      "text/plain": [
       "<Figure size 1080x360 with 2 Axes>"
      ]
     },
     "metadata": {},
     "output_type": "display_data"
    }
   ],
   "source": [
    "# CV to determine the best threshold\n",
    "trail = 10\n",
    "plot = []\n",
    "for x in range(0,trail):\n",
    "    train, test, y_tr, y_ts = train_test_split(train_std, y_train, stratify = y_train, train_size = 0.7)\n",
    "    clf.fit(train,y_tr)\n",
    "    pred = clf.predict_proba(test)[:,1]\n",
    "    precision, recall, thresholds = precision_recall_curve(y_ts, pred)\n",
    "    thresholds = np.append(thresholds,1)\n",
    "      \n",
    "    costs = []\n",
    "    for threshold in thresholds:\n",
    "        y_pred_thres = pred > threshold\n",
    "        c = confusion_matrix(y_ts,y_pred_thres)\n",
    "        cost = c[0,1] * 10 + c[1,0] * 500\n",
    "        costs.append(cost)\n",
    "        \n",
    "    plot.append({'threshold': thresholds, 'precision':precision,'recall': recall, 'costs':costs})\n",
    "    \n",
    "\n",
    "plt.figure(figsize=(15,5))\n",
    "plt.subplot(1,3,1)\n",
    "for x in plot:\n",
    "    plt.plot(x['threshold'],x['precision'],'r')\n",
    "    plt.plot(x['threshold'],x['recall'],'g')\n",
    "    \n",
    "plt.legend(('precision','recall'))\n",
    "plt.xlabel('Threshold')\n",
    "plt.ylabel(\"Precision/Recall\")\n",
    "\n",
    "plt.subplot(1,3,3)\n",
    "for x in plot:\n",
    "    plt.plot(x['threshold'],x['costs'],'y')\n",
    "plt.legend(('costs'))\n",
    "plt.xlabel('Threshold')\n",
    "plt.ylabel(\"cost\")\n",
    "plt.show()"
   ]
  },
  {
   "cell_type": "markdown",
   "metadata": {},
   "source": [
    "- At 0.2, we observe that precision is almost more than 95% and recall is almost around 98%. We want our recall to be near to 100% and at the same time we also want our precision to be high. "
   ]
  },
  {
   "cell_type": "code",
   "execution_count": 22,
   "metadata": {
    "scrolled": true
   },
   "outputs": [
    {
     "name": "stdout",
     "output_type": "stream",
     "text": [
      "---------------------------------------------------------------------------------------------------------------------\n",
      "Type 1 error (False Positive) =  892\n",
      "Type 2 error (False Negative) =  3\n",
      "---------------------------------------------------------------------------------------------------------------------\n",
      "Total cost =  10420\n",
      "---------------------------------------------------------------------------------------------------------------------\n"
     ]
    }
   ],
   "source": [
    "clf.fit(train_std,y_train)\n",
    "y_pred_prob = clf.predict_proba(test_std)[:,1]  > 0.20\n",
    "con_mat =confusion_matrix (y_test, y_pred_prob)\n",
    "print(\"-\"*117)\n",
    "print(\"Type 1 error (False Positive) = \", con_mat[0][1])\n",
    "print(\"Type 2 error (False Negative) = \", con_mat[1][0])\n",
    "print(\"-\"*117)\n",
    "print(\"Total cost = \", con_mat[0][1] * 10 + con_mat[1][0] * 500)\n",
    "print(\"-\"*117)"
   ]
  }
 ],
 "metadata": {
  "kernelspec": {
   "display_name": "Python 3",
   "language": "python",
   "name": "python3"
  },
  "language_info": {
   "codemirror_mode": {
    "name": "ipython",
    "version": 3
   },
   "file_extension": ".py",
   "mimetype": "text/x-python",
   "name": "python",
   "nbconvert_exporter": "python",
   "pygments_lexer": "ipython3",
   "version": "3.6.5"
  }
 },
 "nbformat": 4,
 "nbformat_minor": 2
}
