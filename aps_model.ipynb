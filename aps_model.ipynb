{
 "cells": [
  {
   "cell_type": "markdown",
   "metadata": {},
   "source": [
    "## Machine Learning Models for APS failure "
   ]
  },
  {
   "cell_type": "code",
   "execution_count": 88,
   "metadata": {},
   "outputs": [],
   "source": [
    "# Importing all the necessary libraries\n",
    "import numpy as np\n",
    "import pandas as pd\n",
    "from tqdm import tqdm \n",
    "import matplotlib.pyplot as plt\n",
    "from sklearn.impute import SimpleImputer\n",
    "from sklearn.decomposition import TruncatedSVD\n",
    "from xgboost import XGBClassifier\n",
    "from sklearn.model_selection import RandomizedSearchCV,GridSearchCV,KFold\n",
    "from sklearn.metrics import confusion_matrix,f1_score,log_loss,roc_curve,recall_score,precision_recall_curve,precision_score,fbeta_score\n",
    "from sklearn.linear_model import LogisticRegression,SGDClassifier\n",
    "from sklearn.ensemble import RandomForestClassifier\n",
    "from sklearn.svm import LinearSVC\n",
    "from sklearn.preprocessing import StandardScaler,MinMaxScaler\n",
    "import seaborn as sns\n",
    "import missingno as msno\n",
    "from sklearn.decomposition import PCA\n",
    "from datetime import datetime\n",
    "from imblearn import over_sampling\n",
    "from sklearn.model_selection import train_test_split\n",
    "import warnings\n",
    "warnings.filterwarnings(\"ignore\")\n",
    "from prettytable import PrettyTable"
   ]
  },
  {
   "cell_type": "markdown",
   "metadata": {},
   "source": [
    "# 1. Machine Learning Models:\n",
    "\n",
    "- Since the dataset is highly imbalanced, the negative class is undersampled and the positive class is upsampled, so that we have a balanced dataset.\n",
    "\n",
    "\n",
    "- Following ML models are tried to get the minimum cost using Median, mean and most frequent impute\n",
    "  - Logistic Regression\n",
    "  - XgBoost Classifier\n",
    "  - Random Forest Classifier  \n",
    "    \n",
    "\n",
    "- Error metric used is F1 score.  \n",
    "Total cost = FN * 500 + FP * 10   \n",
    "Where FN is also called as Type 2 error and FP is called as Type 1 error. The challenge is to find an optimal model so that the total cost is minimized. The cost can be minimized by reducing FN, therefore we can tune the ML model to have a better recall, but this could lead to increase in the number of FP. To reduce the FP we will then need to tune my models to have a better precision, but that inturn would lead to increase in FN. F1 is an overall measure of a model’s accuracy that combines precision and recall. A good F1 score means that you have low false positives and low false negatives.\n"
   ]
  },
  {
   "cell_type": "markdown",
   "metadata": {},
   "source": [
    "# 2.1 ML models using  Median Impute"
   ]
  },
  {
   "cell_type": "code",
   "execution_count": 70,
   "metadata": {},
   "outputs": [],
   "source": [
    "# Reading the train and test dataset where missing values are imputed using median\n",
    "train = pd.read_csv(\"Train_imputed_median\")\n",
    "test = pd.read_csv(\"test_imputed_median\")\n",
    "y_train = pd.read_csv(\"y_train\")\n",
    "y_test = pd.read_csv(\"y_test\")"
   ]
  },
  {
   "cell_type": "code",
   "execution_count": 71,
   "metadata": {},
   "outputs": [],
   "source": [
    "train.drop(['Unnamed: 0'],axis = 1,inplace = True)\n",
    "test.drop(['Unnamed: 0'],axis = 1,inplace = True)\n",
    "y_train.drop(['Unnamed: 0'],axis = 1,inplace = True)\n",
    "y_test.drop(['Unnamed: 0'],axis = 1,inplace = True)"
   ]
  },
  {
   "cell_type": "code",
   "execution_count": 72,
   "metadata": {},
   "outputs": [],
   "source": [
    "train['class'] = y_train"
   ]
  },
  {
   "cell_type": "code",
   "execution_count": 73,
   "metadata": {},
   "outputs": [],
   "source": [
    "#Undersampling the negative class\n",
    "train_neg_sampled = train[train['class'] == 0].sample(n = 10000,random_state = 42)\n",
    "train_Sampled = train[train['class'] == 1].append(train_neg_sampled)"
   ]
  },
  {
   "cell_type": "code",
   "execution_count": 74,
   "metadata": {},
   "outputs": [
    {
     "name": "stdout",
     "output_type": "stream",
     "text": [
      "Shape of the train data after under sampling the negative class 11000\n"
     ]
    }
   ],
   "source": [
    "print(\"Shape of the train data after under sampling the negative class\", train_Sampled.shape[0])"
   ]
  },
  {
   "cell_type": "code",
   "execution_count": 75,
   "metadata": {},
   "outputs": [
    {
     "data": {
      "text/html": [
       "<div>\n",
       "<style scoped>\n",
       "    .dataframe tbody tr th:only-of-type {\n",
       "        vertical-align: middle;\n",
       "    }\n",
       "\n",
       "    .dataframe tbody tr th {\n",
       "        vertical-align: top;\n",
       "    }\n",
       "\n",
       "    .dataframe thead th {\n",
       "        text-align: right;\n",
       "    }\n",
       "</style>\n",
       "<table border=\"1\" class=\"dataframe\">\n",
       "  <thead>\n",
       "    <tr style=\"text-align: right;\">\n",
       "      <th></th>\n",
       "      <th>aa_000</th>\n",
       "      <th>ac_000</th>\n",
       "      <th>ad_000</th>\n",
       "      <th>ae_000</th>\n",
       "      <th>af_000</th>\n",
       "      <th>ag_000</th>\n",
       "      <th>ag_001</th>\n",
       "      <th>ag_002</th>\n",
       "      <th>ag_003</th>\n",
       "      <th>ag_004</th>\n",
       "      <th>...</th>\n",
       "      <th>ee_003</th>\n",
       "      <th>ee_004</th>\n",
       "      <th>ee_005</th>\n",
       "      <th>ee_006</th>\n",
       "      <th>ee_007</th>\n",
       "      <th>ee_008</th>\n",
       "      <th>ee_009</th>\n",
       "      <th>ef_000</th>\n",
       "      <th>eg_000</th>\n",
       "      <th>class</th>\n",
       "    </tr>\n",
       "  </thead>\n",
       "  <tbody>\n",
       "    <tr>\n",
       "      <th>9</th>\n",
       "      <td>153204.0</td>\n",
       "      <td>182.0</td>\n",
       "      <td>126.0</td>\n",
       "      <td>0.0</td>\n",
       "      <td>0.0</td>\n",
       "      <td>0.0</td>\n",
       "      <td>0.0</td>\n",
       "      <td>0.0</td>\n",
       "      <td>11804.0</td>\n",
       "      <td>684444.0</td>\n",
       "      <td>...</td>\n",
       "      <td>26872.0</td>\n",
       "      <td>34044.0</td>\n",
       "      <td>22472.0</td>\n",
       "      <td>34362.0</td>\n",
       "      <td>0.0</td>\n",
       "      <td>0.0</td>\n",
       "      <td>0.0</td>\n",
       "      <td>0.0</td>\n",
       "      <td>0.0</td>\n",
       "      <td>1</td>\n",
       "    </tr>\n",
       "    <tr>\n",
       "      <th>23</th>\n",
       "      <td>453236.0</td>\n",
       "      <td>2926.0</td>\n",
       "      <td>126.0</td>\n",
       "      <td>0.0</td>\n",
       "      <td>0.0</td>\n",
       "      <td>0.0</td>\n",
       "      <td>0.0</td>\n",
       "      <td>222.0</td>\n",
       "      <td>323436.0</td>\n",
       "      <td>2999280.0</td>\n",
       "      <td>...</td>\n",
       "      <td>3026002.0</td>\n",
       "      <td>5025350.0</td>\n",
       "      <td>2025766.0</td>\n",
       "      <td>1160638.0</td>\n",
       "      <td>533834.0</td>\n",
       "      <td>493800.0</td>\n",
       "      <td>6914.0</td>\n",
       "      <td>0.0</td>\n",
       "      <td>0.0</td>\n",
       "      <td>1</td>\n",
       "    </tr>\n",
       "    <tr>\n",
       "      <th>60</th>\n",
       "      <td>72504.0</td>\n",
       "      <td>1594.0</td>\n",
       "      <td>1052.0</td>\n",
       "      <td>0.0</td>\n",
       "      <td>0.0</td>\n",
       "      <td>0.0</td>\n",
       "      <td>244.0</td>\n",
       "      <td>178226.0</td>\n",
       "      <td>1249396.0</td>\n",
       "      <td>3813464.0</td>\n",
       "      <td>...</td>\n",
       "      <td>372252.0</td>\n",
       "      <td>527514.0</td>\n",
       "      <td>358274.0</td>\n",
       "      <td>332818.0</td>\n",
       "      <td>284178.0</td>\n",
       "      <td>3742.0</td>\n",
       "      <td>0.0</td>\n",
       "      <td>0.0</td>\n",
       "      <td>0.0</td>\n",
       "      <td>1</td>\n",
       "    </tr>\n",
       "  </tbody>\n",
       "</table>\n",
       "<p>3 rows × 161 columns</p>\n",
       "</div>"
      ],
      "text/plain": [
       "      aa_000  ac_000  ad_000  ae_000  af_000  ag_000  ag_001    ag_002  \\\n",
       "9   153204.0   182.0   126.0     0.0     0.0     0.0     0.0       0.0   \n",
       "23  453236.0  2926.0   126.0     0.0     0.0     0.0     0.0     222.0   \n",
       "60   72504.0  1594.0  1052.0     0.0     0.0     0.0   244.0  178226.0   \n",
       "\n",
       "       ag_003     ag_004  ...       ee_003     ee_004     ee_005     ee_006  \\\n",
       "9     11804.0   684444.0  ...      26872.0    34044.0    22472.0    34362.0   \n",
       "23   323436.0  2999280.0  ...    3026002.0  5025350.0  2025766.0  1160638.0   \n",
       "60  1249396.0  3813464.0  ...     372252.0   527514.0   358274.0   332818.0   \n",
       "\n",
       "      ee_007    ee_008  ee_009  ef_000  eg_000  class  \n",
       "9        0.0       0.0     0.0     0.0     0.0      1  \n",
       "23  533834.0  493800.0  6914.0     0.0     0.0      1  \n",
       "60  284178.0    3742.0     0.0     0.0     0.0      1  \n",
       "\n",
       "[3 rows x 161 columns]"
      ]
     },
     "execution_count": 75,
     "metadata": {},
     "output_type": "execute_result"
    }
   ],
   "source": [
    "train_Sampled.head(3)"
   ]
  },
  {
   "cell_type": "code",
   "execution_count": 76,
   "metadata": {},
   "outputs": [],
   "source": [
    "y_train = train_Sampled['class']\n",
    "train_Sampled.drop(['class'],axis = 1, inplace= True)"
   ]
  },
  {
   "cell_type": "code",
   "execution_count": 77,
   "metadata": {},
   "outputs": [],
   "source": [
    "# Upsampling the positive class using Smote Technique\n",
    "sm = over_sampling.SMOTE(ratio= 1.0)\n",
    "train_Sampled_Smote, y_train = sm.fit_sample(train_Sampled,y_train)"
   ]
  },
  {
   "cell_type": "code",
   "execution_count": 78,
   "metadata": {},
   "outputs": [
    {
     "name": "stdout",
     "output_type": "stream",
     "text": [
      "Shape of train data after upsampling the positive class by smote (20000, 160)\n"
     ]
    }
   ],
   "source": [
    "print(\"Shape of train data after upsampling the positive class by smote\", train_Sampled_Smote.shape)"
   ]
  },
  {
   "cell_type": "code",
   "execution_count": 79,
   "metadata": {},
   "outputs": [],
   "source": [
    "#Standardizing the data\n",
    "std = StandardScaler()\n",
    "train_std = std.fit_transform(train_Sampled_Smote)\n",
    "test_std = std.transform(test)\n"
   ]
  },
  {
   "cell_type": "markdown",
   "metadata": {},
   "source": [
    "# 2.1.1 Logistic Regression"
   ]
  },
  {
   "cell_type": "code",
   "execution_count": 16,
   "metadata": {},
   "outputs": [
    {
     "name": "stdout",
     "output_type": "stream",
     "text": [
      "Fitting 2 folds for each of 16 candidates, totalling 32 fits\n"
     ]
    },
    {
     "name": "stderr",
     "output_type": "stream",
     "text": [
      "[Parallel(n_jobs=-1)]: Using backend LokyBackend with 12 concurrent workers.\n",
      "[Parallel(n_jobs=-1)]: Done  26 out of  32 | elapsed:   40.2s remaining:    9.2s\n",
      "[Parallel(n_jobs=-1)]: Done  32 out of  32 | elapsed:  1.3min finished\n"
     ]
    },
    {
     "name": "stdout",
     "output_type": "stream",
     "text": [
      "Best estimator is {'C': 1000, 'penalty': 'l2'}\n"
     ]
    }
   ],
   "source": [
    "# Defining the LR model and performing the hyper parameter tuning using gridsearch\n",
    "#weights = np.linspace(0.05, 0.95, 20)\n",
    "params = {'C' : [\n",
    "                10**-4,10**-3,10**-2,10**-1,1,10**1,10**2,10**3],\n",
    "          'penalty': ['l1', 'l2']#,'class_weight': [{0: x, 1: 1.0-x} for x in weights]\n",
    "         }\n",
    "\n",
    "clf = LogisticRegression(n_jobs= -1,random_state=42)\n",
    "clf.fit(train_std,y_train)\n",
    "model = GridSearchCV(estimator=clf,cv = 2,n_jobs= -1,param_grid=params,scoring='f1',verbose= 2,)\n",
    "model.fit(train_std,y_train)\n",
    "print(\"Best estimator is\", model.best_params_)"
   ]
  },
  {
   "cell_type": "code",
   "execution_count": 50,
   "metadata": {},
   "outputs": [
    {
     "name": "stdout",
     "output_type": "stream",
     "text": [
      "---------------------------------------------------------------------------------------------------------------------\n",
      "Confusion Matrix:  \n",
      " [[15269   356]\n",
      " [   34   341]]\n",
      "---------------------------------------------------------------------------------------------------------------------\n",
      "Type 1 error (False Positive) =  356\n",
      "Type 2 error (False Negative) =  34\n",
      "---------------------------------------------------------------------------------------------------------------------\n",
      "Total cost =  20560\n",
      "---------------------------------------------------------------------------------------------------------------------\n"
     ]
    }
   ],
   "source": [
    "# model fitting using the best parameter.\n",
    "clf = LogisticRegression(n_jobs= -1,random_state=42,C= 1000,penalty= 'l2')\n",
    "clf.fit(train_std,y_train)\n",
    "y_pred = clf.predict(test_std)\n",
    "con_mat =confusion_matrix (y_test, y_pred)\n",
    "print(\"-\"*117)\n",
    "print('Confusion Matrix: ', '\\n',con_mat)\n",
    "print(\"-\"*117)\n",
    "print(\"Type 1 error (False Positive) = \", con_mat[0][1])\n",
    "print(\"Type 2 error (False Negative) = \", con_mat[1][0])\n",
    "print(\"-\"*117)\n",
    "print(\"Total cost = \", con_mat[0][1] * 10 + con_mat[1][0] * 500)\n",
    "print(\"-\"*117)"
   ]
  },
  {
   "cell_type": "markdown",
   "metadata": {},
   "source": [
    "- Lets try to reduce the total number of FN by adjusting the probability threshold.\n",
    "- A best threshold is decided using cross validation to find the least cost. In this process we will end up finding the optimal values for FN and FP."
   ]
  },
  {
   "cell_type": "code",
   "execution_count": 51,
   "metadata": {},
   "outputs": [
    {
     "data": {
      "image/png": "[encoded data removed]",
      "text/plain": [
       "<Figure size 1080x360 with 2 Axes>"
      ]
     },
     "metadata": {},
     "output_type": "display_data"
    }
   ],
   "source": [
    "# Cross Validation to find the best threshold.\n",
    "trail = 10\n",
    "plot = []\n",
    "for x in range(0,trail):\n",
    "    train, test, y_tr, y_ts = train_test_split(train_std, y_train, stratify = y_train, train_size = 0.7)\n",
    "    clf.fit(train,y_tr)\n",
    "    pred = clf.predict_proba(test)[:,1]\n",
    "    precision, recall, thresholds = precision_recall_curve(y_ts, pred)\n",
    "    thresholds = np.append(thresholds,1)\n",
    "      \n",
    "    costs = []\n",
    "    for threshold in thresholds:\n",
    "        y_pred_thres = pred > threshold\n",
    "        c = confusion_matrix(y_ts,y_pred_thres)\n",
    "        cost = c[0,1] * 10 + c[1,0] * 500\n",
    "        costs.append(cost)\n",
    "        \n",
    "    plot.append({'threshold': thresholds, 'precision':precision,'recall': recall, 'costs':costs})\n",
    "    \n",
    "# Plot of recall, precision v/s threshold and cost v/s threshold\n",
    "plt.figure(figsize=(15,5))\n",
    "plt.subplot(1,3,1)\n",
    "for x in plot:\n",
    "    plt.plot(x['threshold'],x['precision'],'r')\n",
    "    plt.plot(x['threshold'],x['recall'],'g')\n",
    "    \n",
    "plt.legend(('precision','recall'))\n",
    "plt.xlabel('Threshold')\n",
    "plt.ylabel(\"Precision/Recall\")\n",
    "\n",
    "plt.subplot(1,3,3)\n",
    "for x in plot:\n",
    "    plt.plot(x['threshold'],x['costs'],'y')\n",
    "plt.legend(('costs'))\n",
    "plt.xlabel('Threshold')\n",
    "plt.ylabel(\"cost\")\n",
    "plt.show()"
   ]
  },
  {
   "cell_type": "markdown",
   "metadata": {},
   "source": [
    "- At 0.2, we observe that precision is almost more than 95% and recall is almost around 98%. We want our recall to be near to 100% and at the same time we also want our precision to be high. "
   ]
  },
  {
   "cell_type": "code",
   "execution_count": 52,
   "metadata": {},
   "outputs": [
    {
     "name": "stdout",
     "output_type": "stream",
     "text": [
      "---------------------------------------------------------------------------------------------------------------------\n",
      "Type 1 error (False Positive) =  657\n",
      "Type 2 error (False Negative) =  24\n",
      "---------------------------------------------------------------------------------------------------------------------\n",
      "Total cost =  18570\n",
      "---------------------------------------------------------------------------------------------------------------------\n"
     ]
    }
   ],
   "source": [
    "# model fitting and finding the cost with best threshold.\n",
    "clf.fit(train_std,y_train)\n",
    "y_pred_prob = clf.predict_proba(test_std)[:,1]  > 0.2\n",
    "con_mat =confusion_matrix (y_test, y_pred_prob)\n",
    "print(\"-\"*117)\n",
    "print(\"Type 1 error (False Positive) = \", con_mat[0][1])\n",
    "print(\"Type 2 error (False Negative) = \", con_mat[1][0])\n",
    "print(\"-\"*117)\n",
    "print(\"Total cost = \", con_mat[0][1] * 10 + con_mat[1][0] * 500)\n",
    "print(\"-\"*117)"
   ]
  },
  {
   "cell_type": "markdown",
   "metadata": {},
   "source": [
    "# 2.1.2 XgBoost"
   ]
  },
  {
   "cell_type": "code",
   "execution_count": 39,
   "metadata": {},
   "outputs": [
    {
     "name": "stdout",
     "output_type": "stream",
     "text": [
      "Fitting 5 folds for each of 15 candidates, totalling 75 fits\n"
     ]
    },
    {
     "name": "stderr",
     "output_type": "stream",
     "text": [
      "[Parallel(n_jobs=-1)]: Using backend LokyBackend with 12 concurrent workers.\n",
      "[Parallel(n_jobs=-1)]: Done   1 tasks      | elapsed:   24.5s\n",
      "[Parallel(n_jobs=-1)]: Done   8 tasks      | elapsed:   45.8s\n",
      "[Parallel(n_jobs=-1)]: Done  17 tasks      | elapsed:  2.8min\n",
      "[Parallel(n_jobs=-1)]: Done  26 tasks      | elapsed:  4.6min\n",
      "[Parallel(n_jobs=-1)]: Done  37 tasks      | elapsed:  7.9min\n",
      "[Parallel(n_jobs=-1)]: Done  48 tasks      | elapsed: 12.0min\n",
      "[Parallel(n_jobs=-1)]: Done  60 out of  75 | elapsed: 16.6min remaining:  4.1min\n",
      "[Parallel(n_jobs=-1)]: Done  68 out of  75 | elapsed: 21.2min remaining:  2.2min\n",
      "[Parallel(n_jobs=-1)]: Done  75 out of  75 | elapsed: 28.7min finished\n"
     ]
    },
    {
     "name": "stdout",
     "output_type": "stream",
     "text": [
      "Best estimator is {'max_depth': 10, 'n_estimators': 2000}\n"
     ]
    }
   ],
   "source": [
    "# model fitting and hyper parameter tuning to find the best parameter.\n",
    "x_cfl=XGBClassifier()\n",
    "\n",
    "prams={\n",
    "    #'learning_rate':[0.01,0.03,0.05,0.1,0.15,0.2],\n",
    "     'n_estimators':[100,200,500,1000,2000],\n",
    "     'max_depth':[3,5,10],\n",
    "    #'colsample_bytree':[0.1,0.3,0.5,1],\n",
    "   # 'subsample':[0.1,0.3,0.5,1]\n",
    "}\n",
    "model=GridSearchCV(x_cfl,param_grid=prams,verbose=10,n_jobs=-1,scoring='f1',cv=5)\n",
    "model.fit(train_std,y_train)\n",
    "print(\"Best estimator is\", model.best_params_)"
   ]
  },
  {
   "cell_type": "code",
   "execution_count": 53,
   "metadata": {},
   "outputs": [
    {
     "name": "stdout",
     "output_type": "stream",
     "text": [
      "---------------------------------------------------------------------------------------------------------------------\n",
      "Confusion Matrix:  \n",
      " [[15446   179]\n",
      " [   34   341]]\n",
      "---------------------------------------------------------------------------------------------------------------------\n",
      "Type 1 error (False Positive) =  179\n",
      "Type 2 error (False Negative) =  34\n",
      "---------------------------------------------------------------------------------------------------------------------\n",
      "Total cost =  18790\n",
      "---------------------------------------------------------------------------------------------------------------------\n"
     ]
    }
   ],
   "source": [
    "#model fitting with the best parameter.\n",
    "clf = XGBClassifier(max_depth= 10,  n_estimators= 2000,n_jobs= -1)\n",
    "clf.fit(train_std,y_train)\n",
    "y_pred = clf.predict(test_std)\n",
    "con_mat =confusion_matrix (y_test, y_pred)\n",
    "print(\"-\"*117)\n",
    "print('Confusion Matrix: ', '\\n',con_mat)\n",
    "print(\"-\"*117)\n",
    "print(\"Type 1 error (False Positive) = \", con_mat[0][1])\n",
    "print(\"Type 2 error (False Negative) = \", con_mat[1][0])\n",
    "print(\"-\"*117)\n",
    "print(\"Total cost = \", con_mat[0][1] * 10 + con_mat[1][0] * 500)\n",
    "print(\"-\"*117)"
   ]
  },
  {
   "cell_type": "markdown",
   "metadata": {},
   "source": [
    "- Lets try to reduce the total number of FN by adjusting the probability threshold.\n",
    "- A best threshold is decided using cross validation to find the least cost. In this process we will end up finding the optimal values for FN and FP."
   ]
  },
  {
   "cell_type": "code",
   "execution_count": 54,
   "metadata": {},
   "outputs": [
    {
     "data": {
      "image/png": "[encoded data removed]",
      "text/plain": [
       "<Figure size 1080x360 with 2 Axes>"
      ]
     },
     "metadata": {},
     "output_type": "display_data"
    }
   ],
   "source": [
    "#Cv to find the best threshold to minimize the total cost.\n",
    "trail = 10\n",
    "plot = []\n",
    "for x in range(0,trail):\n",
    "    train, test, y_tr, y_ts = train_test_split(train_std, y_train, stratify = y_train, train_size = 0.7)\n",
    "    clf.fit(train,y_tr)\n",
    "    pred = clf.predict_proba(test)[:,1]\n",
    "    precision, recall, thresholds = precision_recall_curve(y_ts, pred)\n",
    "    thresholds = np.append(thresholds,1)\n",
    "      \n",
    "    costs = []\n",
    "    for threshold in thresholds:\n",
    "        y_pred_thres = pred > threshold\n",
    "        c = confusion_matrix(y_ts,y_pred_thres)\n",
    "        cost = c[0,1] * 10 + c[1,0] * 500\n",
    "        costs.append(cost)\n",
    "        \n",
    "    plot.append({'threshold': thresholds, 'precision':precision,'recall': recall, 'costs':costs})\n",
    "    \n",
    "\n",
    "plt.figure(figsize=(15,5))\n",
    "plt.subplot(1,3,1)\n",
    "for x in plot:\n",
    "    plt.plot(x['threshold'],x['precision'],'r')\n",
    "    plt.plot(x['threshold'],x['recall'],'g')\n",
    "    \n",
    "plt.legend(('precision','recall'))\n",
    "plt.xlabel('Threshold')\n",
    "plt.ylabel(\"Precision/Recall\")\n",
    "\n",
    "plt.subplot(1,3,3)\n",
    "for x in plot:\n",
    "    plt.plot(x['threshold'],x['costs'],'y')\n",
    "plt.legend(('costs'))\n",
    "plt.xlabel('Threshold')\n",
    "plt.ylabel(\"cost\")\n",
    "plt.show()"
   ]
  },
  {
   "cell_type": "markdown",
   "metadata": {},
   "source": [
    "- At 0.25, we observe that precision is almost more than 95% and recall is almost around 98%. We want our recall to be near to 100% and at the same time we also want our precision to be high. "
   ]
  },
  {
   "cell_type": "code",
   "execution_count": 43,
   "metadata": {},
   "outputs": [
    {
     "name": "stdout",
     "output_type": "stream",
     "text": [
      "---------------------------------------------------------------------------------------------------------------------\n",
      "Type 1 error (False Positive) =  244\n",
      "Type 2 error (False Negative) =  25\n",
      "---------------------------------------------------------------------------------------------------------------------\n",
      "Total cost =  14940\n",
      "---------------------------------------------------------------------------------------------------------------------\n"
     ]
    }
   ],
   "source": [
    "#model fitting and predicting using the best threshold.\n",
    "clf.fit(train_std,y_train)\n",
    "y_pred_prob = clf.predict_proba(test_std)[:,1]  > 0.25\n",
    "con_mat =confusion_matrix (y_test, y_pred_prob)\n",
    "print(\"-\"*117)\n",
    "print(\"Type 1 error (False Positive) = \", con_mat[0][1])\n",
    "print(\"Type 2 error (False Negative) = \", con_mat[1][0])\n",
    "print(\"-\"*117)\n",
    "print(\"Total cost = \", con_mat[0][1] * 10 + con_mat[1][0] * 500)\n",
    "print(\"-\"*117)"
   ]
  },
  {
   "cell_type": "markdown",
   "metadata": {},
   "source": [
    "# 2.1.3 Random Forest"
   ]
  },
  {
   "cell_type": "code",
   "execution_count": 42,
   "metadata": {},
   "outputs": [
    {
     "name": "stdout",
     "output_type": "stream",
     "text": [
      "Fitting 5 folds for each of 15 candidates, totalling 75 fits\n"
     ]
    },
    {
     "name": "stderr",
     "output_type": "stream",
     "text": [
      "[Parallel(n_jobs=-1)]: Using backend LokyBackend with 12 concurrent workers.\n",
      "[Parallel(n_jobs=-1)]: Done   1 tasks      | elapsed:    7.2s\n",
      "[Parallel(n_jobs=-1)]: Done   8 tasks      | elapsed:   12.4s\n",
      "[Parallel(n_jobs=-1)]: Done  17 tasks      | elapsed:   57.8s\n",
      "[Parallel(n_jobs=-1)]: Done  26 tasks      | elapsed:  1.6min\n",
      "[Parallel(n_jobs=-1)]: Done  37 tasks      | elapsed:  2.1min\n",
      "[Parallel(n_jobs=-1)]: Done  48 tasks      | elapsed:  3.4min\n",
      "[Parallel(n_jobs=-1)]: Done  60 out of  75 | elapsed:  4.8min remaining:  1.2min\n",
      "[Parallel(n_jobs=-1)]: Done  68 out of  75 | elapsed:  6.8min remaining:   41.8s\n",
      "[Parallel(n_jobs=-1)]: Done  75 out of  75 | elapsed:  7.7min finished\n"
     ]
    },
    {
     "name": "stdout",
     "output_type": "stream",
     "text": [
      "Best estimator is {'max_depth': 10, 'n_estimators': 1000}\n"
     ]
    }
   ],
   "source": [
    "# model fitting and hyperparamter tunning\n",
    "x_cfl=RandomForestClassifier()\n",
    "#weights = np.linspace(0.05, 0.95, 20)\n",
    "prams={\n",
    "     'n_estimators':[100,200,500,1000,2000],\n",
    "     'max_depth':[3,5,10]#,'class_weight': [{0: x, 1: 1.0-x} for x in weights]\n",
    "    \n",
    "    \n",
    "    \n",
    "}\n",
    "model=GridSearchCV(x_cfl,param_grid=prams,verbose=10,n_jobs=-1,scoring='f1',cv=5)\n",
    "model.fit(train_std,y_train)\n",
    "print(\"Best estimator is\", model.best_params_)"
   ]
  },
  {
   "cell_type": "code",
   "execution_count": null,
   "metadata": {},
   "outputs": [],
   "source": []
  },
  {
   "cell_type": "code",
   "execution_count": 80,
   "metadata": {},
   "outputs": [
    {
     "name": "stdout",
     "output_type": "stream",
     "text": [
      "---------------------------------------------------------------------------------------------------------------------\n",
      "Confusion Matrix:  \n",
      " [[15204   421]\n",
      " [   14   361]]\n",
      "---------------------------------------------------------------------------------------------------------------------\n",
      "Type 1 error (False Positive) =  421\n",
      "Type 2 error (False Negative) =  14\n",
      "---------------------------------------------------------------------------------------------------------------------\n",
      "Total cost =  11210\n",
      "---------------------------------------------------------------------------------------------------------------------\n"
     ]
    }
   ],
   "source": [
    "# model fitting using the best parameter and predicting the cost\n",
    "clf = RandomForestClassifier(n_estimators= 1000 , max_depth=10,n_jobs= -1)\n",
    "clf.fit(train_std,y_train)\n",
    "y_pred = clf.predict(test_std)\n",
    "con_mat =confusion_matrix (y_test, y_pred)\n",
    "print(\"-\"*117)\n",
    "print('Confusion Matrix: ', '\\n',con_mat)\n",
    "print(\"-\"*117)\n",
    "print(\"Type 1 error (False Positive) = \", con_mat[0][1])\n",
    "print(\"Type 2 error (False Negative) = \", con_mat[1][0])\n",
    "print(\"-\"*117)\n",
    "print(\"Total cost = \", con_mat[0][1] * 10 + con_mat[1][0] * 500)\n",
    "print(\"-\"*117)"
   ]
  },
  {
   "cell_type": "code",
   "execution_count": 46,
   "metadata": {},
   "outputs": [
    {
     "data": {
      "image/png": "[encoded data removed]",
      "text/plain": [
       "<Figure size 1080x360 with 2 Axes>"
      ]
     },
     "metadata": {},
     "output_type": "display_data"
    }
   ],
   "source": [
    "# CV to find the best threshold.\n",
    "trail = 10\n",
    "plot = []\n",
    "for x in range(0,trail):\n",
    "    train, test, y_tr, y_ts = train_test_split(train_std, y_train, stratify = y_train, train_size = 0.7)\n",
    "    clf.fit(train,y_tr)\n",
    "    pred = clf.predict_proba(test)[:,1]\n",
    "    precision, recall, thresholds = precision_recall_curve(y_ts, pred)\n",
    "    thresholds = np.append(thresholds,1)\n",
    "      \n",
    "    costs = []\n",
    "    for threshold in thresholds:\n",
    "        y_pred_thres = pred > threshold\n",
    "        c = confusion_matrix(y_ts,y_pred_thres)\n",
    "        cost = c[0,1] * 10 + c[1,0] * 500\n",
    "        costs.append(cost)\n",
    "        \n",
    "    plot.append({'threshold': thresholds, 'precision':precision,'recall': recall, 'costs':costs})\n",
    "    \n",
    "\n",
    "plt.figure(figsize=(15,5))\n",
    "plt.subplot(1,3,1)\n",
    "for x in plot:\n",
    "    plt.plot(x['threshold'],x['precision'],'r')\n",
    "    plt.plot(x['threshold'],x['recall'],'g')\n",
    "    \n",
    "plt.legend(('precision','recall'))\n",
    "plt.xlabel('Threshold')\n",
    "plt.ylabel(\"Precision/Recall\")\n",
    "\n",
    "plt.subplot(1,3,3)\n",
    "for x in plot:\n",
    "    plt.plot(x['threshold'],x['costs'],'y')\n",
    "plt.legend(('costs'))\n",
    "plt.xlabel('Threshold')\n",
    "plt.ylabel(\"cost\")\n",
    "plt.show()"
   ]
  },
  {
   "cell_type": "markdown",
   "metadata": {},
   "source": [
    "- At 0.25, we observe that precision is almost more than 95% and recall is almost around 98%. We want our recall to be near to 100% and at the same time we also want our precision to be high. "
   ]
  },
  {
   "cell_type": "code",
   "execution_count": 84,
   "metadata": {},
   "outputs": [
    {
     "name": "stdout",
     "output_type": "stream",
     "text": [
      "---------------------------------------------------------------------------------------------------------------------\n",
      "Type 1 error (False Positive) =  792\n",
      "Type 2 error (False Negative) =  4\n",
      "---------------------------------------------------------------------------------------------------------------------\n",
      "Total cost =  9920\n",
      "---------------------------------------------------------------------------------------------------------------------\n"
     ]
    }
   ],
   "source": [
    "clf.fit(train_std,y_train)\n",
    "y_pred_prob = clf.predict_proba(test_std)[:,1]  > 0.25\n",
    "con_mat =confusion_matrix (y_test, y_pred_prob)\n",
    "print(\"-\"*117)\n",
    "print(\"Type 1 error (False Positive) = \", con_mat[0][1])\n",
    "print(\"Type 2 error (False Negative) = \", con_mat[1][0])\n",
    "print(\"-\"*117)\n",
    "print(\"Total cost = \", con_mat[0][1] * 10 + con_mat[1][0] * 500)\n",
    "print(\"-\"*117)"
   ]
  },
  {
   "cell_type": "markdown",
   "metadata": {},
   "source": [
    "# 2.2 ML models using Mean Imputation"
   ]
  },
  {
   "cell_type": "code",
   "execution_count": 2,
   "metadata": {},
   "outputs": [],
   "source": [
    "# loading train and test dataset with nan values replaced with mean imputation\n",
    "train = pd.read_csv(\"Train_imputed_mean\")\n",
    "test = pd.read_csv(\"test_imputed_mean\")\n",
    "y_train = pd.read_csv(\"y_train\")\n",
    "y_test = pd.read_csv(\"y_test\")"
   ]
  },
  {
   "cell_type": "code",
   "execution_count": 3,
   "metadata": {},
   "outputs": [],
   "source": [
    "train.drop(['Unnamed: 0'],axis = 1,inplace = True)\n",
    "test.drop(['Unnamed: 0'],axis = 1,inplace = True)\n",
    "y_train.drop(['Unnamed: 0'],axis = 1,inplace = True)\n",
    "y_test.drop(['Unnamed: 0'],axis = 1,inplace = True)"
   ]
  },
  {
   "cell_type": "code",
   "execution_count": 4,
   "metadata": {},
   "outputs": [],
   "source": [
    "train['class'] = y_train"
   ]
  },
  {
   "cell_type": "code",
   "execution_count": 5,
   "metadata": {},
   "outputs": [],
   "source": [
    "# undersampling the negative class\n",
    "train_neg_sampled = train[train['class'] == 0].sample(n = 10000,random_state = 42)\n",
    "train_Sampled = train[train['class'] == 1].append(train_neg_sampled)"
   ]
  },
  {
   "cell_type": "code",
   "execution_count": 6,
   "metadata": {},
   "outputs": [
    {
     "name": "stdout",
     "output_type": "stream",
     "text": [
      "Shape of the train data after under sampling the negative class 11000\n"
     ]
    }
   ],
   "source": [
    "print(\"Shape of the train data after under sampling the negative class\", train_Sampled.shape[0])"
   ]
  },
  {
   "cell_type": "code",
   "execution_count": 7,
   "metadata": {},
   "outputs": [
    {
     "data": {
      "text/html": [
       "<div>\n",
       "<style scoped>\n",
       "    .dataframe tbody tr th:only-of-type {\n",
       "        vertical-align: middle;\n",
       "    }\n",
       "\n",
       "    .dataframe tbody tr th {\n",
       "        vertical-align: top;\n",
       "    }\n",
       "\n",
       "    .dataframe thead th {\n",
       "        text-align: right;\n",
       "    }\n",
       "</style>\n",
       "<table border=\"1\" class=\"dataframe\">\n",
       "  <thead>\n",
       "    <tr style=\"text-align: right;\">\n",
       "      <th></th>\n",
       "      <th>aa_000</th>\n",
       "      <th>ac_000</th>\n",
       "      <th>ad_000</th>\n",
       "      <th>ae_000</th>\n",
       "      <th>af_000</th>\n",
       "      <th>ag_000</th>\n",
       "      <th>ag_001</th>\n",
       "      <th>ag_002</th>\n",
       "      <th>ag_003</th>\n",
       "      <th>ag_004</th>\n",
       "      <th>...</th>\n",
       "      <th>ee_003</th>\n",
       "      <th>ee_004</th>\n",
       "      <th>ee_005</th>\n",
       "      <th>ee_006</th>\n",
       "      <th>ee_007</th>\n",
       "      <th>ee_008</th>\n",
       "      <th>ee_009</th>\n",
       "      <th>ef_000</th>\n",
       "      <th>eg_000</th>\n",
       "      <th>class</th>\n",
       "    </tr>\n",
       "  </thead>\n",
       "  <tbody>\n",
       "    <tr>\n",
       "      <th>9</th>\n",
       "      <td>153204.0</td>\n",
       "      <td>182.0</td>\n",
       "      <td>190620.639314</td>\n",
       "      <td>0.0</td>\n",
       "      <td>0.0</td>\n",
       "      <td>0.0</td>\n",
       "      <td>0.0</td>\n",
       "      <td>0.0</td>\n",
       "      <td>11804.0</td>\n",
       "      <td>684444.0</td>\n",
       "      <td>...</td>\n",
       "      <td>26872.0</td>\n",
       "      <td>34044.0</td>\n",
       "      <td>22472.0</td>\n",
       "      <td>34362.0</td>\n",
       "      <td>0.0</td>\n",
       "      <td>0.0</td>\n",
       "      <td>0.0</td>\n",
       "      <td>0.0</td>\n",
       "      <td>0.0</td>\n",
       "      <td>1</td>\n",
       "    </tr>\n",
       "    <tr>\n",
       "      <th>23</th>\n",
       "      <td>453236.0</td>\n",
       "      <td>2926.0</td>\n",
       "      <td>190620.639314</td>\n",
       "      <td>0.0</td>\n",
       "      <td>0.0</td>\n",
       "      <td>0.0</td>\n",
       "      <td>0.0</td>\n",
       "      <td>222.0</td>\n",
       "      <td>323436.0</td>\n",
       "      <td>2999280.0</td>\n",
       "      <td>...</td>\n",
       "      <td>3026002.0</td>\n",
       "      <td>5025350.0</td>\n",
       "      <td>2025766.0</td>\n",
       "      <td>1160638.0</td>\n",
       "      <td>533834.0</td>\n",
       "      <td>493800.0</td>\n",
       "      <td>6914.0</td>\n",
       "      <td>0.0</td>\n",
       "      <td>0.0</td>\n",
       "      <td>1</td>\n",
       "    </tr>\n",
       "    <tr>\n",
       "      <th>60</th>\n",
       "      <td>72504.0</td>\n",
       "      <td>1594.0</td>\n",
       "      <td>1052.000000</td>\n",
       "      <td>0.0</td>\n",
       "      <td>0.0</td>\n",
       "      <td>0.0</td>\n",
       "      <td>244.0</td>\n",
       "      <td>178226.0</td>\n",
       "      <td>1249396.0</td>\n",
       "      <td>3813464.0</td>\n",
       "      <td>...</td>\n",
       "      <td>372252.0</td>\n",
       "      <td>527514.0</td>\n",
       "      <td>358274.0</td>\n",
       "      <td>332818.0</td>\n",
       "      <td>284178.0</td>\n",
       "      <td>3742.0</td>\n",
       "      <td>0.0</td>\n",
       "      <td>0.0</td>\n",
       "      <td>0.0</td>\n",
       "      <td>1</td>\n",
       "    </tr>\n",
       "  </tbody>\n",
       "</table>\n",
       "<p>3 rows × 161 columns</p>\n",
       "</div>"
      ],
      "text/plain": [
       "      aa_000  ac_000         ad_000  ae_000  af_000  ag_000  ag_001    ag_002  \\\n",
       "9   153204.0   182.0  190620.639314     0.0     0.0     0.0     0.0       0.0   \n",
       "23  453236.0  2926.0  190620.639314     0.0     0.0     0.0     0.0     222.0   \n",
       "60   72504.0  1594.0    1052.000000     0.0     0.0     0.0   244.0  178226.0   \n",
       "\n",
       "       ag_003     ag_004  ...       ee_003     ee_004     ee_005     ee_006  \\\n",
       "9     11804.0   684444.0  ...      26872.0    34044.0    22472.0    34362.0   \n",
       "23   323436.0  2999280.0  ...    3026002.0  5025350.0  2025766.0  1160638.0   \n",
       "60  1249396.0  3813464.0  ...     372252.0   527514.0   358274.0   332818.0   \n",
       "\n",
       "      ee_007    ee_008  ee_009  ef_000  eg_000  class  \n",
       "9        0.0       0.0     0.0     0.0     0.0      1  \n",
       "23  533834.0  493800.0  6914.0     0.0     0.0      1  \n",
       "60  284178.0    3742.0     0.0     0.0     0.0      1  \n",
       "\n",
       "[3 rows x 161 columns]"
      ]
     },
     "execution_count": 7,
     "metadata": {},
     "output_type": "execute_result"
    }
   ],
   "source": [
    "train_Sampled.head(3)"
   ]
  },
  {
   "cell_type": "code",
   "execution_count": 8,
   "metadata": {},
   "outputs": [],
   "source": [
    "y_train = train_Sampled['class']\n",
    "train_Sampled.drop(['class'],axis = 1, inplace= True)"
   ]
  },
  {
   "cell_type": "code",
   "execution_count": 9,
   "metadata": {},
   "outputs": [],
   "source": [
    "# upsampling the positive class using smote to have balanced dataset.\n",
    "sm = over_sampling.SMOTE(ratio= 1.0)\n",
    "train_Sampled_Smote, y_train = sm.fit_sample(train_Sampled,y_train)"
   ]
  },
  {
   "cell_type": "code",
   "execution_count": 10,
   "metadata": {},
   "outputs": [
    {
     "name": "stdout",
     "output_type": "stream",
     "text": [
      "Shape of train data after upsampling the positive class by smote (20000, 160)\n"
     ]
    }
   ],
   "source": [
    "print(\"Shape of train data after upsampling the positive class by smote\", train_Sampled_Smote.shape)"
   ]
  },
  {
   "cell_type": "code",
   "execution_count": 11,
   "metadata": {},
   "outputs": [],
   "source": [
    "# Standardizing the train and test data.\n",
    "std = StandardScaler()\n",
    "train_std = std.fit_transform(train_Sampled_Smote)\n",
    "test_std = std.transform(test)\n"
   ]
  },
  {
   "cell_type": "markdown",
   "metadata": {},
   "source": [
    "# 2.2.1 Logistic Regression"
   ]
  },
  {
   "cell_type": "code",
   "execution_count": 13,
   "metadata": {},
   "outputs": [
    {
     "name": "stdout",
     "output_type": "stream",
     "text": [
      "Fitting 2 folds for each of 16 candidates, totalling 32 fits\n"
     ]
    },
    {
     "name": "stderr",
     "output_type": "stream",
     "text": [
      "[Parallel(n_jobs=-1)]: Using backend LokyBackend with 12 concurrent workers.\n",
      "[Parallel(n_jobs=-1)]: Done  26 out of  32 | elapsed:   28.7s remaining:    6.5s\n",
      "[Parallel(n_jobs=-1)]: Done  32 out of  32 | elapsed:   37.6s finished\n"
     ]
    },
    {
     "name": "stdout",
     "output_type": "stream",
     "text": [
      "Best estimator is {'C': 1000, 'penalty': 'l2'}\n"
     ]
    }
   ],
   "source": [
    "# model fitting and hyper parameter tuning using gridsearch\n",
    "#weights = np.linspace(0.05, 0.95, 20)\n",
    "params = {'C' : [\n",
    "                10**-4,10**-3,10**-2,10**-1,1,10**1,10**2,10**3],\n",
    "          'penalty': ['l1', 'l2']#,'class_weight': [{0: x, 1: 1.0-x} for x in weights]\n",
    "         }\n",
    "\n",
    "clf = LogisticRegression(n_jobs= -1,random_state=42)\n",
    "clf.fit(train_std,y_train)\n",
    "model = GridSearchCV(estimator=clf,cv = 2,n_jobs= -1,param_grid=params,scoring='f1',verbose= 2,)\n",
    "model.fit(train_std,y_train)\n",
    "print(\"Best estimator is\", model.best_params_)"
   ]
  },
  {
   "cell_type": "code",
   "execution_count": 14,
   "metadata": {},
   "outputs": [
    {
     "name": "stdout",
     "output_type": "stream",
     "text": [
      "---------------------------------------------------------------------------------------------------------------------\n",
      "Confusion Matrix:  \n",
      " [[15257   368]\n",
      " [   40   335]]\n",
      "---------------------------------------------------------------------------------------------------------------------\n",
      "Type 1 error (False Positive) =  368\n",
      "Type 2 error (False Negative) =  40\n",
      "---------------------------------------------------------------------------------------------------------------------\n",
      "Total cost =  23680\n",
      "---------------------------------------------------------------------------------------------------------------------\n"
     ]
    }
   ],
   "source": [
    "#model fitting using the best parameter.\n",
    "clf = LogisticRegression(n_jobs= -1,random_state=42,C= 1000,penalty= 'l2')\n",
    "clf.fit(train_std,y_train)\n",
    "y_pred = clf.predict(test_std)\n",
    "con_mat =confusion_matrix (y_test, y_pred)\n",
    "print(\"-\"*117)\n",
    "print('Confusion Matrix: ', '\\n',con_mat)\n",
    "print(\"-\"*117)\n",
    "print(\"Type 1 error (False Positive) = \", con_mat[0][1])\n",
    "print(\"Type 2 error (False Negative) = \", con_mat[1][0])\n",
    "print(\"-\"*117)\n",
    "print(\"Total cost = \", con_mat[0][1] * 10 + con_mat[1][0] * 500)\n",
    "print(\"-\"*117)"
   ]
  },
  {
   "cell_type": "code",
   "execution_count": 15,
   "metadata": {},
   "outputs": [
    {
     "data": {
      "image/png": "[encoded data removed]",
      "text/plain": [
       "<Figure size 1080x360 with 2 Axes>"
      ]
     },
     "metadata": {},
     "output_type": "display_data"
    }
   ],
   "source": [
    "# CV for determining the best threshold\n",
    "trail = 10\n",
    "plot = []\n",
    "for x in range(0,trail):\n",
    "    train, test, y_tr, y_ts = train_test_split(train_std, y_train, stratify = y_train, train_size = 0.7)\n",
    "    clf.fit(train,y_tr)\n",
    "    pred = clf.predict_proba(test)[:,1]\n",
    "    precision, recall, thresholds = precision_recall_curve(y_ts, pred)\n",
    "    thresholds = np.append(thresholds,1)\n",
    "      \n",
    "    costs = []\n",
    "    for threshold in thresholds:\n",
    "        y_pred_thres = pred > threshold\n",
    "        c = confusion_matrix(y_ts,y_pred_thres)\n",
    "        cost = c[0,1] * 10 + c[1,0] * 500\n",
    "        costs.append(cost)\n",
    "        \n",
    "    plot.append({'threshold': thresholds, 'precision':precision,'recall': recall, 'costs':costs})\n",
    "    \n",
    "\n",
    "plt.figure(figsize=(15,5))\n",
    "plt.subplot(1,3,1)\n",
    "for x in plot:\n",
    "    plt.plot(x['threshold'],x['precision'],'r')\n",
    "    plt.plot(x['threshold'],x['recall'],'g')\n",
    "    \n",
    "plt.legend(('precision','recall'))\n",
    "plt.xlabel('Threshold')\n",
    "plt.ylabel(\"Precision/Recall\")\n",
    "\n",
    "plt.subplot(1,3,3)\n",
    "for x in plot:\n",
    "    plt.plot(x['threshold'],x['costs'],'y')\n",
    "plt.legend(('costs'))\n",
    "plt.xlabel('Threshold')\n",
    "plt.ylabel(\"cost\")\n",
    "plt.show()"
   ]
  },
  {
   "cell_type": "markdown",
   "metadata": {},
   "source": [
    "- At 0.2, we observe that precision is almost more than 95% and recall is almost around 98%. We want our recall to be near to 100% and at the same time we also want our precision to be high. "
   ]
  },
  {
   "cell_type": "code",
   "execution_count": 16,
   "metadata": {},
   "outputs": [
    {
     "name": "stdout",
     "output_type": "stream",
     "text": [
      "---------------------------------------------------------------------------------------------------------------------\n",
      "Type 1 error (False Positive) =  730\n",
      "Type 2 error (False Negative) =  25\n",
      "---------------------------------------------------------------------------------------------------------------------\n",
      "Total cost =  19800\n",
      "---------------------------------------------------------------------------------------------------------------------\n"
     ]
    }
   ],
   "source": [
    "clf.fit(train_std,y_train)\n",
    "y_pred_prob = clf.predict_proba(test_std)[:,1]  > 0.20\n",
    "con_mat =confusion_matrix (y_test, y_pred_prob)\n",
    "print(\"-\"*117)\n",
    "print(\"Type 1 error (False Positive) = \", con_mat[0][1])\n",
    "print(\"Type 2 error (False Negative) = \", con_mat[1][0])\n",
    "print(\"-\"*117)\n",
    "print(\"Total cost = \", con_mat[0][1] * 10 + con_mat[1][0] * 500)\n",
    "print(\"-\"*117)"
   ]
  },
  {
   "cell_type": "markdown",
   "metadata": {},
   "source": [
    "# 2.2.2 XgBoost"
   ]
  },
  {
   "cell_type": "code",
   "execution_count": 21,
   "metadata": {},
   "outputs": [
    {
     "name": "stdout",
     "output_type": "stream",
     "text": [
      "Fitting 5 folds for each of 15 candidates, totalling 75 fits\n"
     ]
    },
    {
     "name": "stderr",
     "output_type": "stream",
     "text": [
      "[Parallel(n_jobs=-1)]: Using backend LokyBackend with 12 concurrent workers.\n",
      "[Parallel(n_jobs=-1)]: Done   1 tasks      | elapsed:   24.4s\n",
      "[Parallel(n_jobs=-1)]: Done   8 tasks      | elapsed:   47.2s\n",
      "[Parallel(n_jobs=-1)]: Done  17 tasks      | elapsed:  2.9min\n",
      "[Parallel(n_jobs=-1)]: Done  26 tasks      | elapsed:  4.8min\n",
      "[Parallel(n_jobs=-1)]: Done  37 tasks      | elapsed:  8.2min\n",
      "[Parallel(n_jobs=-1)]: Done  48 tasks      | elapsed: 12.2min\n",
      "[Parallel(n_jobs=-1)]: Done  60 out of  75 | elapsed: 16.9min remaining:  4.2min\n",
      "[Parallel(n_jobs=-1)]: Done  68 out of  75 | elapsed: 22.4min remaining:  2.3min\n",
      "[Parallel(n_jobs=-1)]: Done  75 out of  75 | elapsed: 29.5min finished\n"
     ]
    },
    {
     "name": "stdout",
     "output_type": "stream",
     "text": [
      "Best estimator is {'max_depth': 5, 'n_estimators': 500}\n"
     ]
    }
   ],
   "source": [
    "\n",
    "x_cfl=XGBClassifier(n_jobs = -1)\n",
    "prams={\n",
    "    'n_estimators':[100,200,500,1000,2000],\n",
    "     'max_depth':[3,5,10],\n",
    "    \n",
    "}\n",
    "model=GridSearchCV(x_cfl,param_grid=prams,verbose=10,n_jobs=-1,scoring='f1',cv=5)\n",
    "model.fit(train_std,y_train)\n",
    "print(\"Best estimator is\", model.best_params_)"
   ]
  },
  {
   "cell_type": "code",
   "execution_count": 22,
   "metadata": {},
   "outputs": [
    {
     "name": "stdout",
     "output_type": "stream",
     "text": [
      "---------------------------------------------------------------------------------------------------------------------\n",
      "Confusion Matrix:  \n",
      " [[15449   176]\n",
      " [   35   340]]\n",
      "---------------------------------------------------------------------------------------------------------------------\n",
      "Type 1 error (False Positive) =  176\n",
      "Type 2 error (False Negative) =  35\n",
      "---------------------------------------------------------------------------------------------------------------------\n",
      "Total cost =  19260\n",
      "---------------------------------------------------------------------------------------------------------------------\n"
     ]
    }
   ],
   "source": [
    "clf = XGBClassifier(max_depth= 5,n_estimators= 500,n_jobs= -1)\n",
    "clf.fit(train_std,y_train)\n",
    "y_pred = clf.predict(test_std)\n",
    "con_mat =confusion_matrix (y_test, y_pred)\n",
    "print(\"-\"*117)\n",
    "print('Confusion Matrix: ', '\\n',con_mat)\n",
    "print(\"-\"*117)\n",
    "print(\"Type 1 error (False Positive) = \", con_mat[0][1])\n",
    "print(\"Type 2 error (False Negative) = \", con_mat[1][0])\n",
    "print(\"-\"*117)\n",
    "print(\"Total cost = \", con_mat[0][1] * 10 + con_mat[1][0] * 500)\n",
    "print(\"-\"*117)"
   ]
  },
  {
   "cell_type": "code",
   "execution_count": 23,
   "metadata": {},
   "outputs": [
    {
     "data": {
      "image/png": "[encoded data removed]",
      "text/plain": [
       "<Figure size 1080x360 with 2 Axes>"
      ]
     },
     "metadata": {},
     "output_type": "display_data"
    }
   ],
   "source": [
    "# CV to determine the best threshold\n",
    "trail = 10\n",
    "plot = []\n",
    "for x in range(0,trail):\n",
    "    train, test, y_tr, y_ts = train_test_split(train_std, y_train, stratify = y_train, train_size = 0.7)\n",
    "    clf.fit(train,y_tr)\n",
    "    pred = clf.predict_proba(test)[:,1]\n",
    "    precision, recall, thresholds = precision_recall_curve(y_ts, pred)\n",
    "    thresholds = np.append(thresholds,1)\n",
    "      \n",
    "    costs = []\n",
    "    for threshold in thresholds:\n",
    "        y_pred_thres = pred > threshold\n",
    "        c = confusion_matrix(y_ts,y_pred_thres)\n",
    "        cost = c[0,1] * 10 + c[1,0] * 500\n",
    "        costs.append(cost)\n",
    "        \n",
    "    plot.append({'threshold': thresholds, 'precision':precision,'recall': recall, 'costs':costs})\n",
    "    \n",
    "\n",
    "plt.figure(figsize=(15,5))\n",
    "plt.subplot(1,3,1)\n",
    "for x in plot:\n",
    "    plt.plot(x['threshold'],x['precision'],'r')\n",
    "    plt.plot(x['threshold'],x['recall'],'g')\n",
    "    \n",
    "plt.legend(('precision','recall'))\n",
    "plt.xlabel('Threshold')\n",
    "plt.ylabel(\"Precision/Recall\")\n",
    "\n",
    "plt.subplot(1,3,3)\n",
    "for x in plot:\n",
    "    plt.plot(x['threshold'],x['costs'],'y')\n",
    "plt.legend(('costs'))\n",
    "plt.xlabel('Threshold')\n",
    "plt.ylabel(\"cost\")\n",
    "plt.show()"
   ]
  },
  {
   "cell_type": "markdown",
   "metadata": {},
   "source": [
    "- At 0.2, we observe that precision is almost more than 95% and recall is almost around 98%. We want our recall to be near to 100% and at the same time we also want our precision to be high. "
   ]
  },
  {
   "cell_type": "code",
   "execution_count": 24,
   "metadata": {},
   "outputs": [
    {
     "name": "stdout",
     "output_type": "stream",
     "text": [
      "---------------------------------------------------------------------------------------------------------------------\n",
      "Type 1 error (False Positive) =  257\n",
      "Type 2 error (False Negative) =  26\n",
      "---------------------------------------------------------------------------------------------------------------------\n",
      "Total cost =  15570\n",
      "---------------------------------------------------------------------------------------------------------------------\n"
     ]
    }
   ],
   "source": [
    "# model fitting and prediction using the best threshold\n",
    "clf.fit(train_std,y_train)\n",
    "y_pred_prob = clf.predict_proba(test_std)[:,1]  > 0.20\n",
    "con_mat =confusion_matrix (y_test, y_pred_prob)\n",
    "print(\"-\"*117)\n",
    "print(\"Type 1 error (False Positive) = \", con_mat[0][1])\n",
    "print(\"Type 2 error (False Negative) = \", con_mat[1][0])\n",
    "print(\"-\"*117)\n",
    "print(\"Total cost = \", con_mat[0][1] * 10 + con_mat[1][0] * 500)\n",
    "print(\"-\"*117)"
   ]
  },
  {
   "cell_type": "markdown",
   "metadata": {},
   "source": [
    "# 2.2.3  Random Forest"
   ]
  },
  {
   "cell_type": "code",
   "execution_count": 26,
   "metadata": {},
   "outputs": [
    {
     "name": "stdout",
     "output_type": "stream",
     "text": [
      "Fitting 5 folds for each of 15 candidates, totalling 75 fits\n"
     ]
    },
    {
     "name": "stderr",
     "output_type": "stream",
     "text": [
      "[Parallel(n_jobs=-1)]: Using backend LokyBackend with 12 concurrent workers.\n",
      "[Parallel(n_jobs=-1)]: Done   1 tasks      | elapsed:    7.2s\n",
      "[Parallel(n_jobs=-1)]: Done   8 tasks      | elapsed:   12.5s\n",
      "[Parallel(n_jobs=-1)]: Done  17 tasks      | elapsed:   56.5s\n",
      "[Parallel(n_jobs=-1)]: Done  26 tasks      | elapsed:  1.6min\n",
      "[Parallel(n_jobs=-1)]: Done  37 tasks      | elapsed:  2.2min\n",
      "[Parallel(n_jobs=-1)]: Done  48 tasks      | elapsed:  3.4min\n",
      "[Parallel(n_jobs=-1)]: Done  60 out of  75 | elapsed:  4.8min remaining:  1.2min\n",
      "[Parallel(n_jobs=-1)]: Done  68 out of  75 | elapsed:  6.7min remaining:   41.3s\n",
      "[Parallel(n_jobs=-1)]: Done  75 out of  75 | elapsed:  7.7min finished\n"
     ]
    },
    {
     "name": "stdout",
     "output_type": "stream",
     "text": [
      "Best estimator is {'max_depth': 10, 'n_estimators': 2000}\n"
     ]
    }
   ],
   "source": [
    "#model fitting and hyper parameter tuning to find the best parameters\n",
    "x_cfl=RandomForestClassifier()\n",
    "#weights = np.linspace(0.05, 0.95, 20)\n",
    "prams={\n",
    "     'n_estimators':[100,200,500,1000,2000],\n",
    "     'max_depth':[3,5,10]#,'class_weight': [{0: x, 1: 1.0-x} for x in weights]\n",
    "    \n",
    "    \n",
    "}\n",
    "model=GridSearchCV(x_cfl,param_grid=prams,verbose=10,n_jobs=-1,scoring='f1',cv=5)\n",
    "model.fit(train_std,y_train)\n",
    "print(\"Best estimator is\", model.best_params_)"
   ]
  },
  {
   "cell_type": "code",
   "execution_count": 27,
   "metadata": {},
   "outputs": [
    {
     "name": "stdout",
     "output_type": "stream",
     "text": [
      "---------------------------------------------------------------------------------------------------------------------\n",
      "Confusion Matrix:  \n",
      " [[15207   418]\n",
      " [   15   360]]\n",
      "---------------------------------------------------------------------------------------------------------------------\n",
      "Type 1 error (False Positive) =  418\n",
      "Type 2 error (False Negative) =  15\n",
      "---------------------------------------------------------------------------------------------------------------------\n",
      "Total cost =  11680\n",
      "---------------------------------------------------------------------------------------------------------------------\n"
     ]
    }
   ],
   "source": [
    "#model fitting using best parameter\n",
    "clf = RandomForestClassifier(n_estimators= 2000 , max_depth=10,n_jobs= -1)\n",
    "clf.fit(train_std,y_train)\n",
    "y_pred = clf.predict(test_std)\n",
    "con_mat =confusion_matrix (y_test, y_pred)\n",
    "print(\"-\"*117)\n",
    "print('Confusion Matrix: ', '\\n',con_mat)\n",
    "print(\"-\"*117)\n",
    "print(\"Type 1 error (False Positive) = \", con_mat[0][1])\n",
    "print(\"Type 2 error (False Negative) = \", con_mat[1][0])\n",
    "print(\"-\"*117)\n",
    "print(\"Total cost = \", con_mat[0][1] * 10 + con_mat[1][0] * 500)\n",
    "print(\"-\"*117)"
   ]
  },
  {
   "cell_type": "code",
   "execution_count": 28,
   "metadata": {
    "scrolled": true
   },
   "outputs": [
    {
     "data": {
      "image/png": "[encoded data removed]",
      "text/plain": [
       "<Figure size 1080x360 with 2 Axes>"
      ]
     },
     "metadata": {},
     "output_type": "display_data"
    }
   ],
   "source": [
    "#CV to determine the best threshold\n",
    "trail = 10\n",
    "plot = []\n",
    "for x in range(0,trail):\n",
    "    train, test, y_tr, y_ts = train_test_split(train_std, y_train, stratify = y_train, train_size = 0.7)\n",
    "    clf.fit(train,y_tr)\n",
    "    pred = clf.predict_proba(test)[:,1]\n",
    "    precision, recall, thresholds = precision_recall_curve(y_ts, pred)\n",
    "    thresholds = np.append(thresholds,1)\n",
    "      \n",
    "    costs = []\n",
    "    for threshold in thresholds:\n",
    "        y_pred_thres = pred > threshold\n",
    "        c = confusion_matrix(y_ts,y_pred_thres)\n",
    "        cost = c[0,1] * 10 + c[1,0] * 500\n",
    "        costs.append(cost)\n",
    "        \n",
    "    plot.append({'threshold': thresholds, 'precision':precision,'recall': recall, 'costs':costs})\n",
    "    \n",
    "\n",
    "plt.figure(figsize=(15,5))\n",
    "plt.subplot(1,3,1)\n",
    "for x in plot:\n",
    "    plt.plot(x['threshold'],x['precision'],'r')\n",
    "    plt.plot(x['threshold'],x['recall'],'g')\n",
    "    \n",
    "plt.legend(('precision','recall'))\n",
    "plt.xlabel('Threshold')\n",
    "plt.ylabel(\"Precision/Recall\")\n",
    "\n",
    "plt.subplot(1,3,3)\n",
    "for x in plot:\n",
    "    plt.plot(x['threshold'],x['costs'],'y')\n",
    "plt.legend(('costs'))\n",
    "plt.xlabel('Threshold')\n",
    "plt.ylabel(\"cost\")\n",
    "plt.show()"
   ]
  },
  {
   "cell_type": "markdown",
   "metadata": {},
   "source": [
    "- At 0.25, we observe that precision is almost more than 95% and recall is almost around 98%. We want our recall to be near to 100% and at the same time we also want our precision to be high. "
   ]
  },
  {
   "cell_type": "code",
   "execution_count": 31,
   "metadata": {},
   "outputs": [
    {
     "name": "stdout",
     "output_type": "stream",
     "text": [
      "---------------------------------------------------------------------------------------------------------------------\n",
      "Type 1 error (False Positive) =  767\n",
      "Type 2 error (False Negative) =  6\n",
      "---------------------------------------------------------------------------------------------------------------------\n",
      "Total cost =  10670\n",
      "---------------------------------------------------------------------------------------------------------------------\n"
     ]
    }
   ],
   "source": [
    "clf.fit(train_std,y_train)\n",
    "y_pred_prob = clf.predict_proba(test_std)[:,1]  > 0.25\n",
    "con_mat =confusion_matrix (y_test, y_pred_prob)\n",
    "print(\"-\"*117)\n",
    "print(\"Type 1 error (False Positive) = \", con_mat[0][1])\n",
    "print(\"Type 2 error (False Negative) = \", con_mat[1][0])\n",
    "print(\"-\"*117)\n",
    "print(\"Total cost = \", con_mat[0][1] * 10 + con_mat[1][0] * 500)\n",
    "print(\"-\"*117)"
   ]
  },
  {
   "cell_type": "markdown",
   "metadata": {},
   "source": [
    "# 2.3 ML models using Most Frequent Impute"
   ]
  },
  {
   "cell_type": "code",
   "execution_count": 2,
   "metadata": {},
   "outputs": [],
   "source": [
    "#loading the train and test dataset\n",
    "train = pd.read_csv(\"Train_imputed_most_frequent\")\n",
    "test = pd.read_csv(\"test_imputed_most_frequent\")\n",
    "y_train = pd.read_csv(\"y_train\")\n",
    "y_test = pd.read_csv(\"y_test\")"
   ]
  },
  {
   "cell_type": "code",
   "execution_count": 3,
   "metadata": {},
   "outputs": [],
   "source": [
    "train.drop(['Unnamed: 0'],axis = 1,inplace = True)\n",
    "test.drop(['Unnamed: 0'],axis = 1,inplace = True)\n",
    "y_train.drop(['Unnamed: 0'],axis = 1,inplace = True)\n",
    "y_test.drop(['Unnamed: 0'],axis = 1,inplace = True)"
   ]
  },
  {
   "cell_type": "code",
   "execution_count": 4,
   "metadata": {},
   "outputs": [],
   "source": [
    "train['class'] = y_train"
   ]
  },
  {
   "cell_type": "code",
   "execution_count": 5,
   "metadata": {},
   "outputs": [],
   "source": [
    "#undersampling the negative class\n",
    "train_neg_sampled = train[train['class'] == 0].sample(n = 10000,random_state = 42)\n",
    "train_Sampled = train[train['class'] == 1].append(train_neg_sampled)"
   ]
  },
  {
   "cell_type": "code",
   "execution_count": 6,
   "metadata": {},
   "outputs": [
    {
     "name": "stdout",
     "output_type": "stream",
     "text": [
      "Shape of the train data after under sampling the negative class 11000\n"
     ]
    }
   ],
   "source": [
    "print(\"Shape of the train data after under sampling the negative class\", train_Sampled.shape[0])"
   ]
  },
  {
   "cell_type": "code",
   "execution_count": 7,
   "metadata": {},
   "outputs": [
    {
     "data": {
      "text/html": [
       "<div>\n",
       "<style scoped>\n",
       "    .dataframe tbody tr th:only-of-type {\n",
       "        vertical-align: middle;\n",
       "    }\n",
       "\n",
       "    .dataframe tbody tr th {\n",
       "        vertical-align: top;\n",
       "    }\n",
       "\n",
       "    .dataframe thead th {\n",
       "        text-align: right;\n",
       "    }\n",
       "</style>\n",
       "<table border=\"1\" class=\"dataframe\">\n",
       "  <thead>\n",
       "    <tr style=\"text-align: right;\">\n",
       "      <th></th>\n",
       "      <th>aa_000</th>\n",
       "      <th>ac_000</th>\n",
       "      <th>ad_000</th>\n",
       "      <th>ae_000</th>\n",
       "      <th>af_000</th>\n",
       "      <th>ag_000</th>\n",
       "      <th>ag_001</th>\n",
       "      <th>ag_002</th>\n",
       "      <th>ag_003</th>\n",
       "      <th>ag_004</th>\n",
       "      <th>...</th>\n",
       "      <th>ee_003</th>\n",
       "      <th>ee_004</th>\n",
       "      <th>ee_005</th>\n",
       "      <th>ee_006</th>\n",
       "      <th>ee_007</th>\n",
       "      <th>ee_008</th>\n",
       "      <th>ee_009</th>\n",
       "      <th>ef_000</th>\n",
       "      <th>eg_000</th>\n",
       "      <th>class</th>\n",
       "    </tr>\n",
       "  </thead>\n",
       "  <tbody>\n",
       "    <tr>\n",
       "      <th>9</th>\n",
       "      <td>153204</td>\n",
       "      <td>182</td>\n",
       "      <td>0</td>\n",
       "      <td>0</td>\n",
       "      <td>0</td>\n",
       "      <td>0</td>\n",
       "      <td>0</td>\n",
       "      <td>0</td>\n",
       "      <td>11804</td>\n",
       "      <td>684444</td>\n",
       "      <td>...</td>\n",
       "      <td>26872</td>\n",
       "      <td>34044</td>\n",
       "      <td>22472</td>\n",
       "      <td>34362</td>\n",
       "      <td>0</td>\n",
       "      <td>0</td>\n",
       "      <td>0</td>\n",
       "      <td>0</td>\n",
       "      <td>0</td>\n",
       "      <td>1</td>\n",
       "    </tr>\n",
       "    <tr>\n",
       "      <th>23</th>\n",
       "      <td>453236</td>\n",
       "      <td>2926</td>\n",
       "      <td>0</td>\n",
       "      <td>0</td>\n",
       "      <td>0</td>\n",
       "      <td>0</td>\n",
       "      <td>0</td>\n",
       "      <td>222</td>\n",
       "      <td>323436</td>\n",
       "      <td>2999280</td>\n",
       "      <td>...</td>\n",
       "      <td>3026002</td>\n",
       "      <td>5025350</td>\n",
       "      <td>2025766</td>\n",
       "      <td>1160638</td>\n",
       "      <td>533834</td>\n",
       "      <td>493800</td>\n",
       "      <td>6914</td>\n",
       "      <td>0</td>\n",
       "      <td>0</td>\n",
       "      <td>1</td>\n",
       "    </tr>\n",
       "    <tr>\n",
       "      <th>60</th>\n",
       "      <td>72504</td>\n",
       "      <td>1594</td>\n",
       "      <td>1052</td>\n",
       "      <td>0</td>\n",
       "      <td>0</td>\n",
       "      <td>0</td>\n",
       "      <td>244</td>\n",
       "      <td>178226</td>\n",
       "      <td>1249396</td>\n",
       "      <td>3813464</td>\n",
       "      <td>...</td>\n",
       "      <td>372252</td>\n",
       "      <td>527514</td>\n",
       "      <td>358274</td>\n",
       "      <td>332818</td>\n",
       "      <td>284178</td>\n",
       "      <td>3742</td>\n",
       "      <td>0</td>\n",
       "      <td>0</td>\n",
       "      <td>0</td>\n",
       "      <td>1</td>\n",
       "    </tr>\n",
       "  </tbody>\n",
       "</table>\n",
       "<p>3 rows × 161 columns</p>\n",
       "</div>"
      ],
      "text/plain": [
       "    aa_000  ac_000  ad_000  ae_000  af_000  ag_000  ag_001  ag_002   ag_003  \\\n",
       "9   153204     182       0       0       0       0       0       0    11804   \n",
       "23  453236    2926       0       0       0       0       0     222   323436   \n",
       "60   72504    1594    1052       0       0       0     244  178226  1249396   \n",
       "\n",
       "     ag_004  ...     ee_003   ee_004   ee_005   ee_006  ee_007  ee_008  \\\n",
       "9    684444  ...      26872    34044    22472    34362       0       0   \n",
       "23  2999280  ...    3026002  5025350  2025766  1160638  533834  493800   \n",
       "60  3813464  ...     372252   527514   358274   332818  284178    3742   \n",
       "\n",
       "    ee_009  ef_000  eg_000  class  \n",
       "9        0       0       0      1  \n",
       "23    6914       0       0      1  \n",
       "60       0       0       0      1  \n",
       "\n",
       "[3 rows x 161 columns]"
      ]
     },
     "execution_count": 7,
     "metadata": {},
     "output_type": "execute_result"
    }
   ],
   "source": [
    "train_Sampled.head(3)"
   ]
  },
  {
   "cell_type": "code",
   "execution_count": 8,
   "metadata": {},
   "outputs": [],
   "source": [
    "y_train = train_Sampled['class']\n",
    "train_Sampled.drop(['class'],axis = 1, inplace= True)"
   ]
  },
  {
   "cell_type": "code",
   "execution_count": 9,
   "metadata": {},
   "outputs": [],
   "source": [
    "#Upsampling the positive class using smote technique to have a balanced dataset.\n",
    "sm = over_sampling.SMOTE(ratio= 1.0)\n",
    "train_Sampled_Smote, y_train = sm.fit_sample(train_Sampled,y_train)"
   ]
  },
  {
   "cell_type": "code",
   "execution_count": 10,
   "metadata": {},
   "outputs": [
    {
     "name": "stdout",
     "output_type": "stream",
     "text": [
      "Shape of train data after upsampling the positive class by smote (20000, 160)\n"
     ]
    }
   ],
   "source": [
    "print(\"Shape of train data after upsampling the positive class by smote\", train_Sampled_Smote.shape)"
   ]
  },
  {
   "cell_type": "code",
   "execution_count": 11,
   "metadata": {},
   "outputs": [],
   "source": [
    "#Standardizing the train and test data.\n",
    "std = StandardScaler()\n",
    "train_std = std.fit_transform(train_Sampled_Smote)\n",
    "test_std = std.transform(test)\n"
   ]
  },
  {
   "cell_type": "markdown",
   "metadata": {},
   "source": [
    "# 2.3.1 Logistic Regression"
   ]
  },
  {
   "cell_type": "code",
   "execution_count": 12,
   "metadata": {},
   "outputs": [
    {
     "name": "stdout",
     "output_type": "stream",
     "text": [
      "Fitting 2 folds for each of 16 candidates, totalling 32 fits\n"
     ]
    },
    {
     "name": "stderr",
     "output_type": "stream",
     "text": [
      "[Parallel(n_jobs=-1)]: Using backend LokyBackend with 12 concurrent workers.\n",
      "[Parallel(n_jobs=-1)]: Done  26 out of  32 | elapsed:   41.1s remaining:    9.4s\n",
      "[Parallel(n_jobs=-1)]: Done  32 out of  32 | elapsed:   58.4s finished\n"
     ]
    },
    {
     "name": "stdout",
     "output_type": "stream",
     "text": [
      "Best estimator is {'C': 1000, 'penalty': 'l2'}\n"
     ]
    }
   ],
   "source": [
    "# model fitting and hyper parameter tuning using gridsearch\n",
    "#weights = np.linspace(0.05, 0.95, 20)\n",
    "params = {'C' : [\n",
    "                10**-4,10**-3,10**-2,10**-1,1,10**1,10**2,10**3],\n",
    "          'penalty': ['l1', 'l2']#,'class_weight': [{0: x, 1: 1.0-x} for x in weights]\n",
    "         }\n",
    "\n",
    "clf = LogisticRegression(n_jobs= -1,random_state=42)\n",
    "clf.fit(train_std,y_train)\n",
    "model = GridSearchCV(estimator=clf,cv = 2,n_jobs= -1,param_grid=params,scoring='f1',verbose= 2,)\n",
    "model.fit(train_std,y_train)\n",
    "print(\"Best estimator is\", model.best_params_)"
   ]
  },
  {
   "cell_type": "code",
   "execution_count": 13,
   "metadata": {},
   "outputs": [
    {
     "name": "stdout",
     "output_type": "stream",
     "text": [
      "---------------------------------------------------------------------------------------------------------------------\n",
      "Confusion Matrix:  \n",
      " [[15274   351]\n",
      " [   35   340]]\n",
      "---------------------------------------------------------------------------------------------------------------------\n",
      "Type 1 error (False Positive) =  351\n",
      "Type 2 error (False Negative) =  35\n",
      "---------------------------------------------------------------------------------------------------------------------\n",
      "Total cost =  21010\n",
      "---------------------------------------------------------------------------------------------------------------------\n"
     ]
    }
   ],
   "source": [
    "# model fitting using best parameter\n",
    "clf = LogisticRegression(n_jobs= -1,random_state=42,C= 1000,penalty= 'l2')\n",
    "clf.fit(train_std,y_train)\n",
    "y_pred = clf.predict(test_std)\n",
    "con_mat =confusion_matrix (y_test, y_pred)\n",
    "print(\"-\"*117)\n",
    "print('Confusion Matrix: ', '\\n',con_mat)\n",
    "print(\"-\"*117)\n",
    "print(\"Type 1 error (False Positive) = \", con_mat[0][1])\n",
    "print(\"Type 2 error (False Negative) = \", con_mat[1][0])\n",
    "print(\"-\"*117)\n",
    "print(\"Total cost = \", con_mat[0][1] * 10 + con_mat[1][0] * 500)\n",
    "print(\"-\"*117)"
   ]
  },
  {
   "cell_type": "code",
   "execution_count": 14,
   "metadata": {},
   "outputs": [
    {
     "data": {
      "image/png": "[encoded data removed]",
      "text/plain": [
       "<Figure size 1080x360 with 2 Axes>"
      ]
     },
     "metadata": {},
     "output_type": "display_data"
    }
   ],
   "source": [
    "#CV for determining the best threshold\n",
    "trail = 10\n",
    "plot = []\n",
    "for x in range(0,trail):\n",
    "    train, test, y_tr, y_ts = train_test_split(train_std, y_train, stratify = y_train, train_size = 0.7)\n",
    "    clf.fit(train,y_tr)\n",
    "    pred = clf.predict_proba(test)[:,1]\n",
    "    precision, recall, thresholds = precision_recall_curve(y_ts, pred)\n",
    "    thresholds = np.append(thresholds,1)\n",
    "      \n",
    "    costs = []\n",
    "    for threshold in thresholds:\n",
    "        y_pred_thres = pred > threshold\n",
    "        c = confusion_matrix(y_ts,y_pred_thres)\n",
    "        cost = c[0,1] * 10 + c[1,0] * 500\n",
    "        costs.append(cost)\n",
    "        \n",
    "    plot.append({'threshold': thresholds, 'precision':precision,'recall': recall, 'costs':costs})\n",
    "    \n",
    "\n",
    "plt.figure(figsize=(15,5))\n",
    "plt.subplot(1,3,1)\n",
    "for x in plot:\n",
    "    plt.plot(x['threshold'],x['precision'],'r')\n",
    "    plt.plot(x['threshold'],x['recall'],'g')\n",
    "    \n",
    "plt.legend(('precision','recall'))\n",
    "plt.xlabel('Threshold')\n",
    "plt.ylabel(\"Precision/Recall\")\n",
    "\n",
    "plt.subplot(1,3,3)\n",
    "for x in plot:\n",
    "    plt.plot(x['threshold'],x['costs'],'y')\n",
    "plt.legend(('costs'))\n",
    "plt.xlabel('Threshold')\n",
    "plt.ylabel(\"cost\")\n",
    "plt.show()"
   ]
  },
  {
   "cell_type": "markdown",
   "metadata": {},
   "source": [
    "- At 0.2, we observe that precision is almost more than 95% and recall is almost around 98%. We want our recall to be near to 100% and at the same time we also want our precision to be high. "
   ]
  },
  {
   "cell_type": "code",
   "execution_count": 15,
   "metadata": {},
   "outputs": [
    {
     "name": "stdout",
     "output_type": "stream",
     "text": [
      "---------------------------------------------------------------------------------------------------------------------\n",
      "Type 1 error (False Positive) =  665\n",
      "Type 2 error (False Negative) =  21\n",
      "---------------------------------------------------------------------------------------------------------------------\n",
      "Total cost =  17150\n",
      "---------------------------------------------------------------------------------------------------------------------\n"
     ]
    }
   ],
   "source": [
    "# model fitting and prediciting using the best threshold\n",
    "clf.fit(train_std,y_train)\n",
    "y_pred_prob = clf.predict_proba(test_std)[:,1]  > 0.20\n",
    "con_mat =confusion_matrix (y_test, y_pred_prob)\n",
    "print(\"-\"*117)\n",
    "print(\"Type 1 error (False Positive) = \", con_mat[0][1])\n",
    "print(\"Type 2 error (False Negative) = \", con_mat[1][0])\n",
    "print(\"-\"*117)\n",
    "print(\"Total cost = \", con_mat[0][1] * 10 + con_mat[1][0] * 500)\n",
    "print(\"-\"*117)"
   ]
  },
  {
   "cell_type": "markdown",
   "metadata": {},
   "source": [
    "# 2.3.2 XgBoost"
   ]
  },
  {
   "cell_type": "code",
   "execution_count": 16,
   "metadata": {},
   "outputs": [
    {
     "name": "stdout",
     "output_type": "stream",
     "text": [
      "Fitting 5 folds for each of 15 candidates, totalling 75 fits\n"
     ]
    },
    {
     "name": "stderr",
     "output_type": "stream",
     "text": [
      "[Parallel(n_jobs=-1)]: Using backend LokyBackend with 12 concurrent workers.\n",
      "[Parallel(n_jobs=-1)]: Done   1 tasks      | elapsed:   21.9s\n",
      "[Parallel(n_jobs=-1)]: Done   8 tasks      | elapsed:   44.3s\n",
      "[Parallel(n_jobs=-1)]: Done  17 tasks      | elapsed:  2.8min\n",
      "[Parallel(n_jobs=-1)]: Done  26 tasks      | elapsed:  4.6min\n",
      "[Parallel(n_jobs=-1)]: Done  37 tasks      | elapsed:  8.0min\n",
      "[Parallel(n_jobs=-1)]: Done  48 tasks      | elapsed: 12.1min\n",
      "[Parallel(n_jobs=-1)]: Done  60 out of  75 | elapsed: 19.0min remaining:  4.7min\n",
      "[Parallel(n_jobs=-1)]: Done  68 out of  75 | elapsed: 24.2min remaining:  2.5min\n",
      "[Parallel(n_jobs=-1)]: Done  75 out of  75 | elapsed: 32.6min finished\n"
     ]
    },
    {
     "name": "stdout",
     "output_type": "stream",
     "text": [
      "Best estimator is {'max_depth': 10, 'n_estimators': 1000}\n"
     ]
    }
   ],
   "source": [
    "# model fitting and hyperparameter tunning using gridsearch\n",
    "x_cfl=XGBClassifier()\n",
    "\n",
    "prams={\n",
    "    \n",
    "     'n_estimators':[100,200,500,1000,2000],\n",
    "     'max_depth':[3,5,10]\n",
    "}\n",
    "model=GridSearchCV(x_cfl,param_grid=prams,verbose=10,n_jobs=-1,scoring='f1',cv=5)\n",
    "model.fit(train_std,y_train)\n",
    "print(\"Best estimator is\", model.best_params_)"
   ]
  },
  {
   "cell_type": "code",
   "execution_count": 17,
   "metadata": {},
   "outputs": [
    {
     "name": "stdout",
     "output_type": "stream",
     "text": [
      "---------------------------------------------------------------------------------------------------------------------\n",
      "Confusion Matrix:  \n",
      " [[15389   236]\n",
      " [   33   342]]\n",
      "---------------------------------------------------------------------------------------------------------------------\n",
      "Type 1 error (False Positive) =  236\n",
      "Type 2 error (False Negative) =  33\n",
      "---------------------------------------------------------------------------------------------------------------------\n",
      "Total cost =  18860\n",
      "---------------------------------------------------------------------------------------------------------------------\n"
     ]
    }
   ],
   "source": [
    "# model fitting using the best parameter\n",
    "clf = XGBClassifier(max_depth= 10, n_estimators= 1000,n_jobs= -1)\n",
    "clf.fit(train_std,y_train)\n",
    "y_pred = clf.predict(test_std)\n",
    "con_mat =confusion_matrix (y_test, y_pred)\n",
    "print(\"-\"*117)\n",
    "print('Confusion Matrix: ', '\\n',con_mat)\n",
    "print(\"-\"*117)\n",
    "print(\"Type 1 error (False Positive) = \", con_mat[0][1])\n",
    "print(\"Type 2 error (False Negative) = \", con_mat[1][0])\n",
    "print(\"-\"*117)\n",
    "print(\"Total cost = \", con_mat[0][1] * 10 + con_mat[1][0] * 500)\n",
    "print(\"-\"*117)"
   ]
  },
  {
   "cell_type": "code",
   "execution_count": 18,
   "metadata": {},
   "outputs": [
    {
     "data": {
      "image/png": "[encoded data removed]",
      "text/plain": [
       "<Figure size 1080x360 with 2 Axes>"
      ]
     },
     "metadata": {},
     "output_type": "display_data"
    }
   ],
   "source": [
    "#CV to determine the best threshold\n",
    "trail = 10\n",
    "plot = []\n",
    "for x in range(0,trail):\n",
    "    train, test, y_tr, y_ts = train_test_split(train_std, y_train, stratify = y_train, train_size = 0.7)\n",
    "    clf.fit(train,y_tr)\n",
    "    pred = clf.predict_proba(test)[:,1]\n",
    "    precision, recall, thresholds = precision_recall_curve(y_ts, pred)\n",
    "    thresholds = np.append(thresholds,1)\n",
    "      \n",
    "    costs = []\n",
    "    for threshold in thresholds:\n",
    "        y_pred_thres = pred > threshold\n",
    "        c = confusion_matrix(y_ts,y_pred_thres)\n",
    "        cost = c[0,1] * 10 + c[1,0] * 500\n",
    "        costs.append(cost)\n",
    "        \n",
    "    plot.append({'threshold': thresholds, 'precision':precision,'recall': recall, 'costs':costs})\n",
    "    \n",
    "\n",
    "plt.figure(figsize=(15,5))\n",
    "plt.subplot(1,3,1)\n",
    "for x in plot:\n",
    "    plt.plot(x['threshold'],x['precision'],'r')\n",
    "    plt.plot(x['threshold'],x['recall'],'g')\n",
    "    \n",
    "plt.legend(('precision','recall'))\n",
    "plt.xlabel('Threshold')\n",
    "plt.ylabel(\"Precision/Recall\")\n",
    "\n",
    "plt.subplot(1,3,3)\n",
    "for x in plot:\n",
    "    plt.plot(x['threshold'],x['costs'],'y')\n",
    "plt.legend(('costs'))\n",
    "plt.xlabel('Threshold')\n",
    "plt.ylabel(\"cost\")\n",
    "plt.show()"
   ]
  },
  {
   "cell_type": "markdown",
   "metadata": {},
   "source": [
    "- At 0.25, we observe that precision is almost more than 95% and recall is almost around 98%. We want our recall to be near to 100% and at the same time we also want our precision to be high. "
   ]
  },
  {
   "cell_type": "code",
   "execution_count": 19,
   "metadata": {},
   "outputs": [
    {
     "name": "stdout",
     "output_type": "stream",
     "text": [
      "---------------------------------------------------------------------------------------------------------------------\n",
      "Type 1 error (False Positive) =  331\n",
      "Type 2 error (False Negative) =  24\n",
      "---------------------------------------------------------------------------------------------------------------------\n",
      "Total cost =  15310\n",
      "---------------------------------------------------------------------------------------------------------------------\n"
     ]
    }
   ],
   "source": [
    "# model fitting and predicting using the best threshold\n",
    "clf.fit(train_std,y_train)\n",
    "y_pred_prob = clf.predict_proba(test_std)[:,1]  > 0.25\n",
    "con_mat =confusion_matrix (y_test, y_pred_prob)\n",
    "print(\"-\"*117)\n",
    "print(\"Type 1 error (False Positive) = \", con_mat[0][1])\n",
    "print(\"Type 2 error (False Negative) = \", con_mat[1][0])\n",
    "print(\"-\"*117)\n",
    "print(\"Total cost = \", con_mat[0][1] * 10 + con_mat[1][0] * 500)\n",
    "print(\"-\"*117)"
   ]
  },
  {
   "cell_type": "markdown",
   "metadata": {},
   "source": [
    "# 2.3.3 Random Forest"
   ]
  },
  {
   "cell_type": "code",
   "execution_count": 20,
   "metadata": {},
   "outputs": [
    {
     "name": "stdout",
     "output_type": "stream",
     "text": [
      "Fitting 5 folds for each of 15 candidates, totalling 75 fits\n"
     ]
    },
    {
     "name": "stderr",
     "output_type": "stream",
     "text": [
      "[Parallel(n_jobs=-1)]: Using backend LokyBackend with 12 concurrent workers.\n",
      "[Parallel(n_jobs=-1)]: Done   1 tasks      | elapsed:    9.1s\n",
      "[Parallel(n_jobs=-1)]: Done   8 tasks      | elapsed:   23.0s\n",
      "[Parallel(n_jobs=-1)]: Done  17 tasks      | elapsed:  1.4min\n",
      "[Parallel(n_jobs=-1)]: Done  26 tasks      | elapsed:  2.0min\n",
      "[Parallel(n_jobs=-1)]: Done  37 tasks      | elapsed:  2.6min\n",
      "[Parallel(n_jobs=-1)]: Done  48 tasks      | elapsed:  3.8min\n",
      "[Parallel(n_jobs=-1)]: Done  60 out of  75 | elapsed:  5.2min remaining:  1.3min\n",
      "[Parallel(n_jobs=-1)]: Done  68 out of  75 | elapsed:  7.0min remaining:   43.1s\n",
      "[Parallel(n_jobs=-1)]: Done  75 out of  75 | elapsed:  8.0min finished\n"
     ]
    },
    {
     "name": "stdout",
     "output_type": "stream",
     "text": [
      "Best estimator is {'max_depth': 10, 'n_estimators': 1000}\n"
     ]
    }
   ],
   "source": [
    "# model fitting and hyperparameter tunning using gridsearch\n",
    "x_cfl=RandomForestClassifier()\n",
    "#weights = np.linspace(0.05, 0.95, 20)\n",
    "prams={\n",
    "     'n_estimators':[100,200,500,1000,2000],\n",
    "     'max_depth':[3,5,10]#,'class_weight': [{0: x, 1: 1.0-x} for x in weights]\n",
    "    \n",
    "    \n",
    "}\n",
    "model=GridSearchCV(x_cfl,param_grid=prams,verbose=10,n_jobs=-1,scoring='f1',cv=5)\n",
    "model.fit(train_std,y_train)\n",
    "print(\"Best estimator is\", model.best_params_)"
   ]
  },
  {
   "cell_type": "code",
   "execution_count": 21,
   "metadata": {},
   "outputs": [
    {
     "name": "stdout",
     "output_type": "stream",
     "text": [
      "---------------------------------------------------------------------------------------------------------------------\n",
      "Confusion Matrix:  \n",
      " [[15192   433]\n",
      " [   12   363]]\n",
      "---------------------------------------------------------------------------------------------------------------------\n",
      "Type 1 error (False Positive) =  433\n",
      "Type 2 error (False Negative) =  12\n",
      "---------------------------------------------------------------------------------------------------------------------\n",
      "Total cost =  10330\n",
      "---------------------------------------------------------------------------------------------------------------------\n"
     ]
    }
   ],
   "source": [
    "# model fitting using the best parameter\n",
    "clf = RandomForestClassifier(n_estimators= 1000 , max_depth=10,n_jobs= -1)\n",
    "clf.fit(train_std,y_train)\n",
    "y_pred = clf.predict(test_std)\n",
    "con_mat =confusion_matrix (y_test, y_pred)\n",
    "print(\"-\"*117)\n",
    "print('Confusion Matrix: ', '\\n',con_mat)\n",
    "print(\"-\"*117)\n",
    "print(\"Type 1 error (False Positive) = \", con_mat[0][1])\n",
    "print(\"Type 2 error (False Negative) = \", con_mat[1][0])\n",
    "print(\"-\"*117)\n",
    "print(\"Total cost = \", con_mat[0][1] * 10 + con_mat[1][0] * 500)\n",
    "print(\"-\"*117)"
   ]
  },
  {
   "cell_type": "code",
   "execution_count": 22,
   "metadata": {
    "scrolled": true
   },
   "outputs": [
    {
     "data": {
      "image/png": "[encoded data removed]",
      "text/plain": [
       "<Figure size 1080x360 with 2 Axes>"
      ]
     },
     "metadata": {},
     "output_type": "display_data"
    }
   ],
   "source": [
    "#CV for determining the best threshold\n",
    "trail = 10\n",
    "plot = []\n",
    "for x in range(0,trail):\n",
    "    train, test, y_tr, y_ts = train_test_split(train_std, y_train, stratify = y_train, train_size = 0.7)\n",
    "    clf.fit(train,y_tr)\n",
    "    pred = clf.predict_proba(test)[:,1]\n",
    "    precision, recall, thresholds = precision_recall_curve(y_ts, pred)\n",
    "    thresholds = np.append(thresholds,1)\n",
    "      \n",
    "    costs = []\n",
    "    for threshold in thresholds:\n",
    "        y_pred_thres = pred > threshold\n",
    "        c = confusion_matrix(y_ts,y_pred_thres)\n",
    "        cost = c[0,1] * 10 + c[1,0] * 500\n",
    "        costs.append(cost)\n",
    "        \n",
    "    plot.append({'threshold': thresholds, 'precision':precision,'recall': recall, 'costs':costs})\n",
    "    \n",
    "\n",
    "plt.figure(figsize=(15,5))\n",
    "plt.subplot(1,3,1)\n",
    "for x in plot:\n",
    "    plt.plot(x['threshold'],x['precision'],'r')\n",
    "    plt.plot(x['threshold'],x['recall'],'g')\n",
    "    \n",
    "plt.legend(('precision','recall'))\n",
    "plt.xlabel('Threshold')\n",
    "plt.ylabel(\"Precision/Recall\")\n",
    "\n",
    "plt.subplot(1,3,3)\n",
    "for x in plot:\n",
    "    plt.plot(x['threshold'],x['costs'],'y')\n",
    "plt.legend(('costs'))\n",
    "plt.xlabel('Threshold')\n",
    "plt.ylabel(\"cost\")\n",
    "plt.show()"
   ]
  },
  {
   "cell_type": "markdown",
   "metadata": {},
   "source": [
    "- At 0.2, we observe that precision is almost more than 95% and recall is almost around 98%. We want our recall to be near to 100% and at the same time we also want our precision to be high. "
   ]
  },
  {
   "cell_type": "code",
   "execution_count": 26,
   "metadata": {},
   "outputs": [
    {
     "name": "stdout",
     "output_type": "stream",
     "text": [
      "---------------------------------------------------------------------------------------------------------------------\n",
      "Type 1 error (False Positive) =  881\n",
      "Type 2 error (False Negative) =  3\n",
      "---------------------------------------------------------------------------------------------------------------------\n",
      "Total cost =  10310\n",
      "---------------------------------------------------------------------------------------------------------------------\n"
     ]
    }
   ],
   "source": [
    "#model fitting and predicting using the best threshold\n",
    "clf.fit(train_std,y_train)\n",
    "y_pred_prob = clf.predict_proba(test_std)[:,1]  > 0.20\n",
    "con_mat =confusion_matrix (y_test, y_pred_prob)\n",
    "print(\"-\"*117)\n",
    "print(\"Type 1 error (False Positive) = \", con_mat[0][1])\n",
    "print(\"Type 2 error (False Negative) = \", con_mat[1][0])\n",
    "print(\"-\"*117)\n",
    "print(\"Total cost = \", con_mat[0][1] * 10 + con_mat[1][0] * 500)\n",
    "print(\"-\"*117)"
   ]
  },
  {
   "cell_type": "markdown",
   "metadata": {},
   "source": [
    "# Let us try doing some kind of Feature Engineering to reduce the total cost.\n",
    "\n",
    "# 3. Feature Engineering\n",
    "\n",
    "- From the above ML models on three different Imputation techniques, Random Forest with median imputation provides the least cost. Therefore we will perform feature engineering on train and test data with median imputation. We will also use Random Forest model, since it gave the best performance.\n",
    "\n",
    "- For FE, we will use median imputation to fill the missing data and we will create new features called missing indicator, which creates new features where missing values are indicated as True and non missing values as False."
   ]
  },
  {
   "cell_type": "code",
   "execution_count": 2,
   "metadata": {},
   "outputs": [],
   "source": [
    "# loading the train and test dataset with missing indicator features.\n",
    "train = pd.read_csv(\"Train_imputed_median\")\n",
    "test = pd.read_csv(\"test_imputed_median\")\n",
    "train_miss = pd.read_csv(\"train_miss_indi.csv\")\n",
    "test_miss = pd.read_csv(\"test_miss_indi.csv\")\n",
    "y_train = pd.read_csv(\"y_train\")\n",
    "y_test = pd.read_csv(\"y_test\")"
   ]
  },
  {
   "cell_type": "code",
   "execution_count": 3,
   "metadata": {},
   "outputs": [],
   "source": [
    "train.drop(['Unnamed: 0'],axis = 1,inplace = True)\n",
    "test.drop(['Unnamed: 0'],axis = 1,inplace = True)\n",
    "train_miss.drop(['Unnamed: 0'],axis = 1,inplace = True)\n",
    "test_miss.drop(['Unnamed: 0'],axis = 1,inplace = True)\n",
    "y_train.drop(['Unnamed: 0'],axis = 1,inplace = True)\n",
    "y_test.drop(['Unnamed: 0'],axis = 1,inplace = True)"
   ]
  },
  {
   "cell_type": "code",
   "execution_count": 4,
   "metadata": {},
   "outputs": [],
   "source": [
    "train['class'] = y_train"
   ]
  },
  {
   "cell_type": "code",
   "execution_count": 5,
   "metadata": {},
   "outputs": [],
   "source": [
    "train[train_miss.columns] = train_miss\n",
    "test[test_miss.columns] = test_miss\n"
   ]
  },
  {
   "cell_type": "code",
   "execution_count": 6,
   "metadata": {},
   "outputs": [],
   "source": [
    "# Downsampling the negative class\n",
    "train_neg_sampled = train[train['class'] == 0].sample(n = 10000,random_state = 42)\n",
    "train_Sampled = train[train['class'] == 1].append(train_neg_sampled)"
   ]
  },
  {
   "cell_type": "code",
   "execution_count": 7,
   "metadata": {},
   "outputs": [
    {
     "name": "stdout",
     "output_type": "stream",
     "text": [
      "Shape of the train data after under sampling the negative class 11000\n"
     ]
    }
   ],
   "source": [
    "print(\"Shape of the train data after under sampling the negative class\", train_Sampled.shape[0])"
   ]
  },
  {
   "cell_type": "code",
   "execution_count": 8,
   "metadata": {},
   "outputs": [
    {
     "data": {
      "text/html": [
       "<div>\n",
       "<style scoped>\n",
       "    .dataframe tbody tr th:only-of-type {\n",
       "        vertical-align: middle;\n",
       "    }\n",
       "\n",
       "    .dataframe tbody tr th {\n",
       "        vertical-align: top;\n",
       "    }\n",
       "\n",
       "    .dataframe thead th {\n",
       "        text-align: right;\n",
       "    }\n",
       "</style>\n",
       "<table border=\"1\" class=\"dataframe\">\n",
       "  <thead>\n",
       "    <tr style=\"text-align: right;\">\n",
       "      <th></th>\n",
       "      <th>aa_000</th>\n",
       "      <th>ac_000</th>\n",
       "      <th>ad_000</th>\n",
       "      <th>ae_000</th>\n",
       "      <th>af_000</th>\n",
       "      <th>ag_000</th>\n",
       "      <th>ag_001</th>\n",
       "      <th>ag_002</th>\n",
       "      <th>ag_003</th>\n",
       "      <th>ag_004</th>\n",
       "      <th>...</th>\n",
       "      <th>149</th>\n",
       "      <th>150</th>\n",
       "      <th>151</th>\n",
       "      <th>152</th>\n",
       "      <th>153</th>\n",
       "      <th>154</th>\n",
       "      <th>155</th>\n",
       "      <th>156</th>\n",
       "      <th>157</th>\n",
       "      <th>158</th>\n",
       "    </tr>\n",
       "  </thead>\n",
       "  <tbody>\n",
       "    <tr>\n",
       "      <th>9</th>\n",
       "      <td>153204.0</td>\n",
       "      <td>182.0</td>\n",
       "      <td>126.0</td>\n",
       "      <td>0.0</td>\n",
       "      <td>0.0</td>\n",
       "      <td>0.0</td>\n",
       "      <td>0.0</td>\n",
       "      <td>0.0</td>\n",
       "      <td>11804.0</td>\n",
       "      <td>684444.0</td>\n",
       "      <td>...</td>\n",
       "      <td>False</td>\n",
       "      <td>False</td>\n",
       "      <td>False</td>\n",
       "      <td>False</td>\n",
       "      <td>False</td>\n",
       "      <td>False</td>\n",
       "      <td>False</td>\n",
       "      <td>False</td>\n",
       "      <td>False</td>\n",
       "      <td>False</td>\n",
       "    </tr>\n",
       "    <tr>\n",
       "      <th>23</th>\n",
       "      <td>453236.0</td>\n",
       "      <td>2926.0</td>\n",
       "      <td>126.0</td>\n",
       "      <td>0.0</td>\n",
       "      <td>0.0</td>\n",
       "      <td>0.0</td>\n",
       "      <td>0.0</td>\n",
       "      <td>222.0</td>\n",
       "      <td>323436.0</td>\n",
       "      <td>2999280.0</td>\n",
       "      <td>...</td>\n",
       "      <td>False</td>\n",
       "      <td>False</td>\n",
       "      <td>False</td>\n",
       "      <td>False</td>\n",
       "      <td>False</td>\n",
       "      <td>False</td>\n",
       "      <td>False</td>\n",
       "      <td>False</td>\n",
       "      <td>False</td>\n",
       "      <td>False</td>\n",
       "    </tr>\n",
       "    <tr>\n",
       "      <th>60</th>\n",
       "      <td>72504.0</td>\n",
       "      <td>1594.0</td>\n",
       "      <td>1052.0</td>\n",
       "      <td>0.0</td>\n",
       "      <td>0.0</td>\n",
       "      <td>0.0</td>\n",
       "      <td>244.0</td>\n",
       "      <td>178226.0</td>\n",
       "      <td>1249396.0</td>\n",
       "      <td>3813464.0</td>\n",
       "      <td>...</td>\n",
       "      <td>False</td>\n",
       "      <td>False</td>\n",
       "      <td>False</td>\n",
       "      <td>False</td>\n",
       "      <td>False</td>\n",
       "      <td>False</td>\n",
       "      <td>False</td>\n",
       "      <td>False</td>\n",
       "      <td>False</td>\n",
       "      <td>False</td>\n",
       "    </tr>\n",
       "  </tbody>\n",
       "</table>\n",
       "<p>3 rows × 320 columns</p>\n",
       "</div>"
      ],
      "text/plain": [
       "      aa_000  ac_000  ad_000  ae_000  af_000  ag_000  ag_001    ag_002  \\\n",
       "9   153204.0   182.0   126.0     0.0     0.0     0.0     0.0       0.0   \n",
       "23  453236.0  2926.0   126.0     0.0     0.0     0.0     0.0     222.0   \n",
       "60   72504.0  1594.0  1052.0     0.0     0.0     0.0   244.0  178226.0   \n",
       "\n",
       "       ag_003     ag_004  ...      149    150    151    152    153    154  \\\n",
       "9     11804.0   684444.0  ...    False  False  False  False  False  False   \n",
       "23   323436.0  2999280.0  ...    False  False  False  False  False  False   \n",
       "60  1249396.0  3813464.0  ...    False  False  False  False  False  False   \n",
       "\n",
       "      155    156    157    158  \n",
       "9   False  False  False  False  \n",
       "23  False  False  False  False  \n",
       "60  False  False  False  False  \n",
       "\n",
       "[3 rows x 320 columns]"
      ]
     },
     "execution_count": 8,
     "metadata": {},
     "output_type": "execute_result"
    }
   ],
   "source": [
    "train_Sampled.head(3)"
   ]
  },
  {
   "cell_type": "markdown",
   "metadata": {},
   "source": [
    "- columns from 0 to 158 are the missing indicator features. Where False is basically indicating the non missing values and true indicates the missing values. missing values can also be treated as features."
   ]
  },
  {
   "cell_type": "code",
   "execution_count": 9,
   "metadata": {},
   "outputs": [],
   "source": [
    "y_train = train_Sampled['class']\n",
    "train_Sampled.drop(['class'],axis = 1, inplace= True)"
   ]
  },
  {
   "cell_type": "code",
   "execution_count": 10,
   "metadata": {},
   "outputs": [],
   "source": [
    "#Upsampling the positive class\n",
    "sm = over_sampling.SMOTE(ratio= 1.0)\n",
    "train_Sampled_Smote, y_train = sm.fit_sample(train_Sampled,y_train)"
   ]
  },
  {
   "cell_type": "code",
   "execution_count": 11,
   "metadata": {},
   "outputs": [
    {
     "name": "stdout",
     "output_type": "stream",
     "text": [
      "Shape of train data after upsampling the positive class by smote (20000, 319)\n"
     ]
    }
   ],
   "source": [
    "print(\"Shape of train data after upsampling the positive class by smote\", train_Sampled_Smote.shape)"
   ]
  },
  {
   "cell_type": "code",
   "execution_count": 12,
   "metadata": {},
   "outputs": [],
   "source": [
    "# Standardizing the train and test data\n",
    "std = StandardScaler()\n",
    "train_std = std.fit_transform(train_Sampled_Smote)\n",
    "test_std = std.transform(test)\n"
   ]
  },
  {
   "cell_type": "markdown",
   "metadata": {},
   "source": [
    "# 3.1 Random Forest"
   ]
  },
  {
   "cell_type": "code",
   "execution_count": 18,
   "metadata": {},
   "outputs": [
    {
     "name": "stdout",
     "output_type": "stream",
     "text": [
      "Fitting 5 folds for each of 15 candidates, totalling 75 fits\n"
     ]
    },
    {
     "name": "stderr",
     "output_type": "stream",
     "text": [
      "[Parallel(n_jobs=-1)]: Using backend LokyBackend with 12 concurrent workers.\n",
      "[Parallel(n_jobs=-1)]: Done   1 tasks      | elapsed:   10.2s\n",
      "[Parallel(n_jobs=-1)]: Done   8 tasks      | elapsed:   15.4s\n",
      "[Parallel(n_jobs=-1)]: Done  17 tasks      | elapsed:  1.2min\n",
      "[Parallel(n_jobs=-1)]: Done  26 tasks      | elapsed:  1.8min\n",
      "[Parallel(n_jobs=-1)]: Done  37 tasks      | elapsed:  2.5min\n",
      "[Parallel(n_jobs=-1)]: Done  48 tasks      | elapsed:  3.9min\n",
      "[Parallel(n_jobs=-1)]: Done  60 out of  75 | elapsed:  5.3min remaining:  1.3min\n",
      "[Parallel(n_jobs=-1)]: Done  68 out of  75 | elapsed:  7.6min remaining:   46.7s\n",
      "[Parallel(n_jobs=-1)]: Done  75 out of  75 | elapsed:  8.3min finished\n"
     ]
    },
    {
     "name": "stdout",
     "output_type": "stream",
     "text": [
      "Best estimator is {'max_depth': 10, 'n_estimators': 100}\n"
     ]
    }
   ],
   "source": [
    "# model fitting and hyperparameter tuning using gridsearch\n",
    "x_cfl=RandomForestClassifier()\n",
    "#weights = np.linspace(0.05, 0.95, 20)\n",
    "prams={\n",
    "     'n_estimators':[100,200,500,1000,2000],\n",
    "     'max_depth':[3,5,10]#,'class_weight': [{0: x, 1: 1.0-x} for x in weights]\n",
    "    \n",
    "    \n",
    "}\n",
    "model=GridSearchCV(x_cfl,param_grid=prams,verbose=10,n_jobs=-1,scoring='f1',cv=5)\n",
    "model.fit(train_std,y_train)\n",
    "print(\"Best estimator is\", model.best_params_)"
   ]
  },
  {
   "cell_type": "code",
   "execution_count": 19,
   "metadata": {},
   "outputs": [
    {
     "name": "stdout",
     "output_type": "stream",
     "text": [
      "---------------------------------------------------------------------------------------------------------------------\n",
      "Confusion Matrix:  \n",
      " [[15199   426]\n",
      " [   16   359]]\n",
      "---------------------------------------------------------------------------------------------------------------------\n",
      "Type 1 error (False Positive) =  426\n",
      "Type 2 error (False Negative) =  16\n",
      "---------------------------------------------------------------------------------------------------------------------\n",
      "Total cost =  12260\n",
      "---------------------------------------------------------------------------------------------------------------------\n"
     ]
    }
   ],
   "source": [
    "# model fitting with best parameters\n",
    "clf = RandomForestClassifier(n_estimators= 100 , max_depth=10)\n",
    "clf.fit(train_std,y_train)\n",
    "y_pred = clf.predict(test_std)\n",
    "con_mat =confusion_matrix (y_test, y_pred)\n",
    "print(\"-\"*117)\n",
    "print('Confusion Matrix: ', '\\n',con_mat)\n",
    "print(\"-\"*117)\n",
    "print(\"Type 1 error (False Positive) = \", con_mat[0][1])\n",
    "print(\"Type 2 error (False Negative) = \", con_mat[1][0])\n",
    "print(\"-\"*117)\n",
    "print(\"Total cost = \", con_mat[0][1] * 10 + con_mat[1][0] * 500)\n",
    "print(\"-\"*117)"
   ]
  },
  {
   "cell_type": "code",
   "execution_count": 20,
   "metadata": {
    "scrolled": false
   },
   "outputs": [
    {
     "data": {
      "image/png": "[encoded data removed]",
      "text/plain": [
       "<Figure size 1080x360 with 2 Axes>"
      ]
     },
     "metadata": {},
     "output_type": "display_data"
    }
   ],
   "source": [
    "# CV to determine the best threshold\n",
    "trail = 10\n",
    "plot = []\n",
    "for x in range(0,trail):\n",
    "    train, test, y_tr, y_ts = train_test_split(train_std, y_train, stratify = y_train, train_size = 0.7)\n",
    "    clf.fit(train,y_tr)\n",
    "    pred = clf.predict_proba(test)[:,1]\n",
    "    precision, recall, thresholds = precision_recall_curve(y_ts, pred)\n",
    "    thresholds = np.append(thresholds,1)\n",
    "      \n",
    "    costs = []\n",
    "    for threshold in thresholds:\n",
    "        y_pred_thres = pred > threshold\n",
    "        c = confusion_matrix(y_ts,y_pred_thres)\n",
    "        cost = c[0,1] * 10 + c[1,0] * 500\n",
    "        costs.append(cost)\n",
    "        \n",
    "    plot.append({'threshold': thresholds, 'precision':precision,'recall': recall, 'costs':costs})\n",
    "    \n",
    "\n",
    "plt.figure(figsize=(15,5))\n",
    "plt.subplot(1,3,1)\n",
    "for x in plot:\n",
    "    plt.plot(x['threshold'],x['precision'],'r')\n",
    "    plt.plot(x['threshold'],x['recall'],'g')\n",
    "    \n",
    "plt.legend(('precision','recall'))\n",
    "plt.xlabel('Threshold')\n",
    "plt.ylabel(\"Precision/Recall\")\n",
    "\n",
    "plt.subplot(1,3,3)\n",
    "for x in plot:\n",
    "    plt.plot(x['threshold'],x['costs'],'y')\n",
    "plt.legend(('costs'))\n",
    "plt.xlabel('Threshold')\n",
    "plt.ylabel(\"cost\")\n",
    "plt.show()"
   ]
  },
  {
   "cell_type": "markdown",
   "metadata": {},
   "source": [
    "- At 0.2, we observe that precision is almost more than 95% and recall is almost around 98%. We want our recall to be near to 100% and at the same time we also want our precision to be high. "
   ]
  },
  {
   "cell_type": "code",
   "execution_count": 22,
   "metadata": {
    "scrolled": true
   },
   "outputs": [
    {
     "name": "stdout",
     "output_type": "stream",
     "text": [
      "---------------------------------------------------------------------------------------------------------------------\n",
      "Type 1 error (False Positive) =  892\n",
      "Type 2 error (False Negative) =  3\n",
      "---------------------------------------------------------------------------------------------------------------------\n",
      "Total cost =  10420\n",
      "---------------------------------------------------------------------------------------------------------------------\n"
     ]
    }
   ],
   "source": [
    "clf.fit(train_std,y_train)\n",
    "y_pred_prob = clf.predict_proba(test_std)[:,1]  > 0.20\n",
    "con_mat =confusion_matrix (y_test, y_pred_prob)\n",
    "print(\"-\"*117)\n",
    "print(\"Type 1 error (False Positive) = \", con_mat[0][1])\n",
    "print(\"Type 2 error (False Negative) = \", con_mat[1][0])\n",
    "print(\"-\"*117)\n",
    "print(\"Total cost = \", con_mat[0][1] * 10 + con_mat[1][0] * 500)\n",
    "print(\"-\"*117)"
   ]
  },
  {
   "cell_type": "markdown",
   "metadata": {},
   "source": [
    "# 4. Lets Try Dimensionality Reduction to minimize the cost\n",
    "\n",
    "# Dimensionality Reduction\n",
    "\n",
    "- We will use PCA to perform dimensionality reduction."
   ]
  },
  {
   "cell_type": "code",
   "execution_count": 34,
   "metadata": {},
   "outputs": [],
   "source": [
    "train = pd.read_csv(\"Train_imputed_median\")\n",
    "test = pd.read_csv(\"test_imputed_median\")\n",
    "y_train = pd.read_csv(\"y_train\")\n",
    "y_test = pd.read_csv(\"y_test\")\n",
    "\n",
    "train.drop(['Unnamed: 0'],axis = 1,inplace = True)\n",
    "test.drop(['Unnamed: 0'],axis = 1,inplace = True)\n",
    "y_train.drop(['Unnamed: 0'],axis = 1,inplace = True)\n",
    "y_test.drop(['Unnamed: 0'],axis = 1,inplace = True)\n",
    "\n",
    "#train['class'] = y_train"
   ]
  },
  {
   "cell_type": "code",
   "execution_count": 35,
   "metadata": {},
   "outputs": [
    {
     "data": {
      "text/plain": [
       "<matplotlib.axes._subplots.AxesSubplot at 0x1f700a56080>"
      ]
     },
     "execution_count": 35,
     "metadata": {},
     "output_type": "execute_result"
    },
    {
     "data": {
      "image/png": "[encoded data removed]",
      "text/plain": [
       "<Figure size 432x288 with 2 Axes>"
      ]
     },
     "metadata": {},
     "output_type": "display_data"
    }
   ],
   "source": [
    "# Determining the correlation between features using spearman correlation and plotting the heatmap.\n",
    "corelation_matrix = train.corr(method='spearman')\n",
    "\n",
    "sns.heatmap(data = corelation_matrix,xticklabels=train.columns,yticklabels=train.columns)\n"
   ]
  },
  {
   "cell_type": "code",
   "execution_count": 36,
   "metadata": {},
   "outputs": [
    {
     "name": "stdout",
     "output_type": "stream",
     "text": [
      "Time required to run this cell 0:00:01.586515\n"
     ]
    }
   ],
   "source": [
    "#Performing standardization and PCA for dimensionality reduction\n",
    "start = datetime.now()\n",
    "std = StandardScaler()\n",
    "train_std = std.fit_transform(train)\n",
    "train_pca = PCA(n_components= 160,random_state=42)\n",
    "train_pca.fit_transform(train_std)\n",
    "print(\"Time required to run this cell\", datetime.now() - start)"
   ]
  },
  {
   "cell_type": "code",
   "execution_count": 37,
   "metadata": {},
   "outputs": [
    {
     "data": {
      "text/plain": [
       "<function matplotlib.pyplot.show(*args, **kw)>"
      ]
     },
     "execution_count": 37,
     "metadata": {},
     "output_type": "execute_result"
    },
    {
     "data": {
      "image/png": "[encoded data removed]",
      "text/plain": [
       "<Figure size 1080x360 with 2 Axes>"
      ]
     },
     "metadata": {},
     "output_type": "display_data"
    }
   ],
   "source": [
    "# Plot of number of features v/s explained variance ratio.\n",
    "plt.figure(figsize=(15,5))\n",
    "plt.subplot(1,2,1)\n",
    "sns.lineplot(data=train_pca.explained_variance_ratio_)\n",
    "plt.xlabel(\"Number of components\")\n",
    "plt.ylabel(\"explained variance ratio\")\n",
    "plt.title(\"Plot of number of components v/s explained variance ratio\")\n",
    "plt.subplot(1,2,2)\n",
    "sns.lineplot(data=np.cumsum(train_pca.explained_variance_ratio_))\n",
    "plt.xlabel(\"Number of components\")\n",
    "plt.ylabel(\"Cumulative explained variance\")\n",
    "plt.title(\"Plot of number of components v/s cumulative explained variance\")\n",
    "plt.show"
   ]
  },
  {
   "cell_type": "code",
   "execution_count": 86,
   "metadata": {},
   "outputs": [
    {
     "name": "stdout",
     "output_type": "stream",
     "text": [
      "With Number of components as 90, the total explained variance is  0.9720430145910608\n"
     ]
    }
   ],
   "source": [
    "print(\"With Number of components as 90, the total explained variance is \" ,train_pca.explained_variance_ratio_[:90].sum())"
   ]
  },
  {
   "cell_type": "markdown",
   "metadata": {},
   "source": [
    "- With 90 features we have a explained variance of 97%. Therefore we have reduced the dimension from 160 features to 90 features."
   ]
  },
  {
   "cell_type": "code",
   "execution_count": 39,
   "metadata": {},
   "outputs": [],
   "source": [
    "pca_100 = PCA(n_components=90,random_state=42)\n",
    "train_100= pca_100.fit_transform(train_std)\n"
   ]
  },
  {
   "cell_type": "code",
   "execution_count": 40,
   "metadata": {},
   "outputs": [],
   "source": [
    "test_std = std.transform(test)\n",
    "test_100 = pca_100.transform(test_std)"
   ]
  },
  {
   "cell_type": "code",
   "execution_count": 50,
   "metadata": {},
   "outputs": [],
   "source": [
    "train = pd.DataFrame(train_100)\n",
    "test = pd.DataFrame(test_100)\n",
    "train['class'] = y_train"
   ]
  },
  {
   "cell_type": "code",
   "execution_count": 51,
   "metadata": {},
   "outputs": [],
   "source": [
    "#downsampling the negative class\n",
    "train_neg_sampled = train[train['class'] == 0].sample(n = 10000,random_state = 42)\n",
    "train_Sampled = train[train['class'] == 1].append(train_neg_sampled)"
   ]
  },
  {
   "cell_type": "code",
   "execution_count": 52,
   "metadata": {},
   "outputs": [
    {
     "name": "stdout",
     "output_type": "stream",
     "text": [
      "Shape of the train data after under sampling the negative class 11000\n"
     ]
    }
   ],
   "source": [
    "print(\"Shape of the train data after under sampling the negative class\", train_Sampled.shape[0])"
   ]
  },
  {
   "cell_type": "code",
   "execution_count": 53,
   "metadata": {},
   "outputs": [
    {
     "data": {
      "text/html": [
       "<div>\n",
       "<style scoped>\n",
       "    .dataframe tbody tr th:only-of-type {\n",
       "        vertical-align: middle;\n",
       "    }\n",
       "\n",
       "    .dataframe tbody tr th {\n",
       "        vertical-align: top;\n",
       "    }\n",
       "\n",
       "    .dataframe thead th {\n",
       "        text-align: right;\n",
       "    }\n",
       "</style>\n",
       "<table border=\"1\" class=\"dataframe\">\n",
       "  <thead>\n",
       "    <tr style=\"text-align: right;\">\n",
       "      <th></th>\n",
       "      <th>0</th>\n",
       "      <th>1</th>\n",
       "      <th>2</th>\n",
       "      <th>3</th>\n",
       "      <th>4</th>\n",
       "      <th>5</th>\n",
       "      <th>6</th>\n",
       "      <th>7</th>\n",
       "      <th>8</th>\n",
       "      <th>9</th>\n",
       "      <th>...</th>\n",
       "      <th>81</th>\n",
       "      <th>82</th>\n",
       "      <th>83</th>\n",
       "      <th>84</th>\n",
       "      <th>85</th>\n",
       "      <th>86</th>\n",
       "      <th>87</th>\n",
       "      <th>88</th>\n",
       "      <th>89</th>\n",
       "      <th>class</th>\n",
       "    </tr>\n",
       "  </thead>\n",
       "  <tbody>\n",
       "    <tr>\n",
       "      <th>9</th>\n",
       "      <td>0.190852</td>\n",
       "      <td>0.905957</td>\n",
       "      <td>0.520404</td>\n",
       "      <td>0.136505</td>\n",
       "      <td>-3.068258</td>\n",
       "      <td>-1.287986</td>\n",
       "      <td>0.026602</td>\n",
       "      <td>0.439500</td>\n",
       "      <td>-0.393549</td>\n",
       "      <td>-3.048622</td>\n",
       "      <td>...</td>\n",
       "      <td>-0.270087</td>\n",
       "      <td>0.557541</td>\n",
       "      <td>-0.401641</td>\n",
       "      <td>-1.067877</td>\n",
       "      <td>0.656409</td>\n",
       "      <td>-0.734957</td>\n",
       "      <td>0.021046</td>\n",
       "      <td>0.108050</td>\n",
       "      <td>-0.706376</td>\n",
       "      <td>1</td>\n",
       "    </tr>\n",
       "    <tr>\n",
       "      <th>23</th>\n",
       "      <td>25.150199</td>\n",
       "      <td>-4.778222</td>\n",
       "      <td>8.575955</td>\n",
       "      <td>-6.548307</td>\n",
       "      <td>3.579923</td>\n",
       "      <td>2.978047</td>\n",
       "      <td>0.014882</td>\n",
       "      <td>13.988875</td>\n",
       "      <td>-1.397697</td>\n",
       "      <td>2.688728</td>\n",
       "      <td>...</td>\n",
       "      <td>2.530381</td>\n",
       "      <td>1.641916</td>\n",
       "      <td>4.162028</td>\n",
       "      <td>-1.481875</td>\n",
       "      <td>0.698249</td>\n",
       "      <td>2.955495</td>\n",
       "      <td>3.221251</td>\n",
       "      <td>2.397192</td>\n",
       "      <td>-0.401677</td>\n",
       "      <td>1</td>\n",
       "    </tr>\n",
       "    <tr>\n",
       "      <th>60</th>\n",
       "      <td>3.754447</td>\n",
       "      <td>2.756846</td>\n",
       "      <td>-0.759256</td>\n",
       "      <td>2.103532</td>\n",
       "      <td>1.117280</td>\n",
       "      <td>-0.735061</td>\n",
       "      <td>-0.010214</td>\n",
       "      <td>1.381170</td>\n",
       "      <td>-0.655980</td>\n",
       "      <td>0.990501</td>\n",
       "      <td>...</td>\n",
       "      <td>0.097937</td>\n",
       "      <td>0.716064</td>\n",
       "      <td>0.535049</td>\n",
       "      <td>-0.481472</td>\n",
       "      <td>0.326055</td>\n",
       "      <td>-1.499467</td>\n",
       "      <td>-0.664483</td>\n",
       "      <td>-0.684844</td>\n",
       "      <td>-0.339594</td>\n",
       "      <td>1</td>\n",
       "    </tr>\n",
       "  </tbody>\n",
       "</table>\n",
       "<p>3 rows × 91 columns</p>\n",
       "</div>"
      ],
      "text/plain": [
       "            0         1         2         3         4         5         6  \\\n",
       "9    0.190852  0.905957  0.520404  0.136505 -3.068258 -1.287986  0.026602   \n",
       "23  25.150199 -4.778222  8.575955 -6.548307  3.579923  2.978047  0.014882   \n",
       "60   3.754447  2.756846 -0.759256  2.103532  1.117280 -0.735061 -0.010214   \n",
       "\n",
       "            7         8         9  ...          81        82        83  \\\n",
       "9    0.439500 -0.393549 -3.048622  ...   -0.270087  0.557541 -0.401641   \n",
       "23  13.988875 -1.397697  2.688728  ...    2.530381  1.641916  4.162028   \n",
       "60   1.381170 -0.655980  0.990501  ...    0.097937  0.716064  0.535049   \n",
       "\n",
       "          84        85        86        87        88        89  class  \n",
       "9  -1.067877  0.656409 -0.734957  0.021046  0.108050 -0.706376      1  \n",
       "23 -1.481875  0.698249  2.955495  3.221251  2.397192 -0.401677      1  \n",
       "60 -0.481472  0.326055 -1.499467 -0.664483 -0.684844 -0.339594      1  \n",
       "\n",
       "[3 rows x 91 columns]"
      ]
     },
     "execution_count": 53,
     "metadata": {},
     "output_type": "execute_result"
    }
   ],
   "source": [
    "train_Sampled.head(3)"
   ]
  },
  {
   "cell_type": "code",
   "execution_count": 54,
   "metadata": {},
   "outputs": [],
   "source": [
    "y_train = train_Sampled['class']\n",
    "train_Sampled.drop(['class'],axis = 1, inplace= True)"
   ]
  },
  {
   "cell_type": "code",
   "execution_count": 55,
   "metadata": {},
   "outputs": [],
   "source": [
    "# Upsampling the positive class to have a balanced dataset.\n",
    "sm = over_sampling.SMOTE(ratio= 1.0)\n",
    "train_Sampled_Smote, y_train = sm.fit_sample(train_Sampled,y_train)"
   ]
  },
  {
   "cell_type": "code",
   "execution_count": 56,
   "metadata": {},
   "outputs": [
    {
     "name": "stdout",
     "output_type": "stream",
     "text": [
      "Shape of train data after upsampling the positive class by smote (20000, 90)\n"
     ]
    }
   ],
   "source": [
    "print(\"Shape of train data after upsampling the positive class by smote\", train_Sampled_Smote.shape)"
   ]
  },
  {
   "cell_type": "code",
   "execution_count": 57,
   "metadata": {},
   "outputs": [],
   "source": [
    "std = StandardScaler()\n",
    "train_std = std.fit_transform(train_Sampled_Smote)\n",
    "test_std = std.transform(test)\n"
   ]
  },
  {
   "cell_type": "markdown",
   "metadata": {},
   "source": [
    "# 4.1 Random Forest"
   ]
  },
  {
   "cell_type": "code",
   "execution_count": 58,
   "metadata": {},
   "outputs": [
    {
     "name": "stdout",
     "output_type": "stream",
     "text": [
      "Fitting 5 folds for each of 15 candidates, totalling 75 fits\n"
     ]
    },
    {
     "name": "stderr",
     "output_type": "stream",
     "text": [
      "[Parallel(n_jobs=-1)]: Using backend LokyBackend with 12 concurrent workers.\n",
      "[Parallel(n_jobs=-1)]: Done   1 tasks      | elapsed:   10.5s\n",
      "[Parallel(n_jobs=-1)]: Done   8 tasks      | elapsed:   24.4s\n",
      "[Parallel(n_jobs=-1)]: Done  17 tasks      | elapsed:  1.7min\n",
      "[Parallel(n_jobs=-1)]: Done  26 tasks      | elapsed:  2.8min\n",
      "[Parallel(n_jobs=-1)]: Done  37 tasks      | elapsed:  4.3min\n",
      "[Parallel(n_jobs=-1)]: Done  48 tasks      | elapsed:  6.6min\n",
      "[Parallel(n_jobs=-1)]: Done  60 out of  75 | elapsed:  9.9min remaining:  2.5min\n",
      "[Parallel(n_jobs=-1)]: Done  68 out of  75 | elapsed: 13.5min remaining:  1.4min\n",
      "[Parallel(n_jobs=-1)]: Done  75 out of  75 | elapsed: 15.7min finished\n"
     ]
    },
    {
     "name": "stdout",
     "output_type": "stream",
     "text": [
      "Best estimator is {'max_depth': 10, 'n_estimators': 500}\n"
     ]
    }
   ],
   "source": [
    "# model fitting and hyperparameter tuning using gridsearch\n",
    "x_cfl=RandomForestClassifier()\n",
    "#weights = np.linspace(0.05, 0.95, 20)\n",
    "prams={\n",
    "     'n_estimators':[100,200,500,1000,2000],\n",
    "     'max_depth':[3,5,10]#,'class_weight': [{0: x, 1: 1.0-x} for x in weights]\n",
    "    \n",
    "    \n",
    "}\n",
    "model=GridSearchCV(x_cfl,param_grid=prams,verbose=10,n_jobs=-1,scoring='f1',cv=5)\n",
    "model.fit(train_std,y_train)\n",
    "print(\"Best estimator is\", model.best_params_)"
   ]
  },
  {
   "cell_type": "code",
   "execution_count": 59,
   "metadata": {},
   "outputs": [
    {
     "name": "stdout",
     "output_type": "stream",
     "text": [
      "---------------------------------------------------------------------------------------------------------------------\n",
      "Confusion Matrix:  \n",
      " [[15065   560]\n",
      " [   11   364]]\n",
      "---------------------------------------------------------------------------------------------------------------------\n",
      "Type 1 error (False Positive) =  560\n",
      "Type 2 error (False Negative) =  11\n",
      "---------------------------------------------------------------------------------------------------------------------\n",
      "Total cost =  11100\n",
      "---------------------------------------------------------------------------------------------------------------------\n"
     ]
    }
   ],
   "source": [
    "# model fitting using the best parameter\n",
    "clf = RandomForestClassifier(n_estimators= 500 , max_depth=10)\n",
    "clf.fit(train_std,y_train)\n",
    "y_pred = clf.predict(test_std)\n",
    "con_mat =confusion_matrix (y_test, y_pred)\n",
    "print(\"-\"*117)\n",
    "print('Confusion Matrix: ', '\\n',con_mat)\n",
    "print(\"-\"*117)\n",
    "print(\"Type 1 error (False Positive) = \", con_mat[0][1])\n",
    "print(\"Type 2 error (False Negative) = \", con_mat[1][0])\n",
    "print(\"-\"*117)\n",
    "print(\"Total cost = \", con_mat[0][1] * 10 + con_mat[1][0] * 500)\n",
    "print(\"-\"*117)"
   ]
  },
  {
   "cell_type": "code",
   "execution_count": 60,
   "metadata": {
    "scrolled": true
   },
   "outputs": [
    {
     "data": {
      "image/png": "[encoded data removed]",
      "text/plain": [
       "<Figure size 1080x360 with 2 Axes>"
      ]
     },
     "metadata": {},
     "output_type": "display_data"
    }
   ],
   "source": [
    "#CV to determine the best threshold\n",
    "trail = 10\n",
    "plot = []\n",
    "for x in range(0,trail):\n",
    "    train, test, y_tr, y_ts = train_test_split(train_std, y_train, stratify = y_train, train_size = 0.7)\n",
    "    clf.fit(train,y_tr)\n",
    "    pred = clf.predict_proba(test)[:,1]\n",
    "    precision, recall, thresholds = precision_recall_curve(y_ts, pred)\n",
    "    thresholds = np.append(thresholds,1)\n",
    "      \n",
    "    costs = []\n",
    "    for threshold in thresholds:\n",
    "        y_pred_thres = pred > threshold\n",
    "        c = confusion_matrix(y_ts,y_pred_thres)\n",
    "        cost = c[0,1] * 10 + c[1,0] * 500\n",
    "        costs.append(cost)\n",
    "        \n",
    "    plot.append({'threshold': thresholds, 'precision':precision,'recall': recall, 'costs':costs})\n",
    "    \n",
    "\n",
    "plt.figure(figsize=(15,5))\n",
    "plt.subplot(1,3,1)\n",
    "for x in plot:\n",
    "    plt.plot(x['threshold'],x['precision'],'r')\n",
    "    plt.plot(x['threshold'],x['recall'],'g')\n",
    "    \n",
    "plt.legend(('precision','recall'))\n",
    "plt.xlabel('Threshold')\n",
    "plt.ylabel(\"Precision/Recall\")\n",
    "\n",
    "plt.subplot(1,3,3)\n",
    "for x in plot:\n",
    "    plt.plot(x['threshold'],x['costs'],'y')\n",
    "plt.legend(('costs'))\n",
    "plt.xlabel('Threshold')\n",
    "plt.ylabel(\"cost\")\n",
    "plt.show()"
   ]
  },
  {
   "cell_type": "markdown",
   "metadata": {},
   "source": [
    "- At 0.3, we observe that precision is almost more than 95% and recall is almost around 98%. We want our recall to be near to 100% and at the same time we also want our precision to be high. "
   ]
  },
  {
   "cell_type": "code",
   "execution_count": 62,
   "metadata": {
    "scrolled": true
   },
   "outputs": [
    {
     "name": "stdout",
     "output_type": "stream",
     "text": [
      "---------------------------------------------------------------------------------------------------------------------\n",
      "Type 1 error (False Positive) =  998\n",
      "Type 2 error (False Negative) =  3\n",
      "---------------------------------------------------------------------------------------------------------------------\n",
      "Total cost =  11480\n",
      "---------------------------------------------------------------------------------------------------------------------\n"
     ]
    }
   ],
   "source": [
    "# model fitting and predicting using the best threshold\n",
    "clf.fit(train_std,y_train)\n",
    "y_pred_prob = clf.predict_proba(test_std)[:,1]  > 0.30\n",
    "con_mat =confusion_matrix (y_test, y_pred_prob)\n",
    "print(\"-\"*117)\n",
    "print(\"Type 1 error (False Positive) = \", con_mat[0][1])\n",
    "print(\"Type 2 error (False Negative) = \", con_mat[1][0])\n",
    "print(\"-\"*117)\n",
    "print(\"Total cost = \", con_mat[0][1] * 10 + con_mat[1][0] * 500)\n",
    "print(\"-\"*117)"
   ]
  },
  {
   "cell_type": "markdown",
   "metadata": {},
   "source": [
    "# Results:"
   ]
  },
  {
   "cell_type": "code",
   "execution_count": 91,
   "metadata": {},
   "outputs": [
    {
     "name": "stdout",
     "output_type": "stream",
     "text": [
      "Table showing the total cost for different models with median Imputation\n",
      "+---------------+----+-----+------------+\n",
      "|     Model     | FN |  FP | Total Cost |\n",
      "+---------------+----+-----+------------+\n",
      "|       LR      | 24 | 657 |   18570    |\n",
      "|    XgBoost    | 25 | 244 |   14940    |\n",
      "| Random Forest | 4  | 792 |    9920    |\n",
      "+---------------+----+-----+------------+\n",
      "=====================================================================================================================\n",
      "Table showing the total cost for different models with mean Imputation\n",
      "+---------------+----+-----+------------+\n",
      "|     Model     | FN |  FP | Total Cost |\n",
      "+---------------+----+-----+------------+\n",
      "|       LR      | 25 | 730 |   19800    |\n",
      "|    XgBoost    | 26 | 257 |   15570    |\n",
      "| Random Forest | 6  | 767 |   10670    |\n",
      "+---------------+----+-----+------------+\n",
      "=====================================================================================================================\n",
      "Table showing the total cost for different models with most frequent Imputation\n",
      "+---------------+----+-----+------------+\n",
      "|     Model     | FN |  FP | Total Cost |\n",
      "+---------------+----+-----+------------+\n",
      "|       LR      | 21 | 665 |   17150    |\n",
      "|    XgBoost    | 24 | 331 |   15310    |\n",
      "| Random Forest | 3  | 881 |   10310    |\n",
      "+---------------+----+-----+------------+\n",
      "=====================================================================================================================\n",
      "Table showing the total cost for Random Forest model with feature engineered features and median Imputation\n",
      "+---------------+----+-----+------------+\n",
      "|     Model     | FN |  FP | Total Cost |\n",
      "+---------------+----+-----+------------+\n",
      "| Random Forest | 3  | 892 |   10420    |\n",
      "+---------------+----+-----+------------+\n",
      "=====================================================================================================================\n",
      "Table showing the total cost for Random Forest model with reduced dimensions and median Imputation\n",
      "+---------------+----+-----+------------+\n",
      "|     Model     | FN |  FP | Total Cost |\n",
      "+---------------+----+-----+------------+\n",
      "| Random Forest | 3  | 998 |   11480    |\n",
      "+---------------+----+-----+------------+\n",
      "=====================================================================================================================\n"
     ]
    }
   ],
   "source": [
    "table1 = PrettyTable()\n",
    "print(\"Table showing the total cost for different models with median Imputation\")\n",
    "table1.field_names = (['Model', 'FN', 'FP', 'Total Cost'])\n",
    "table1.add_row(['LR', 24,657,18570])\n",
    "table1.add_row(['XgBoost', 25,244,14940])\n",
    "table1.add_row(['Random Forest', 4,792,9920])\n",
    "print(table1)\n",
    "\n",
    "print('='*117)\n",
    "table2 = PrettyTable()\n",
    "print(\"Table showing the total cost for different models with mean Imputation\")\n",
    "table2.field_names = (['Model', 'FN', 'FP', 'Total Cost'])\n",
    "table2.add_row(['LR', 25,730,19800])\n",
    "table2.add_row(['XgBoost', 26,257,15570])\n",
    "table2.add_row(['Random Forest', 6,767,10670])\n",
    "print(table2)\n",
    "\n",
    "print('='*117)\n",
    "\n",
    "table3 = PrettyTable()\n",
    "print(\"Table showing the total cost for different models with most frequent Imputation\")\n",
    "table3.field_names = (['Model', 'FN', 'FP', 'Total Cost'])\n",
    "table3.add_row(['LR', 21,665,17150])\n",
    "table3.add_row(['XgBoost', 24,331,15310])\n",
    "table3.add_row(['Random Forest', 3,881,10310])\n",
    "print(table3)\n",
    "\n",
    "print('='*117)\n",
    "\n",
    "table4 = PrettyTable()\n",
    "print(\"Table showing the total cost for Random Forest model with feature engineered features and median Imputation\")\n",
    "table4.field_names = (['Model', 'FN', 'FP', 'Total Cost'])\n",
    "table4.add_row(['Random Forest', 3,892,10420])\n",
    "print(table4)\n",
    "print('='*117)\n",
    "\n",
    "table5 = PrettyTable()\n",
    "print(\"Table showing the total cost for Random Forest model with reduced dimensions and median Imputation\")\n",
    "table5.field_names = (['Model', 'FN', 'FP', 'Total Cost'])\n",
    "table5.add_row(['Random Forest', 3,998,11480])\n",
    "print(table5)\n",
    "print('='*117)"
   ]
  },
  {
   "cell_type": "markdown",
   "metadata": {},
   "source": [
    "# Conclusion:\n",
    "\n",
    "- Random Forest model provides the least cost for all the three imputation techniques. For binary classifiers, the threshold is by default set to 0.5.  By adjusting the threshold towards the lower end, its possible to reduce the FN at the cost of increase in FP. Since the total cost is equal to 500 x FN and 100 x FP, to have a minimal cost it is required to have a lower FN. \n",
    "- This is achieved by having a proper precision recall tradeoff."
   ]
  },
  {
   "cell_type": "markdown",
   "metadata": {},
   "source": [
    "# Procedure:\n",
    " \n",
    "- First we read the train and test dataset. Through EDA it was observed that both train and test datasets where highly imbalanced dataset.\n",
    "- Since the given dataset had large number of missing values, various imputation techniques were applied to replace the missing values in the dataset. Also all the columns where the missing values were more than 70%, such columns were dropped from the dataset.\n",
    "- Imputation techniques like median, mean and most frequent were used.\n",
    "- After performing imputation, the train and test dataset were saved as csv files for further processing.\n",
    "- Next we applied Different ML models to the imputed datasets.\n",
    "- Since the given data was highly an imbalanced dataset, in the train data negative class was downsmapled and positive class was upsampled using the smote technique.\n",
    "- Different ML models were trained and fine tuned to find the best parameter for each of the imputation techniques.\n",
    "- Once the best parameters were found, next we trained the models using the best parameters and the total cost was predicted. Since the cost of making a FN is 5 times more than making FP, the trained models were further tune with respect to probability threshold, so that we can somehow have a model which is more baised towards positive class, thus reducing the FN and finally the total cost.\n",
    "- WE also did some Feature engineering and found new features. This new features were the missing value indicators. Since median imputation performed well with Random forest, these new features were combined with median imputation and a random forest model was tuned to find the best parameter using gridsearchcv. \n",
    "- We also tried reducing the dimension of the trained dataset to improved the total cost. Here PCA was used for dimensionality reduction. After performing PCA, it was found that 90 features explained more than 97% of the variance in the data. Again it was performed using median imputation and model used was Random Forest.\n",
    "- Results of all the models are present in the table above."
   ]
  },
  {
   "cell_type": "markdown",
   "metadata": {},
   "source": [
    "# END"
   ]
  }
 ],
 "metadata": {
  "kernelspec": {
   "display_name": "Python 3",
   "language": "python",
   "name": "python3"
  },
  "language_info": {
   "codemirror_mode": {
    "name": "ipython",
    "version": 3
   },
   "file_extension": ".py",
   "mimetype": "text/x-python",
   "name": "python",
   "nbconvert_exporter": "python",
   "pygments_lexer": "ipython3",
   "version": "3.6.5"
  }
 },
 "nbformat": 4,
 "nbformat_minor": 2
}
