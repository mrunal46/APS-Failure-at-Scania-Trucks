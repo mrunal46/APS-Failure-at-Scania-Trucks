{
 "cells": [
  {
   "cell_type": "markdown",
   "metadata": {},
   "source": [
    "# 2.2 ML models using Mean Imputation"
   ]
  },
  {
   "cell_type": "code",
   "execution_count": 2,
   "metadata": {},
   "outputs": [],
   "source": [
    "# loading train and test dataset with nan values replaced with mean imputation\n",
    "train = pd.read_csv(\"Train_imputed_mean\")\n",
    "test = pd.read_csv(\"test_imputed_mean\")\n",
    "y_train = pd.read_csv(\"y_train\")\n",
    "y_test = pd.read_csv(\"y_test\")"
   ]
  },
  {
   "cell_type": "code",
   "execution_count": 3,
   "metadata": {},
   "outputs": [],
   "source": [
    "train.drop(['Unnamed: 0'],axis = 1,inplace = True)\n",
    "test.drop(['Unnamed: 0'],axis = 1,inplace = True)\n",
    "y_train.drop(['Unnamed: 0'],axis = 1,inplace = True)\n",
    "y_test.drop(['Unnamed: 0'],axis = 1,inplace = True)"
   ]
  },
  {
   "cell_type": "code",
   "execution_count": 4,
   "metadata": {},
   "outputs": [],
   "source": [
    "train['class'] = y_train"
   ]
  },
  {
   "cell_type": "code",
   "execution_count": 5,
   "metadata": {},
   "outputs": [],
   "source": [
    "# undersampling the negative class\n",
    "train_neg_sampled = train[train['class'] == 0].sample(n = 10000,random_state = 42)\n",
    "train_Sampled = train[train['class'] == 1].append(train_neg_sampled)"
   ]
  },
  {
   "cell_type": "code",
   "execution_count": 6,
   "metadata": {},
   "outputs": [
    {
     "name": "stdout",
     "output_type": "stream",
     "text": [
      "Shape of the train data after under sampling the negative class 11000\n"
     ]
    }
   ],
   "source": [
    "print(\"Shape of the train data after under sampling the negative class\", train_Sampled.shape[0])"
   ]
  },
  {
   "cell_type": "code",
   "execution_count": 7,
   "metadata": {},
   "outputs": [
    {
     "data": {
      "text/html": [
       "<div>\n",
       "<style scoped>\n",
       "    .dataframe tbody tr th:only-of-type {\n",
       "        vertical-align: middle;\n",
       "    }\n",
       "\n",
       "    .dataframe tbody tr th {\n",
       "        vertical-align: top;\n",
       "    }\n",
       "\n",
       "    .dataframe thead th {\n",
       "        text-align: right;\n",
       "    }\n",
       "</style>\n",
       "<table border=\"1\" class=\"dataframe\">\n",
       "  <thead>\n",
       "    <tr style=\"text-align: right;\">\n",
       "      <th></th>\n",
       "      <th>aa_000</th>\n",
       "      <th>ac_000</th>\n",
       "      <th>ad_000</th>\n",
       "      <th>ae_000</th>\n",
       "      <th>af_000</th>\n",
       "      <th>ag_000</th>\n",
       "      <th>ag_001</th>\n",
       "      <th>ag_002</th>\n",
       "      <th>ag_003</th>\n",
       "      <th>ag_004</th>\n",
       "      <th>...</th>\n",
       "      <th>ee_003</th>\n",
       "      <th>ee_004</th>\n",
       "      <th>ee_005</th>\n",
       "      <th>ee_006</th>\n",
       "      <th>ee_007</th>\n",
       "      <th>ee_008</th>\n",
       "      <th>ee_009</th>\n",
       "      <th>ef_000</th>\n",
       "      <th>eg_000</th>\n",
       "      <th>class</th>\n",
       "    </tr>\n",
       "  </thead>\n",
       "  <tbody>\n",
       "    <tr>\n",
       "      <th>9</th>\n",
       "      <td>153204.0</td>\n",
       "      <td>182.0</td>\n",
       "      <td>190620.639314</td>\n",
       "      <td>0.0</td>\n",
       "      <td>0.0</td>\n",
       "      <td>0.0</td>\n",
       "      <td>0.0</td>\n",
       "      <td>0.0</td>\n",
       "      <td>11804.0</td>\n",
       "      <td>684444.0</td>\n",
       "      <td>...</td>\n",
       "      <td>26872.0</td>\n",
       "      <td>34044.0</td>\n",
       "      <td>22472.0</td>\n",
       "      <td>34362.0</td>\n",
       "      <td>0.0</td>\n",
       "      <td>0.0</td>\n",
       "      <td>0.0</td>\n",
       "      <td>0.0</td>\n",
       "      <td>0.0</td>\n",
       "      <td>1</td>\n",
       "    </tr>\n",
       "    <tr>\n",
       "      <th>23</th>\n",
       "      <td>453236.0</td>\n",
       "      <td>2926.0</td>\n",
       "      <td>190620.639314</td>\n",
       "      <td>0.0</td>\n",
       "      <td>0.0</td>\n",
       "      <td>0.0</td>\n",
       "      <td>0.0</td>\n",
       "      <td>222.0</td>\n",
       "      <td>323436.0</td>\n",
       "      <td>2999280.0</td>\n",
       "      <td>...</td>\n",
       "      <td>3026002.0</td>\n",
       "      <td>5025350.0</td>\n",
       "      <td>2025766.0</td>\n",
       "      <td>1160638.0</td>\n",
       "      <td>533834.0</td>\n",
       "      <td>493800.0</td>\n",
       "      <td>6914.0</td>\n",
       "      <td>0.0</td>\n",
       "      <td>0.0</td>\n",
       "      <td>1</td>\n",
       "    </tr>\n",
       "    <tr>\n",
       "      <th>60</th>\n",
       "      <td>72504.0</td>\n",
       "      <td>1594.0</td>\n",
       "      <td>1052.000000</td>\n",
       "      <td>0.0</td>\n",
       "      <td>0.0</td>\n",
       "      <td>0.0</td>\n",
       "      <td>244.0</td>\n",
       "      <td>178226.0</td>\n",
       "      <td>1249396.0</td>\n",
       "      <td>3813464.0</td>\n",
       "      <td>...</td>\n",
       "      <td>372252.0</td>\n",
       "      <td>527514.0</td>\n",
       "      <td>358274.0</td>\n",
       "      <td>332818.0</td>\n",
       "      <td>284178.0</td>\n",
       "      <td>3742.0</td>\n",
       "      <td>0.0</td>\n",
       "      <td>0.0</td>\n",
       "      <td>0.0</td>\n",
       "      <td>1</td>\n",
       "    </tr>\n",
       "  </tbody>\n",
       "</table>\n",
       "<p>3 rows × 161 columns</p>\n",
       "</div>"
      ],
      "text/plain": [
       "      aa_000  ac_000         ad_000  ae_000  af_000  ag_000  ag_001    ag_002  \\\n",
       "9   153204.0   182.0  190620.639314     0.0     0.0     0.0     0.0       0.0   \n",
       "23  453236.0  2926.0  190620.639314     0.0     0.0     0.0     0.0     222.0   \n",
       "60   72504.0  1594.0    1052.000000     0.0     0.0     0.0   244.0  178226.0   \n",
       "\n",
       "       ag_003     ag_004  ...       ee_003     ee_004     ee_005     ee_006  \\\n",
       "9     11804.0   684444.0  ...      26872.0    34044.0    22472.0    34362.0   \n",
       "23   323436.0  2999280.0  ...    3026002.0  5025350.0  2025766.0  1160638.0   \n",
       "60  1249396.0  3813464.0  ...     372252.0   527514.0   358274.0   332818.0   \n",
       "\n",
       "      ee_007    ee_008  ee_009  ef_000  eg_000  class  \n",
       "9        0.0       0.0     0.0     0.0     0.0      1  \n",
       "23  533834.0  493800.0  6914.0     0.0     0.0      1  \n",
       "60  284178.0    3742.0     0.0     0.0     0.0      1  \n",
       "\n",
       "[3 rows x 161 columns]"
      ]
     },
     "execution_count": 7,
     "metadata": {},
     "output_type": "execute_result"
    }
   ],
   "source": [
    "train_Sampled.head(3)"
   ]
  },
  {
   "cell_type": "code",
   "execution_count": 8,
   "metadata": {},
   "outputs": [],
   "source": [
    "y_train = train_Sampled['class']\n",
    "train_Sampled.drop(['class'],axis = 1, inplace= True)"
   ]
  },
  {
   "cell_type": "code",
   "execution_count": 9,
   "metadata": {},
   "outputs": [],
   "source": [
    "# upsampling the positive class using smote to have balanced dataset.\n",
    "sm = over_sampling.SMOTE(ratio= 1.0)\n",
    "train_Sampled_Smote, y_train = sm.fit_sample(train_Sampled,y_train)"
   ]
  },
  {
   "cell_type": "code",
   "execution_count": 10,
   "metadata": {},
   "outputs": [
    {
     "name": "stdout",
     "output_type": "stream",
     "text": [
      "Shape of train data after upsampling the positive class by smote (20000, 160)\n"
     ]
    }
   ],
   "source": [
    "print(\"Shape of train data after upsampling the positive class by smote\", train_Sampled_Smote.shape)"
   ]
  },
  {
   "cell_type": "code",
   "execution_count": 11,
   "metadata": {},
   "outputs": [],
   "source": [
    "# Standardizing the train and test data.\n",
    "std = StandardScaler()\n",
    "train_std = std.fit_transform(train_Sampled_Smote)\n",
    "test_std = std.transform(test)\n"
   ]
  },
  {
   "cell_type": "markdown",
   "metadata": {},
   "source": [
    "# 2.2.1 Logistic Regression"
   ]
  },
  {
   "cell_type": "code",
   "execution_count": 13,
   "metadata": {},
   "outputs": [
    {
     "name": "stdout",
     "output_type": "stream",
     "text": [
      "Fitting 2 folds for each of 16 candidates, totalling 32 fits\n"
     ]
    },
    {
     "name": "stderr",
     "output_type": "stream",
     "text": [
      "[Parallel(n_jobs=-1)]: Using backend LokyBackend with 12 concurrent workers.\n",
      "[Parallel(n_jobs=-1)]: Done  26 out of  32 | elapsed:   28.7s remaining:    6.5s\n",
      "[Parallel(n_jobs=-1)]: Done  32 out of  32 | elapsed:   37.6s finished\n"
     ]
    },
    {
     "name": "stdout",
     "output_type": "stream",
     "text": [
      "Best estimator is {'C': 1000, 'penalty': 'l2'}\n"
     ]
    }
   ],
   "source": [
    "# model fitting and hyper parameter tuning using gridsearch\n",
    "#weights = np.linspace(0.05, 0.95, 20)\n",
    "params = {'C' : [\n",
    "                10**-4,10**-3,10**-2,10**-1,1,10**1,10**2,10**3],\n",
    "          'penalty': ['l1', 'l2']#,'class_weight': [{0: x, 1: 1.0-x} for x in weights]\n",
    "         }\n",
    "\n",
    "clf = LogisticRegression(n_jobs= -1,random_state=42)\n",
    "clf.fit(train_std,y_train)\n",
    "model = GridSearchCV(estimator=clf,cv = 2,n_jobs= -1,param_grid=params,scoring='f1',verbose= 2,)\n",
    "model.fit(train_std,y_train)\n",
    "print(\"Best estimator is\", model.best_params_)"
   ]
  },
  {
   "cell_type": "code",
   "execution_count": 14,
   "metadata": {},
   "outputs": [
    {
     "name": "stdout",
     "output_type": "stream",
     "text": [
      "---------------------------------------------------------------------------------------------------------------------\n",
      "Confusion Matrix:  \n",
      " [[15257   368]\n",
      " [   40   335]]\n",
      "---------------------------------------------------------------------------------------------------------------------\n",
      "Type 1 error (False Positive) =  368\n",
      "Type 2 error (False Negative) =  40\n",
      "---------------------------------------------------------------------------------------------------------------------\n",
      "Total cost =  23680\n",
      "---------------------------------------------------------------------------------------------------------------------\n"
     ]
    }
   ],
   "source": [
    "#model fitting using the best parameter.\n",
    "clf = LogisticRegression(n_jobs= -1,random_state=42,C= 1000,penalty= 'l2')\n",
    "clf.fit(train_std,y_train)\n",
    "y_pred = clf.predict(test_std)\n",
    "con_mat =confusion_matrix (y_test, y_pred)\n",
    "print(\"-\"*117)\n",
    "print('Confusion Matrix: ', '\\n',con_mat)\n",
    "print(\"-\"*117)\n",
    "print(\"Type 1 error (False Positive) = \", con_mat[0][1])\n",
    "print(\"Type 2 error (False Negative) = \", con_mat[1][0])\n",
    "print(\"-\"*117)\n",
    "print(\"Total cost = \", con_mat[0][1] * 10 + con_mat[1][0] * 500)\n",
    "print(\"-\"*117)"
   ]
  },
  {
   "cell_type": "code",
   "execution_count": 15,
   "metadata": {},
   "outputs": [
    {
     "data": {
      "image/png": "[encoded data removed]",
      "text/plain": [
       "<Figure size 1080x360 with 2 Axes>"
      ]
     },
     "metadata": {},
     "output_type": "display_data"
    }
   ],
   "source": [
    "# CV for determining the best threshold\n",
    "trail = 10\n",
    "plot = []\n",
    "for x in range(0,trail):\n",
    "    train, test, y_tr, y_ts = train_test_split(train_std, y_train, stratify = y_train, train_size = 0.7)\n",
    "    clf.fit(train,y_tr)\n",
    "    pred = clf.predict_proba(test)[:,1]\n",
    "    precision, recall, thresholds = precision_recall_curve(y_ts, pred)\n",
    "    thresholds = np.append(thresholds,1)\n",
    "      \n",
    "    costs = []\n",
    "    for threshold in thresholds:\n",
    "        y_pred_thres = pred > threshold\n",
    "        c = confusion_matrix(y_ts,y_pred_thres)\n",
    "        cost = c[0,1] * 10 + c[1,0] * 500\n",
    "        costs.append(cost)\n",
    "        \n",
    "    plot.append({'threshold': thresholds, 'precision':precision,'recall': recall, 'costs':costs})\n",
    "    \n",
    "\n",
    "plt.figure(figsize=(15,5))\n",
    "plt.subplot(1,3,1)\n",
    "for x in plot:\n",
    "    plt.plot(x['threshold'],x['precision'],'r')\n",
    "    plt.plot(x['threshold'],x['recall'],'g')\n",
    "    \n",
    "plt.legend(('precision','recall'))\n",
    "plt.xlabel('Threshold')\n",
    "plt.ylabel(\"Precision/Recall\")\n",
    "\n",
    "plt.subplot(1,3,3)\n",
    "for x in plot:\n",
    "    plt.plot(x['threshold'],x['costs'],'y')\n",
    "plt.legend(('costs'))\n",
    "plt.xlabel('Threshold')\n",
    "plt.ylabel(\"cost\")\n",
    "plt.show()"
   ]
  },
  {
   "cell_type": "markdown",
   "metadata": {},
   "source": [
    "- At 0.2, we observe that precision is almost more than 95% and recall is almost around 98%. We want our recall to be near to 100% and at the same time we also want our precision to be high. "
   ]
  },
  {
   "cell_type": "code",
   "execution_count": 16,
   "metadata": {},
   "outputs": [
    {
     "name": "stdout",
     "output_type": "stream",
     "text": [
      "---------------------------------------------------------------------------------------------------------------------\n",
      "Type 1 error (False Positive) =  730\n",
      "Type 2 error (False Negative) =  25\n",
      "---------------------------------------------------------------------------------------------------------------------\n",
      "Total cost =  19800\n",
      "---------------------------------------------------------------------------------------------------------------------\n"
     ]
    }
   ],
   "source": [
    "clf.fit(train_std,y_train)\n",
    "y_pred_prob = clf.predict_proba(test_std)[:,1]  > 0.20\n",
    "con_mat =confusion_matrix (y_test, y_pred_prob)\n",
    "print(\"-\"*117)\n",
    "print(\"Type 1 error (False Positive) = \", con_mat[0][1])\n",
    "print(\"Type 2 error (False Negative) = \", con_mat[1][0])\n",
    "print(\"-\"*117)\n",
    "print(\"Total cost = \", con_mat[0][1] * 10 + con_mat[1][0] * 500)\n",
    "print(\"-\"*117)"
   ]
  },
  {
   "cell_type": "markdown",
   "metadata": {},
   "source": [
    "# 2.2.2 XgBoost"
   ]
  },
  {
   "cell_type": "code",
   "execution_count": 21,
   "metadata": {},
   "outputs": [
    {
     "name": "stdout",
     "output_type": "stream",
     "text": [
      "Fitting 5 folds for each of 15 candidates, totalling 75 fits\n"
     ]
    },
    {
     "name": "stderr",
     "output_type": "stream",
     "text": [
      "[Parallel(n_jobs=-1)]: Using backend LokyBackend with 12 concurrent workers.\n",
      "[Parallel(n_jobs=-1)]: Done   1 tasks      | elapsed:   24.4s\n",
      "[Parallel(n_jobs=-1)]: Done   8 tasks      | elapsed:   47.2s\n",
      "[Parallel(n_jobs=-1)]: Done  17 tasks      | elapsed:  2.9min\n",
      "[Parallel(n_jobs=-1)]: Done  26 tasks      | elapsed:  4.8min\n",
      "[Parallel(n_jobs=-1)]: Done  37 tasks      | elapsed:  8.2min\n",
      "[Parallel(n_jobs=-1)]: Done  48 tasks      | elapsed: 12.2min\n",
      "[Parallel(n_jobs=-1)]: Done  60 out of  75 | elapsed: 16.9min remaining:  4.2min\n",
      "[Parallel(n_jobs=-1)]: Done  68 out of  75 | elapsed: 22.4min remaining:  2.3min\n",
      "[Parallel(n_jobs=-1)]: Done  75 out of  75 | elapsed: 29.5min finished\n"
     ]
    },
    {
     "name": "stdout",
     "output_type": "stream",
     "text": [
      "Best estimator is {'max_depth': 5, 'n_estimators': 500}\n"
     ]
    }
   ],
   "source": [
    "\n",
    "x_cfl=XGBClassifier(n_jobs = -1)\n",
    "prams={\n",
    "    'n_estimators':[100,200,500,1000,2000],\n",
    "     'max_depth':[3,5,10],\n",
    "    \n",
    "}\n",
    "model=GridSearchCV(x_cfl,param_grid=prams,verbose=10,n_jobs=-1,scoring='f1',cv=5)\n",
    "model.fit(train_std,y_train)\n",
    "print(\"Best estimator is\", model.best_params_)"
   ]
  },
  {
   "cell_type": "code",
   "execution_count": 22,
   "metadata": {},
   "outputs": [
    {
     "name": "stdout",
     "output_type": "stream",
     "text": [
      "---------------------------------------------------------------------------------------------------------------------\n",
      "Confusion Matrix:  \n",
      " [[15449   176]\n",
      " [   35   340]]\n",
      "---------------------------------------------------------------------------------------------------------------------\n",
      "Type 1 error (False Positive) =  176\n",
      "Type 2 error (False Negative) =  35\n",
      "---------------------------------------------------------------------------------------------------------------------\n",
      "Total cost =  19260\n",
      "---------------------------------------------------------------------------------------------------------------------\n"
     ]
    }
   ],
   "source": [
    "clf = XGBClassifier(max_depth= 5,n_estimators= 500,n_jobs= -1)\n",
    "clf.fit(train_std,y_train)\n",
    "y_pred = clf.predict(test_std)\n",
    "con_mat =confusion_matrix (y_test, y_pred)\n",
    "print(\"-\"*117)\n",
    "print('Confusion Matrix: ', '\\n',con_mat)\n",
    "print(\"-\"*117)\n",
    "print(\"Type 1 error (False Positive) = \", con_mat[0][1])\n",
    "print(\"Type 2 error (False Negative) = \", con_mat[1][0])\n",
    "print(\"-\"*117)\n",
    "print(\"Total cost = \", con_mat[0][1] * 10 + con_mat[1][0] * 500)\n",
    "print(\"-\"*117)"
   ]
  },
  {
   "cell_type": "code",
   "execution_count": 23,
   "metadata": {},
   "outputs": [
    {
     "data": {
      "image/png": "[encoded data removed]",
      "text/plain": [
       "<Figure size 1080x360 with 2 Axes>"
      ]
     },
     "metadata": {},
     "output_type": "display_data"
    }
   ],
   "source": [
    "# CV to determine the best threshold\n",
    "trail = 10\n",
    "plot = []\n",
    "for x in range(0,trail):\n",
    "    train, test, y_tr, y_ts = train_test_split(train_std, y_train, stratify = y_train, train_size = 0.7)\n",
    "    clf.fit(train,y_tr)\n",
    "    pred = clf.predict_proba(test)[:,1]\n",
    "    precision, recall, thresholds = precision_recall_curve(y_ts, pred)\n",
    "    thresholds = np.append(thresholds,1)\n",
    "      \n",
    "    costs = []\n",
    "    for threshold in thresholds:\n",
    "        y_pred_thres = pred > threshold\n",
    "        c = confusion_matrix(y_ts,y_pred_thres)\n",
    "        cost = c[0,1] * 10 + c[1,0] * 500\n",
    "        costs.append(cost)\n",
    "        \n",
    "    plot.append({'threshold': thresholds, 'precision':precision,'recall': recall, 'costs':costs})\n",
    "    \n",
    "\n",
    "plt.figure(figsize=(15,5))\n",
    "plt.subplot(1,3,1)\n",
    "for x in plot:\n",
    "    plt.plot(x['threshold'],x['precision'],'r')\n",
    "    plt.plot(x['threshold'],x['recall'],'g')\n",
    "    \n",
    "plt.legend(('precision','recall'))\n",
    "plt.xlabel('Threshold')\n",
    "plt.ylabel(\"Precision/Recall\")\n",
    "\n",
    "plt.subplot(1,3,3)\n",
    "for x in plot:\n",
    "    plt.plot(x['threshold'],x['costs'],'y')\n",
    "plt.legend(('costs'))\n",
    "plt.xlabel('Threshold')\n",
    "plt.ylabel(\"cost\")\n",
    "plt.show()"
   ]
  },
  {
   "cell_type": "markdown",
   "metadata": {},
   "source": [
    "- At 0.2, we observe that precision is almost more than 95% and recall is almost around 98%. We want our recall to be near to 100% and at the same time we also want our precision to be high. "
   ]
  },
  {
   "cell_type": "code",
   "execution_count": 24,
   "metadata": {},
   "outputs": [
    {
     "name": "stdout",
     "output_type": "stream",
     "text": [
      "---------------------------------------------------------------------------------------------------------------------\n",
      "Type 1 error (False Positive) =  257\n",
      "Type 2 error (False Negative) =  26\n",
      "---------------------------------------------------------------------------------------------------------------------\n",
      "Total cost =  15570\n",
      "---------------------------------------------------------------------------------------------------------------------\n"
     ]
    }
   ],
   "source": [
    "# model fitting and prediction using the best threshold\n",
    "clf.fit(train_std,y_train)\n",
    "y_pred_prob = clf.predict_proba(test_std)[:,1]  > 0.20\n",
    "con_mat =confusion_matrix (y_test, y_pred_prob)\n",
    "print(\"-\"*117)\n",
    "print(\"Type 1 error (False Positive) = \", con_mat[0][1])\n",
    "print(\"Type 2 error (False Negative) = \", con_mat[1][0])\n",
    "print(\"-\"*117)\n",
    "print(\"Total cost = \", con_mat[0][1] * 10 + con_mat[1][0] * 500)\n",
    "print(\"-\"*117)"
   ]
  },
  {
   "cell_type": "markdown",
   "metadata": {},
   "source": [
    "# 2.2.3  Random Forest"
   ]
  },
  {
   "cell_type": "code",
   "execution_count": 26,
   "metadata": {},
   "outputs": [
    {
     "name": "stdout",
     "output_type": "stream",
     "text": [
      "Fitting 5 folds for each of 15 candidates, totalling 75 fits\n"
     ]
    },
    {
     "name": "stderr",
     "output_type": "stream",
     "text": [
      "[Parallel(n_jobs=-1)]: Using backend LokyBackend with 12 concurrent workers.\n",
      "[Parallel(n_jobs=-1)]: Done   1 tasks      | elapsed:    7.2s\n",
      "[Parallel(n_jobs=-1)]: Done   8 tasks      | elapsed:   12.5s\n",
      "[Parallel(n_jobs=-1)]: Done  17 tasks      | elapsed:   56.5s\n",
      "[Parallel(n_jobs=-1)]: Done  26 tasks      | elapsed:  1.6min\n",
      "[Parallel(n_jobs=-1)]: Done  37 tasks      | elapsed:  2.2min\n",
      "[Parallel(n_jobs=-1)]: Done  48 tasks      | elapsed:  3.4min\n",
      "[Parallel(n_jobs=-1)]: Done  60 out of  75 | elapsed:  4.8min remaining:  1.2min\n",
      "[Parallel(n_jobs=-1)]: Done  68 out of  75 | elapsed:  6.7min remaining:   41.3s\n",
      "[Parallel(n_jobs=-1)]: Done  75 out of  75 | elapsed:  7.7min finished\n"
     ]
    },
    {
     "name": "stdout",
     "output_type": "stream",
     "text": [
      "Best estimator is {'max_depth': 10, 'n_estimators': 2000}\n"
     ]
    }
   ],
   "source": [
    "#model fitting and hyper parameter tuning to find the best parameters\n",
    "x_cfl=RandomForestClassifier()\n",
    "#weights = np.linspace(0.05, 0.95, 20)\n",
    "prams={\n",
    "     'n_estimators':[100,200,500,1000,2000],\n",
    "     'max_depth':[3,5,10]#,'class_weight': [{0: x, 1: 1.0-x} for x in weights]\n",
    "    \n",
    "    \n",
    "}\n",
    "model=GridSearchCV(x_cfl,param_grid=prams,verbose=10,n_jobs=-1,scoring='f1',cv=5)\n",
    "model.fit(train_std,y_train)\n",
    "print(\"Best estimator is\", model.best_params_)"
   ]
  },
  {
   "cell_type": "code",
   "execution_count": 27,
   "metadata": {},
   "outputs": [
    {
     "name": "stdout",
     "output_type": "stream",
     "text": [
      "---------------------------------------------------------------------------------------------------------------------\n",
      "Confusion Matrix:  \n",
      " [[15207   418]\n",
      " [   15   360]]\n",
      "---------------------------------------------------------------------------------------------------------------------\n",
      "Type 1 error (False Positive) =  418\n",
      "Type 2 error (False Negative) =  15\n",
      "---------------------------------------------------------------------------------------------------------------------\n",
      "Total cost =  11680\n",
      "---------------------------------------------------------------------------------------------------------------------\n"
     ]
    }
   ],
   "source": [
    "#model fitting using best parameter\n",
    "clf = RandomForestClassifier(n_estimators= 2000 , max_depth=10,n_jobs= -1)\n",
    "clf.fit(train_std,y_train)\n",
    "y_pred = clf.predict(test_std)\n",
    "con_mat =confusion_matrix (y_test, y_pred)\n",
    "print(\"-\"*117)\n",
    "print('Confusion Matrix: ', '\\n',con_mat)\n",
    "print(\"-\"*117)\n",
    "print(\"Type 1 error (False Positive) = \", con_mat[0][1])\n",
    "print(\"Type 2 error (False Negative) = \", con_mat[1][0])\n",
    "print(\"-\"*117)\n",
    "print(\"Total cost = \", con_mat[0][1] * 10 + con_mat[1][0] * 500)\n",
    "print(\"-\"*117)"
   ]
  },
  {
   "cell_type": "code",
   "execution_count": 28,
   "metadata": {
    "scrolled": true
   },
   "outputs": [
    {
     "data": {
      "image/png": "[encoded data removed]",
      "text/plain": [
       "<Figure size 1080x360 with 2 Axes>"
      ]
     },
     "metadata": {},
     "output_type": "display_data"
    }
   ],
   "source": [
    "#CV to determine the best threshold\n",
    "trail = 10\n",
    "plot = []\n",
    "for x in range(0,trail):\n",
    "    train, test, y_tr, y_ts = train_test_split(train_std, y_train, stratify = y_train, train_size = 0.7)\n",
    "    clf.fit(train,y_tr)\n",
    "    pred = clf.predict_proba(test)[:,1]\n",
    "    precision, recall, thresholds = precision_recall_curve(y_ts, pred)\n",
    "    thresholds = np.append(thresholds,1)\n",
    "      \n",
    "    costs = []\n",
    "    for threshold in thresholds:\n",
    "        y_pred_thres = pred > threshold\n",
    "        c = confusion_matrix(y_ts,y_pred_thres)\n",
    "        cost = c[0,1] * 10 + c[1,0] * 500\n",
    "        costs.append(cost)\n",
    "        \n",
    "    plot.append({'threshold': thresholds, 'precision':precision,'recall': recall, 'costs':costs})\n",
    "    \n",
    "\n",
    "plt.figure(figsize=(15,5))\n",
    "plt.subplot(1,3,1)\n",
    "for x in plot:\n",
    "    plt.plot(x['threshold'],x['precision'],'r')\n",
    "    plt.plot(x['threshold'],x['recall'],'g')\n",
    "    \n",
    "plt.legend(('precision','recall'))\n",
    "plt.xlabel('Threshold')\n",
    "plt.ylabel(\"Precision/Recall\")\n",
    "\n",
    "plt.subplot(1,3,3)\n",
    "for x in plot:\n",
    "    plt.plot(x['threshold'],x['costs'],'y')\n",
    "plt.legend(('costs'))\n",
    "plt.xlabel('Threshold')\n",
    "plt.ylabel(\"cost\")\n",
    "plt.show()"
   ]
  },
  {
   "cell_type": "markdown",
   "metadata": {},
   "source": [
    "- At 0.25, we observe that precision is almost more than 95% and recall is almost around 98%. We want our recall to be near to 100% and at the same time we also want our precision to be high. "
   ]
  },
  {
   "cell_type": "code",
   "execution_count": 31,
   "metadata": {},
   "outputs": [
    {
     "name": "stdout",
     "output_type": "stream",
     "text": [
      "---------------------------------------------------------------------------------------------------------------------\n",
      "Type 1 error (False Positive) =  767\n",
      "Type 2 error (False Negative) =  6\n",
      "---------------------------------------------------------------------------------------------------------------------\n",
      "Total cost =  10670\n",
      "---------------------------------------------------------------------------------------------------------------------\n"
     ]
    }
   ],
   "source": [
    "clf.fit(train_std,y_train)\n",
    "y_pred_prob = clf.predict_proba(test_std)[:,1]  > 0.25\n",
    "con_mat =confusion_matrix (y_test, y_pred_prob)\n",
    "print(\"-\"*117)\n",
    "print(\"Type 1 error (False Positive) = \", con_mat[0][1])\n",
    "print(\"Type 2 error (False Negative) = \", con_mat[1][0])\n",
    "print(\"-\"*117)\n",
    "print(\"Total cost = \", con_mat[0][1] * 10 + con_mat[1][0] * 500)\n",
    "print(\"-\"*117)"
   ]
  }
 ],
 "metadata": {
  "kernelspec": {
   "display_name": "Python 3",
   "language": "python",
   "name": "python3"
  },
  "language_info": {
   "codemirror_mode": {
    "name": "ipython",
    "version": 3
   },
   "file_extension": ".py",
   "mimetype": "text/x-python",
   "name": "python",
   "nbconvert_exporter": "python",
   "pygments_lexer": "ipython3",
   "version": "3.6.5"
  }
 },
 "nbformat": 4,
 "nbformat_minor": 2
}
