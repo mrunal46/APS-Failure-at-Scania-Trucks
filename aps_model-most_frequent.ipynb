{
 "cells": [
  {
   "cell_type": "markdown",
   "metadata": {},
   "source": [
    "# 2.3 ML models using Most Frequent Impute"
   ]
  },
  {
   "cell_type": "code",
   "execution_count": 2,
   "metadata": {},
   "outputs": [],
   "source": [
    "#loading the train and test dataset\n",
    "train = pd.read_csv(\"Train_imputed_most_frequent\")\n",
    "test = pd.read_csv(\"test_imputed_most_frequent\")\n",
    "y_train = pd.read_csv(\"y_train\")\n",
    "y_test = pd.read_csv(\"y_test\")"
   ]
  },
  {
   "cell_type": "code",
   "execution_count": 3,
   "metadata": {},
   "outputs": [],
   "source": [
    "train.drop(['Unnamed: 0'],axis = 1,inplace = True)\n",
    "test.drop(['Unnamed: 0'],axis = 1,inplace = True)\n",
    "y_train.drop(['Unnamed: 0'],axis = 1,inplace = True)\n",
    "y_test.drop(['Unnamed: 0'],axis = 1,inplace = True)"
   ]
  },
  {
   "cell_type": "code",
   "execution_count": 4,
   "metadata": {},
   "outputs": [],
   "source": [
    "train['class'] = y_train"
   ]
  },
  {
   "cell_type": "code",
   "execution_count": 5,
   "metadata": {},
   "outputs": [],
   "source": [
    "#undersampling the negative class\n",
    "train_neg_sampled = train[train['class'] == 0].sample(n = 10000,random_state = 42)\n",
    "train_Sampled = train[train['class'] == 1].append(train_neg_sampled)"
   ]
  },
  {
   "cell_type": "code",
   "execution_count": 6,
   "metadata": {},
   "outputs": [
    {
     "name": "stdout",
     "output_type": "stream",
     "text": [
      "Shape of the train data after under sampling the negative class 11000\n"
     ]
    }
   ],
   "source": [
    "print(\"Shape of the train data after under sampling the negative class\", train_Sampled.shape[0])"
   ]
  },
  {
   "cell_type": "code",
   "execution_count": 7,
   "metadata": {},
   "outputs": [
    {
     "data": {
      "text/html": [
       "<div>\n",
       "<style scoped>\n",
       "    .dataframe tbody tr th:only-of-type {\n",
       "        vertical-align: middle;\n",
       "    }\n",
       "\n",
       "    .dataframe tbody tr th {\n",
       "        vertical-align: top;\n",
       "    }\n",
       "\n",
       "    .dataframe thead th {\n",
       "        text-align: right;\n",
       "    }\n",
       "</style>\n",
       "<table border=\"1\" class=\"dataframe\">\n",
       "  <thead>\n",
       "    <tr style=\"text-align: right;\">\n",
       "      <th></th>\n",
       "      <th>aa_000</th>\n",
       "      <th>ac_000</th>\n",
       "      <th>ad_000</th>\n",
       "      <th>ae_000</th>\n",
       "      <th>af_000</th>\n",
       "      <th>ag_000</th>\n",
       "      <th>ag_001</th>\n",
       "      <th>ag_002</th>\n",
       "      <th>ag_003</th>\n",
       "      <th>ag_004</th>\n",
       "      <th>...</th>\n",
       "      <th>ee_003</th>\n",
       "      <th>ee_004</th>\n",
       "      <th>ee_005</th>\n",
       "      <th>ee_006</th>\n",
       "      <th>ee_007</th>\n",
       "      <th>ee_008</th>\n",
       "      <th>ee_009</th>\n",
       "      <th>ef_000</th>\n",
       "      <th>eg_000</th>\n",
       "      <th>class</th>\n",
       "    </tr>\n",
       "  </thead>\n",
       "  <tbody>\n",
       "    <tr>\n",
       "      <th>9</th>\n",
       "      <td>153204</td>\n",
       "      <td>182</td>\n",
       "      <td>0</td>\n",
       "      <td>0</td>\n",
       "      <td>0</td>\n",
       "      <td>0</td>\n",
       "      <td>0</td>\n",
       "      <td>0</td>\n",
       "      <td>11804</td>\n",
       "      <td>684444</td>\n",
       "      <td>...</td>\n",
       "      <td>26872</td>\n",
       "      <td>34044</td>\n",
       "      <td>22472</td>\n",
       "      <td>34362</td>\n",
       "      <td>0</td>\n",
       "      <td>0</td>\n",
       "      <td>0</td>\n",
       "      <td>0</td>\n",
       "      <td>0</td>\n",
       "      <td>1</td>\n",
       "    </tr>\n",
       "    <tr>\n",
       "      <th>23</th>\n",
       "      <td>453236</td>\n",
       "      <td>2926</td>\n",
       "      <td>0</td>\n",
       "      <td>0</td>\n",
       "      <td>0</td>\n",
       "      <td>0</td>\n",
       "      <td>0</td>\n",
       "      <td>222</td>\n",
       "      <td>323436</td>\n",
       "      <td>2999280</td>\n",
       "      <td>...</td>\n",
       "      <td>3026002</td>\n",
       "      <td>5025350</td>\n",
       "      <td>2025766</td>\n",
       "      <td>1160638</td>\n",
       "      <td>533834</td>\n",
       "      <td>493800</td>\n",
       "      <td>6914</td>\n",
       "      <td>0</td>\n",
       "      <td>0</td>\n",
       "      <td>1</td>\n",
       "    </tr>\n",
       "    <tr>\n",
       "      <th>60</th>\n",
       "      <td>72504</td>\n",
       "      <td>1594</td>\n",
       "      <td>1052</td>\n",
       "      <td>0</td>\n",
       "      <td>0</td>\n",
       "      <td>0</td>\n",
       "      <td>244</td>\n",
       "      <td>178226</td>\n",
       "      <td>1249396</td>\n",
       "      <td>3813464</td>\n",
       "      <td>...</td>\n",
       "      <td>372252</td>\n",
       "      <td>527514</td>\n",
       "      <td>358274</td>\n",
       "      <td>332818</td>\n",
       "      <td>284178</td>\n",
       "      <td>3742</td>\n",
       "      <td>0</td>\n",
       "      <td>0</td>\n",
       "      <td>0</td>\n",
       "      <td>1</td>\n",
       "    </tr>\n",
       "  </tbody>\n",
       "</table>\n",
       "<p>3 rows × 161 columns</p>\n",
       "</div>"
      ],
      "text/plain": [
       "    aa_000  ac_000  ad_000  ae_000  af_000  ag_000  ag_001  ag_002   ag_003  \\\n",
       "9   153204     182       0       0       0       0       0       0    11804   \n",
       "23  453236    2926       0       0       0       0       0     222   323436   \n",
       "60   72504    1594    1052       0       0       0     244  178226  1249396   \n",
       "\n",
       "     ag_004  ...     ee_003   ee_004   ee_005   ee_006  ee_007  ee_008  \\\n",
       "9    684444  ...      26872    34044    22472    34362       0       0   \n",
       "23  2999280  ...    3026002  5025350  2025766  1160638  533834  493800   \n",
       "60  3813464  ...     372252   527514   358274   332818  284178    3742   \n",
       "\n",
       "    ee_009  ef_000  eg_000  class  \n",
       "9        0       0       0      1  \n",
       "23    6914       0       0      1  \n",
       "60       0       0       0      1  \n",
       "\n",
       "[3 rows x 161 columns]"
      ]
     },
     "execution_count": 7,
     "metadata": {},
     "output_type": "execute_result"
    }
   ],
   "source": [
    "train_Sampled.head(3)"
   ]
  },
  {
   "cell_type": "code",
   "execution_count": 8,
   "metadata": {},
   "outputs": [],
   "source": [
    "y_train = train_Sampled['class']\n",
    "train_Sampled.drop(['class'],axis = 1, inplace= True)"
   ]
  },
  {
   "cell_type": "code",
   "execution_count": 9,
   "metadata": {},
   "outputs": [],
   "source": [
    "#Upsampling the positive class using smote technique to have a balanced dataset.\n",
    "sm = over_sampling.SMOTE(ratio= 1.0)\n",
    "train_Sampled_Smote, y_train = sm.fit_sample(train_Sampled,y_train)"
   ]
  },
  {
   "cell_type": "code",
   "execution_count": 10,
   "metadata": {},
   "outputs": [
    {
     "name": "stdout",
     "output_type": "stream",
     "text": [
      "Shape of train data after upsampling the positive class by smote (20000, 160)\n"
     ]
    }
   ],
   "source": [
    "print(\"Shape of train data after upsampling the positive class by smote\", train_Sampled_Smote.shape)"
   ]
  },
  {
   "cell_type": "code",
   "execution_count": 11,
   "metadata": {},
   "outputs": [],
   "source": [
    "#Standardizing the train and test data.\n",
    "std = StandardScaler()\n",
    "train_std = std.fit_transform(train_Sampled_Smote)\n",
    "test_std = std.transform(test)\n"
   ]
  },
  {
   "cell_type": "markdown",
   "metadata": {},
   "source": [
    "# 2.3.1 Logistic Regression"
   ]
  },
  {
   "cell_type": "code",
   "execution_count": 12,
   "metadata": {},
   "outputs": [
    {
     "name": "stdout",
     "output_type": "stream",
     "text": [
      "Fitting 2 folds for each of 16 candidates, totalling 32 fits\n"
     ]
    },
    {
     "name": "stderr",
     "output_type": "stream",
     "text": [
      "[Parallel(n_jobs=-1)]: Using backend LokyBackend with 12 concurrent workers.\n",
      "[Parallel(n_jobs=-1)]: Done  26 out of  32 | elapsed:   41.1s remaining:    9.4s\n",
      "[Parallel(n_jobs=-1)]: Done  32 out of  32 | elapsed:   58.4s finished\n"
     ]
    },
    {
     "name": "stdout",
     "output_type": "stream",
     "text": [
      "Best estimator is {'C': 1000, 'penalty': 'l2'}\n"
     ]
    }
   ],
   "source": [
    "# model fitting and hyper parameter tuning using gridsearch\n",
    "#weights = np.linspace(0.05, 0.95, 20)\n",
    "params = {'C' : [\n",
    "                10**-4,10**-3,10**-2,10**-1,1,10**1,10**2,10**3],\n",
    "          'penalty': ['l1', 'l2']#,'class_weight': [{0: x, 1: 1.0-x} for x in weights]\n",
    "         }\n",
    "\n",
    "clf = LogisticRegression(n_jobs= -1,random_state=42)\n",
    "clf.fit(train_std,y_train)\n",
    "model = GridSearchCV(estimator=clf,cv = 2,n_jobs= -1,param_grid=params,scoring='f1',verbose= 2,)\n",
    "model.fit(train_std,y_train)\n",
    "print(\"Best estimator is\", model.best_params_)"
   ]
  },
  {
   "cell_type": "code",
   "execution_count": 13,
   "metadata": {},
   "outputs": [
    {
     "name": "stdout",
     "output_type": "stream",
     "text": [
      "---------------------------------------------------------------------------------------------------------------------\n",
      "Confusion Matrix:  \n",
      " [[15274   351]\n",
      " [   35   340]]\n",
      "---------------------------------------------------------------------------------------------------------------------\n",
      "Type 1 error (False Positive) =  351\n",
      "Type 2 error (False Negative) =  35\n",
      "---------------------------------------------------------------------------------------------------------------------\n",
      "Total cost =  21010\n",
      "---------------------------------------------------------------------------------------------------------------------\n"
     ]
    }
   ],
   "source": [
    "# model fitting using best parameter\n",
    "clf = LogisticRegression(n_jobs= -1,random_state=42,C= 1000,penalty= 'l2')\n",
    "clf.fit(train_std,y_train)\n",
    "y_pred = clf.predict(test_std)\n",
    "con_mat =confusion_matrix (y_test, y_pred)\n",
    "print(\"-\"*117)\n",
    "print('Confusion Matrix: ', '\\n',con_mat)\n",
    "print(\"-\"*117)\n",
    "print(\"Type 1 error (False Positive) = \", con_mat[0][1])\n",
    "print(\"Type 2 error (False Negative) = \", con_mat[1][0])\n",
    "print(\"-\"*117)\n",
    "print(\"Total cost = \", con_mat[0][1] * 10 + con_mat[1][0] * 500)\n",
    "print(\"-\"*117)"
   ]
  },
  {
   "cell_type": "code",
   "execution_count": 14,
   "metadata": {},
   "outputs": [
    {
     "data": {
      "image/png": "[encoded data removed]",
      "text/plain": [
       "<Figure size 1080x360 with 2 Axes>"
      ]
     },
     "metadata": {},
     "output_type": "display_data"
    }
   ],
   "source": [
    "#CV for determining the best threshold\n",
    "trail = 10\n",
    "plot = []\n",
    "for x in range(0,trail):\n",
    "    train, test, y_tr, y_ts = train_test_split(train_std, y_train, stratify = y_train, train_size = 0.7)\n",
    "    clf.fit(train,y_tr)\n",
    "    pred = clf.predict_proba(test)[:,1]\n",
    "    precision, recall, thresholds = precision_recall_curve(y_ts, pred)\n",
    "    thresholds = np.append(thresholds,1)\n",
    "      \n",
    "    costs = []\n",
    "    for threshold in thresholds:\n",
    "        y_pred_thres = pred > threshold\n",
    "        c = confusion_matrix(y_ts,y_pred_thres)\n",
    "        cost = c[0,1] * 10 + c[1,0] * 500\n",
    "        costs.append(cost)\n",
    "        \n",
    "    plot.append({'threshold': thresholds, 'precision':precision,'recall': recall, 'costs':costs})\n",
    "    \n",
    "\n",
    "plt.figure(figsize=(15,5))\n",
    "plt.subplot(1,3,1)\n",
    "for x in plot:\n",
    "    plt.plot(x['threshold'],x['precision'],'r')\n",
    "    plt.plot(x['threshold'],x['recall'],'g')\n",
    "    \n",
    "plt.legend(('precision','recall'))\n",
    "plt.xlabel('Threshold')\n",
    "plt.ylabel(\"Precision/Recall\")\n",
    "\n",
    "plt.subplot(1,3,3)\n",
    "for x in plot:\n",
    "    plt.plot(x['threshold'],x['costs'],'y')\n",
    "plt.legend(('costs'))\n",
    "plt.xlabel('Threshold')\n",
    "plt.ylabel(\"cost\")\n",
    "plt.show()"
   ]
  },
  {
   "cell_type": "markdown",
   "metadata": {},
   "source": [
    "- At 0.2, we observe that precision is almost more than 95% and recall is almost around 98%. We want our recall to be near to 100% and at the same time we also want our precision to be high. "
   ]
  },
  {
   "cell_type": "code",
   "execution_count": 15,
   "metadata": {},
   "outputs": [
    {
     "name": "stdout",
     "output_type": "stream",
     "text": [
      "---------------------------------------------------------------------------------------------------------------------\n",
      "Type 1 error (False Positive) =  665\n",
      "Type 2 error (False Negative) =  21\n",
      "---------------------------------------------------------------------------------------------------------------------\n",
      "Total cost =  17150\n",
      "---------------------------------------------------------------------------------------------------------------------\n"
     ]
    }
   ],
   "source": [
    "# model fitting and prediciting using the best threshold\n",
    "clf.fit(train_std,y_train)\n",
    "y_pred_prob = clf.predict_proba(test_std)[:,1]  > 0.20\n",
    "con_mat =confusion_matrix (y_test, y_pred_prob)\n",
    "print(\"-\"*117)\n",
    "print(\"Type 1 error (False Positive) = \", con_mat[0][1])\n",
    "print(\"Type 2 error (False Negative) = \", con_mat[1][0])\n",
    "print(\"-\"*117)\n",
    "print(\"Total cost = \", con_mat[0][1] * 10 + con_mat[1][0] * 500)\n",
    "print(\"-\"*117)"
   ]
  },
  {
   "cell_type": "markdown",
   "metadata": {},
   "source": [
    "# 2.3.2 XgBoost"
   ]
  },
  {
   "cell_type": "code",
   "execution_count": 16,
   "metadata": {},
   "outputs": [
    {
     "name": "stdout",
     "output_type": "stream",
     "text": [
      "Fitting 5 folds for each of 15 candidates, totalling 75 fits\n"
     ]
    },
    {
     "name": "stderr",
     "output_type": "stream",
     "text": [
      "[Parallel(n_jobs=-1)]: Using backend LokyBackend with 12 concurrent workers.\n",
      "[Parallel(n_jobs=-1)]: Done   1 tasks      | elapsed:   21.9s\n",
      "[Parallel(n_jobs=-1)]: Done   8 tasks      | elapsed:   44.3s\n",
      "[Parallel(n_jobs=-1)]: Done  17 tasks      | elapsed:  2.8min\n",
      "[Parallel(n_jobs=-1)]: Done  26 tasks      | elapsed:  4.6min\n",
      "[Parallel(n_jobs=-1)]: Done  37 tasks      | elapsed:  8.0min\n",
      "[Parallel(n_jobs=-1)]: Done  48 tasks      | elapsed: 12.1min\n",
      "[Parallel(n_jobs=-1)]: Done  60 out of  75 | elapsed: 19.0min remaining:  4.7min\n",
      "[Parallel(n_jobs=-1)]: Done  68 out of  75 | elapsed: 24.2min remaining:  2.5min\n",
      "[Parallel(n_jobs=-1)]: Done  75 out of  75 | elapsed: 32.6min finished\n"
     ]
    },
    {
     "name": "stdout",
     "output_type": "stream",
     "text": [
      "Best estimator is {'max_depth': 10, 'n_estimators': 1000}\n"
     ]
    }
   ],
   "source": [
    "# model fitting and hyperparameter tunning using gridsearch\n",
    "x_cfl=XGBClassifier()\n",
    "\n",
    "prams={\n",
    "    \n",
    "     'n_estimators':[100,200,500,1000,2000],\n",
    "     'max_depth':[3,5,10]\n",
    "}\n",
    "model=GridSearchCV(x_cfl,param_grid=prams,verbose=10,n_jobs=-1,scoring='f1',cv=5)\n",
    "model.fit(train_std,y_train)\n",
    "print(\"Best estimator is\", model.best_params_)"
   ]
  },
  {
   "cell_type": "code",
   "execution_count": 17,
   "metadata": {},
   "outputs": [
    {
     "name": "stdout",
     "output_type": "stream",
     "text": [
      "---------------------------------------------------------------------------------------------------------------------\n",
      "Confusion Matrix:  \n",
      " [[15389   236]\n",
      " [   33   342]]\n",
      "---------------------------------------------------------------------------------------------------------------------\n",
      "Type 1 error (False Positive) =  236\n",
      "Type 2 error (False Negative) =  33\n",
      "---------------------------------------------------------------------------------------------------------------------\n",
      "Total cost =  18860\n",
      "---------------------------------------------------------------------------------------------------------------------\n"
     ]
    }
   ],
   "source": [
    "# model fitting using the best parameter\n",
    "clf = XGBClassifier(max_depth= 10, n_estimators= 1000,n_jobs= -1)\n",
    "clf.fit(train_std,y_train)\n",
    "y_pred = clf.predict(test_std)\n",
    "con_mat =confusion_matrix (y_test, y_pred)\n",
    "print(\"-\"*117)\n",
    "print('Confusion Matrix: ', '\\n',con_mat)\n",
    "print(\"-\"*117)\n",
    "print(\"Type 1 error (False Positive) = \", con_mat[0][1])\n",
    "print(\"Type 2 error (False Negative) = \", con_mat[1][0])\n",
    "print(\"-\"*117)\n",
    "print(\"Total cost = \", con_mat[0][1] * 10 + con_mat[1][0] * 500)\n",
    "print(\"-\"*117)"
   ]
  },
  {
   "cell_type": "code",
   "execution_count": 18,
   "metadata": {},
   "outputs": [
    {
     "data": {
      "image/png": "[encoded data removed]",
      "text/plain": [
       "<Figure size 1080x360 with 2 Axes>"
      ]
     },
     "metadata": {},
     "output_type": "display_data"
    }
   ],
   "source": [
    "#CV to determine the best threshold\n",
    "trail = 10\n",
    "plot = []\n",
    "for x in range(0,trail):\n",
    "    train, test, y_tr, y_ts = train_test_split(train_std, y_train, stratify = y_train, train_size = 0.7)\n",
    "    clf.fit(train,y_tr)\n",
    "    pred = clf.predict_proba(test)[:,1]\n",
    "    precision, recall, thresholds = precision_recall_curve(y_ts, pred)\n",
    "    thresholds = np.append(thresholds,1)\n",
    "      \n",
    "    costs = []\n",
    "    for threshold in thresholds:\n",
    "        y_pred_thres = pred > threshold\n",
    "        c = confusion_matrix(y_ts,y_pred_thres)\n",
    "        cost = c[0,1] * 10 + c[1,0] * 500\n",
    "        costs.append(cost)\n",
    "        \n",
    "    plot.append({'threshold': thresholds, 'precision':precision,'recall': recall, 'costs':costs})\n",
    "    \n",
    "\n",
    "plt.figure(figsize=(15,5))\n",
    "plt.subplot(1,3,1)\n",
    "for x in plot:\n",
    "    plt.plot(x['threshold'],x['precision'],'r')\n",
    "    plt.plot(x['threshold'],x['recall'],'g')\n",
    "    \n",
    "plt.legend(('precision','recall'))\n",
    "plt.xlabel('Threshold')\n",
    "plt.ylabel(\"Precision/Recall\")\n",
    "\n",
    "plt.subplot(1,3,3)\n",
    "for x in plot:\n",
    "    plt.plot(x['threshold'],x['costs'],'y')\n",
    "plt.legend(('costs'))\n",
    "plt.xlabel('Threshold')\n",
    "plt.ylabel(\"cost\")\n",
    "plt.show()"
   ]
  },
  {
   "cell_type": "markdown",
   "metadata": {},
   "source": [
    "- At 0.25, we observe that precision is almost more than 95% and recall is almost around 98%. We want our recall to be near to 100% and at the same time we also want our precision to be high. "
   ]
  },
  {
   "cell_type": "code",
   "execution_count": 19,
   "metadata": {},
   "outputs": [
    {
     "name": "stdout",
     "output_type": "stream",
     "text": [
      "---------------------------------------------------------------------------------------------------------------------\n",
      "Type 1 error (False Positive) =  331\n",
      "Type 2 error (False Negative) =  24\n",
      "---------------------------------------------------------------------------------------------------------------------\n",
      "Total cost =  15310\n",
      "---------------------------------------------------------------------------------------------------------------------\n"
     ]
    }
   ],
   "source": [
    "# model fitting and predicting using the best threshold\n",
    "clf.fit(train_std,y_train)\n",
    "y_pred_prob = clf.predict_proba(test_std)[:,1]  > 0.25\n",
    "con_mat =confusion_matrix (y_test, y_pred_prob)\n",
    "print(\"-\"*117)\n",
    "print(\"Type 1 error (False Positive) = \", con_mat[0][1])\n",
    "print(\"Type 2 error (False Negative) = \", con_mat[1][0])\n",
    "print(\"-\"*117)\n",
    "print(\"Total cost = \", con_mat[0][1] * 10 + con_mat[1][0] * 500)\n",
    "print(\"-\"*117)"
   ]
  },
  {
   "cell_type": "markdown",
   "metadata": {},
   "source": [
    "# 2.3.3 Random Forest"
   ]
  },
  {
   "cell_type": "code",
   "execution_count": 20,
   "metadata": {},
   "outputs": [
    {
     "name": "stdout",
     "output_type": "stream",
     "text": [
      "Fitting 5 folds for each of 15 candidates, totalling 75 fits\n"
     ]
    },
    {
     "name": "stderr",
     "output_type": "stream",
     "text": [
      "[Parallel(n_jobs=-1)]: Using backend LokyBackend with 12 concurrent workers.\n",
      "[Parallel(n_jobs=-1)]: Done   1 tasks      | elapsed:    9.1s\n",
      "[Parallel(n_jobs=-1)]: Done   8 tasks      | elapsed:   23.0s\n",
      "[Parallel(n_jobs=-1)]: Done  17 tasks      | elapsed:  1.4min\n",
      "[Parallel(n_jobs=-1)]: Done  26 tasks      | elapsed:  2.0min\n",
      "[Parallel(n_jobs=-1)]: Done  37 tasks      | elapsed:  2.6min\n",
      "[Parallel(n_jobs=-1)]: Done  48 tasks      | elapsed:  3.8min\n",
      "[Parallel(n_jobs=-1)]: Done  60 out of  75 | elapsed:  5.2min remaining:  1.3min\n",
      "[Parallel(n_jobs=-1)]: Done  68 out of  75 | elapsed:  7.0min remaining:   43.1s\n",
      "[Parallel(n_jobs=-1)]: Done  75 out of  75 | elapsed:  8.0min finished\n"
     ]
    },
    {
     "name": "stdout",
     "output_type": "stream",
     "text": [
      "Best estimator is {'max_depth': 10, 'n_estimators': 1000}\n"
     ]
    }
   ],
   "source": [
    "# model fitting and hyperparameter tunning using gridsearch\n",
    "x_cfl=RandomForestClassifier()\n",
    "#weights = np.linspace(0.05, 0.95, 20)\n",
    "prams={\n",
    "     'n_estimators':[100,200,500,1000,2000],\n",
    "     'max_depth':[3,5,10]#,'class_weight': [{0: x, 1: 1.0-x} for x in weights]\n",
    "    \n",
    "    \n",
    "}\n",
    "model=GridSearchCV(x_cfl,param_grid=prams,verbose=10,n_jobs=-1,scoring='f1',cv=5)\n",
    "model.fit(train_std,y_train)\n",
    "print(\"Best estimator is\", model.best_params_)"
   ]
  },
  {
   "cell_type": "code",
   "execution_count": 21,
   "metadata": {},
   "outputs": [
    {
     "name": "stdout",
     "output_type": "stream",
     "text": [
      "---------------------------------------------------------------------------------------------------------------------\n",
      "Confusion Matrix:  \n",
      " [[15192   433]\n",
      " [   12   363]]\n",
      "---------------------------------------------------------------------------------------------------------------------\n",
      "Type 1 error (False Positive) =  433\n",
      "Type 2 error (False Negative) =  12\n",
      "---------------------------------------------------------------------------------------------------------------------\n",
      "Total cost =  10330\n",
      "---------------------------------------------------------------------------------------------------------------------\n"
     ]
    }
   ],
   "source": [
    "# model fitting using the best parameter\n",
    "clf = RandomForestClassifier(n_estimators= 1000 , max_depth=10,n_jobs= -1)\n",
    "clf.fit(train_std,y_train)\n",
    "y_pred = clf.predict(test_std)\n",
    "con_mat =confusion_matrix (y_test, y_pred)\n",
    "print(\"-\"*117)\n",
    "print('Confusion Matrix: ', '\\n',con_mat)\n",
    "print(\"-\"*117)\n",
    "print(\"Type 1 error (False Positive) = \", con_mat[0][1])\n",
    "print(\"Type 2 error (False Negative) = \", con_mat[1][0])\n",
    "print(\"-\"*117)\n",
    "print(\"Total cost = \", con_mat[0][1] * 10 + con_mat[1][0] * 500)\n",
    "print(\"-\"*117)"
   ]
  },
  {
   "cell_type": "code",
   "execution_count": 22,
   "metadata": {
    "scrolled": true
   },
   "outputs": [
    {
     "data": {
      "image/png": "[encoded data removed]",
      "text/plain": [
       "<Figure size 1080x360 with 2 Axes>"
      ]
     },
     "metadata": {},
     "output_type": "display_data"
    }
   ],
   "source": [
    "#CV for determining the best threshold\n",
    "trail = 10\n",
    "plot = []\n",
    "for x in range(0,trail):\n",
    "    train, test, y_tr, y_ts = train_test_split(train_std, y_train, stratify = y_train, train_size = 0.7)\n",
    "    clf.fit(train,y_tr)\n",
    "    pred = clf.predict_proba(test)[:,1]\n",
    "    precision, recall, thresholds = precision_recall_curve(y_ts, pred)\n",
    "    thresholds = np.append(thresholds,1)\n",
    "      \n",
    "    costs = []\n",
    "    for threshold in thresholds:\n",
    "        y_pred_thres = pred > threshold\n",
    "        c = confusion_matrix(y_ts,y_pred_thres)\n",
    "        cost = c[0,1] * 10 + c[1,0] * 500\n",
    "        costs.append(cost)\n",
    "        \n",
    "    plot.append({'threshold': thresholds, 'precision':precision,'recall': recall, 'costs':costs})\n",
    "    \n",
    "\n",
    "plt.figure(figsize=(15,5))\n",
    "plt.subplot(1,3,1)\n",
    "for x in plot:\n",
    "    plt.plot(x['threshold'],x['precision'],'r')\n",
    "    plt.plot(x['threshold'],x['recall'],'g')\n",
    "    \n",
    "plt.legend(('precision','recall'))\n",
    "plt.xlabel('Threshold')\n",
    "plt.ylabel(\"Precision/Recall\")\n",
    "\n",
    "plt.subplot(1,3,3)\n",
    "for x in plot:\n",
    "    plt.plot(x['threshold'],x['costs'],'y')\n",
    "plt.legend(('costs'))\n",
    "plt.xlabel('Threshold')\n",
    "plt.ylabel(\"cost\")\n",
    "plt.show()"
   ]
  },
  {
   "cell_type": "markdown",
   "metadata": {},
   "source": [
    "- At 0.2, we observe that precision is almost more than 95% and recall is almost around 98%. We want our recall to be near to 100% and at the same time we also want our precision to be high. "
   ]
  },
  {
   "cell_type": "code",
   "execution_count": 26,
   "metadata": {},
   "outputs": [
    {
     "name": "stdout",
     "output_type": "stream",
     "text": [
      "---------------------------------------------------------------------------------------------------------------------\n",
      "Type 1 error (False Positive) =  881\n",
      "Type 2 error (False Negative) =  3\n",
      "---------------------------------------------------------------------------------------------------------------------\n",
      "Total cost =  10310\n",
      "---------------------------------------------------------------------------------------------------------------------\n"
     ]
    }
   ],
   "source": [
    "#model fitting and predicting using the best threshold\n",
    "clf.fit(train_std,y_train)\n",
    "y_pred_prob = clf.predict_proba(test_std)[:,1]  > 0.20\n",
    "con_mat =confusion_matrix (y_test, y_pred_prob)\n",
    "print(\"-\"*117)\n",
    "print(\"Type 1 error (False Positive) = \", con_mat[0][1])\n",
    "print(\"Type 2 error (False Negative) = \", con_mat[1][0])\n",
    "print(\"-\"*117)\n",
    "print(\"Total cost = \", con_mat[0][1] * 10 + con_mat[1][0] * 500)\n",
    "print(\"-\"*117)"
   ]
  }
 ],
 "metadata": {
  "kernelspec": {
   "display_name": "Python 3",
   "language": "python",
   "name": "python3"
  },
  "language_info": {
   "codemirror_mode": {
    "name": "ipython",
    "version": 3
   },
   "file_extension": ".py",
   "mimetype": "text/x-python",
   "name": "python",
   "nbconvert_exporter": "python",
   "pygments_lexer": "ipython3",
   "version": "3.6.5"
  }
 },
 "nbformat": 4,
 "nbformat_minor": 2
}
